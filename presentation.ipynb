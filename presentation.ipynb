{
 "cells": [
  {
   "cell_type": "markdown",
   "id": "9208b6e3",
   "metadata": {},
   "source": [
    "# LINK BETWEEN AIR POLLUTION AND COVID-19 IN ENGLAND"
   ]
  },
  {
   "cell_type": "markdown",
   "id": "2399ad55",
   "metadata": {},
   "source": [
    "## Aim\n",
    "Chronic exposure to air pollution and COVID-19 both lead to respiratory and cardiovascular complications. The aim of the study is to understand if air pollution cotribute to COVID-19 severity.\n",
    "The article performed the analysis at three different levels: regional, subregional and individual. I investigated only the first two because of lack of individual data. "
   ]
  },
  {
   "cell_type": "markdown",
   "id": "f135af5b",
   "metadata": {},
   "source": [
    "## Results\n",
    "### [Regional level](./code/aim1.ipynb): \n",
    "The pollutants of interest are nitrogen oxide and dioxide and ozone. \n",
    "Population density is included as confounder.\n",
    "\n",
    "Multivariate models are considered in this case and the results are the following:\n",
    "- no is significantly associated to the expected number of deaths with a negative sign\n",
    "- no2 and o3 are significantly associated with the expected number of deaths with a positive sign\n",
    "\n",
    "\n",
    "- o3 is not significantly associated with the expected number of cases\n",
    "- no is significantly associated to the expected number of cases with a negative sign\n",
    "- no2 is significantly associated with the expected number of cases with a positive sign\n",
    "\n",
    "### [Subregional level](code/aim2.ipynb): \n",
    "The pollutants of interest are nitrogen oxide, nitrigen dioxide, solfur dioxide, ozone, particulate matter with an aerodynamic diameter < 2.5 μm and < 10.0 μm.\n",
    "\n",
    "Mean annual earnings, median age and population density are included as confounder\n",
    "\n",
    "Univariate model are considered and the results are the following:\n",
    "\n",
    "For the single-year (2018) models:\n",
    "- pm10 and pm25 are not significantly associated with the expected number of deaths\n",
    "- nox, no2 and so2 are significantly associated with the expected number of deaths with a positive sign \n",
    "- o3 is significantly associated with the expected number of deaths with a negative sign\n",
    "\n",
    "\n",
    "- pm10, pm25 and o3 are significantly associated with the expected number of cases with a negative sign\n",
    "- nox, no2 and so2 are significantly associated with the expected number of cases with a positive sign \n",
    "\n",
    "For the 5-years (2014-2018) models:\n",
    "- pm25 and pm10 are not statistically significant\n",
    "- nox and no2 are significantly associated with the expected number of deaths\n",
    "- o3 is significantly associated with the expected number of deaths with a negative sign\n",
    "\n",
    "\n",
    "- pm10, pm25 and o3 are significantly associated with the expected number of cases with a negative sign\n",
    "- nox, no2 and so2 are significantly associated with the expected number of cases with a positive sign "
   ]
  },
  {
   "cell_type": "markdown",
   "id": "07056dda",
   "metadata": {},
   "source": [
    "## Discussion\n",
    "I found the article very interesting and precise. All the data involved were presented in detail and the problem was clearly explained. \n",
    "However, I personally would have done something differently: \n",
    "- in the [regional level analysis](code/aim1.ipynb) I think that fitting a linear model is quite useless. It is clear from the beginning that it could not be a good model because there are just 7 observations.\n",
    "- in the [subregional level analysis](code/aim2.ipynb) only univariate model are considered. I would have analysed a complete model with all the pollutants together. In this way, we could have seen the effect of single pollutants keeping constant the others.  \n",
    "- Pollutants used in the two different levels are not the sames. I would have included also in the regional level models pm10 and pm25.\n",
    "- Solfure dioxide, which turns out to be significant in some subregional analysis, is not even mentioned in the article. I would have included it in all the models.\n",
    "- Performing the analysis in three different levels is in some ways confusing in my opinion. Results are different for different levels and this makes difficult to have a unique and final interpretation. The ozone, as example, is a protective factor for the expected number of deaths at regional and subregional level and for the COVID-19 cases at subregional level but is not significant for the expected number of cases at regional level. I have not performed the individual level analysis but in the articole is mentioned that ozone is not significant at that level.\n",
    "- The negative and significant sign of ozone is explained in the article by saying that \"the negative association between ozone levels and COVID-19 infection and mortality may be attribuite to reduced nitrogen oxide conversion to ozone in urban areas\". I think that if ozone and nitrogen oxide are associated they should be analysed in the same multivariate model. \n",
    "- The last problem I had was related to the creation of [covid_air_dt dataset](\"code/Air_poll_assignment.ipynb\"). Although I have used th author's python code, I get slightly different results in the average 10 nearest pollutants values. "
   ]
  }
 ],
 "metadata": {
  "kernelspec": {
   "display_name": "Python 3",
   "language": "python",
   "name": "python3"
  },
  "language_info": {
   "codemirror_mode": {
    "name": "ipython",
    "version": 3
   },
   "file_extension": ".py",
   "mimetype": "text/x-python",
   "name": "python",
   "nbconvert_exporter": "python",
   "pygments_lexer": "ipython3",
   "version": "3.8.8"
  }
 },
 "nbformat": 4,
 "nbformat_minor": 5
}
