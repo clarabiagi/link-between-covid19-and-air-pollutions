{
 "cells": [
  {
   "cell_type": "markdown",
   "metadata": {},
   "source": [
    "# Output data description"
   ]
  },
  {
   "cell_type": "markdown",
   "metadata": {},
   "source": [
    "Here all the output file in this folder are described and the notebook where they are created is mentioned\n",
    "- [map_cases.html](map_cases.html) : number of cases per region ([reported_cases_map](../Maps/reported_cases_map.ipynb))\n",
    "- [map_deaths.html](map_deaths.html) : number of deaths per region ([reported_deaths_map](../Maps/reported_deaths_map.ipynb))\n",
    "- [map_dioxide.html](map_dioxide.html) : level of nitrogen dioxide per region ([nitrogen_dioxide_map](../Maps/nitrogen_dioxide_map.ipynb))\n",
    "- [map_oxide.html](map_oxide.html) : level of nitrogen oxide per region ([nitroge_oxide_map](../Maps/nitrogen_oxide_map.ipynb))\n",
    "- [map_ozone.html](map_ozone.html) :  level of ozone per region ([ozone_map](../Maps/ozone_map.ipynb))\n",
    "- [regional_cases_models.html](regional_cases_models.html) : negative binomial and Poisson regression model at regional level with number of cases as dependent variable and popilation density, O3, NO2 and NO as dependent ([aim1](../code/aim1.ipynb))\n",
    "- [regional_deaths_models.html](regional_deaths_models.html) : negative binomial and Poisson regression model at regional level with number of deaths as dependent variable and popilation density, O3, NO2 and NO as dependent ([aim1](../code/aim1.ipynb))\n",
    "- [covid_air_dt](covid_air_dt.vsc) : subregion code, median age 2018, mean annual earnings 2018, population density 2018 and value, latitude and longitude of pollutants (p,25, pm20, nox, no2, o3, so2)\n",
    "- [merged_covid_dt](merged_covid_dt.csv) : subregion code and name, mean annual earnings, median age, population density, number of deaths ([aim2](../code/aim2.ipynb))\n",
    "- [negative_binomial_deaths_2018](negative_binomial_deaths_2018.html) : negative binomial regression models at subregional level with number of deaths as dependent variable and single pollutants in 2018 as independent, controlling by population density, median age and mean annual earnings\n",
    "- [LA_covid_DEATHS_onlyPoll_preL_AP2018.csv](LA_covid_DEATHS_onlyPoll_preL_AP2018.csv) : mortality rate with air pollution data for 2018\n",
    "- [mortality_rate_2018](mortality_rate_2018.png) : mortality rate plot with air pollution date for 2018\n",
    "- [negative_binomial_cases_2018](negative_binomial_cases_2018.html) : negative binomial regression models at subregional level with number of cases as dependent variable and single pollutants in 2018 as independent, controlling by population density, median age and mean annual earnings\n",
    "- [LA_covid_CASES_onlyPoll_preL_AP2018.csv](LA_covid_CASES_onlyPoll_preL_AP2018.csv) : infectivity rate with air pollution data for 2018\n",
    "- [infectivity_rate_2018](infectivity_rate_2018.png) : infectivity rate plot with air pollution date for 2018\n",
    "- [ap_dt](ap_dt.csv) : mean value pollutants 2014-2018 and 2018 value\n",
    "- [merged_covid_cov_dt_LL](merged_covid_cov_dt_LA_LL.csv) : subregion deaths, mean annual earning, median age, population density and coordinates (covid_air)\n",
    "- [LA_covid_DEATHS_onlyPoll_5YA](LA_covid_DEATHS_onlyPoll_5YA.csv) : mortality rate with mean air pollution data 2014-2018\n",
    "- [mortality_rate_avg](mortality_rate_avg.png) : mortality rate plot with mean air pollution data 2014-2018\n",
    "- [infectivity_rate_avg](infectivity_rate_avg.png) :  infectivity rate plot with mean air pollution data 2014-2018\n",
    "- [LA_covid_CASES_onlyPoll__5YA](LA_covid_CASES_onlyPoll__5YA.csv) : infectivity rate with mean air pollution data 2014-2018\n",
    "- [covid_air_dt_5YA](covid_air_dt_5YA.csv) : subregion code, deaths, 2018 populaption density, mean annual earnings, meadian age, mean value of the 10 nearest neighbors pollutants for the 2014-2018 mean value\n",
    "- [covid_air_dt](covid_air_dt.csv) : subregion code, deaths, 2018 populaption density, mean annual earnings, meadian age, mean value of the 10 nearest neighbors pollutants \n",
    "- [merged_covid_air_dt_5YA](merged_covid_air_dt_5YA.csv) : subregion code, deaths, 2018 populaption density, mean annual earnings, meadian age, mean value of the 10 nearest neighbors pollutants, 1014-2018 mean population density, age and earnings\n",
    "- [cases_deaths_5YA](cases_deaths_5YA.csv) : subregion code, deaths, 2018 populaption density, mean annual earnings, meadian age, mean value of the 10 nearest neighbors pollutants, mean value for the covariate and cumultive lab-confirmed cases"
   ]
  }
 ],
 "metadata": {
  "kernelspec": {
   "display_name": "Python 3",
   "language": "python",
   "name": "python3"
  },
  "language_info": {
   "codemirror_mode": {
    "name": "ipython",
    "version": 3
   },
   "file_extension": ".py",
   "mimetype": "text/x-python",
   "name": "python",
   "nbconvert_exporter": "python",
   "pygments_lexer": "ipython3",
   "version": "3.8.5"
  }
 },
 "nbformat": 4,
 "nbformat_minor": 4
}
