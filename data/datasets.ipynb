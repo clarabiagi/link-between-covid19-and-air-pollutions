{
 "cells": [
  {
   "cell_type": "markdown",
   "metadata": {},
   "source": [
    "# Dataset description\n",
    "Here a list of all the used datasets (and in which notebook are read) follows \n",
    "- [preL_dt](#preL_dt) (aim1)\n",
    "- [pop_dens](#pop_dens) (aim2)\n",
    "- [earning](#earning) (aim2)\n",
    "- [age](#age) (aim2)\n",
    "- [covid_deaths](#covid_deaths) (aim2)\n",
    "- [merged_covid_dt](#merged_covid_dt) (aim2)\n",
    "- [covid_air_dt](#covid_air_dt) (aim2)\n",
    "- [pm25_df, no2_df, o3_df, pm10_df, so2_df, nox_df](#pollutants) (covid_air_dt)"
   ]
  },
  {
   "cell_type": "code",
   "execution_count": 2,
   "metadata": {},
   "outputs": [],
   "source": [
    "%run conf_files.ipynb"
   ]
  },
  {
   "cell_type": "markdown",
   "metadata": {},
   "source": [
    "##### preL_dt\n",
    "<a id='preL_dt'></a>"
   ]
  },
  {
   "cell_type": "markdown",
   "metadata": {},
   "source": [
    "The dataset preL_dt is the one used for regional level analysis in [aim 1](http://localhost:8888/notebooks/Documents/links%20between%20air%20pollution%20and%20covid19/aim1.ipynb)"
   ]
  },
  {
   "cell_type": "code",
   "execution_count": 3,
   "metadata": {
    "scrolled": true
   },
   "outputs": [
    {
     "data": {
      "text/html": [
       "<div>\n",
       "<style scoped>\n",
       "    .dataframe tbody tr th:only-of-type {\n",
       "        vertical-align: middle;\n",
       "    }\n",
       "\n",
       "    .dataframe tbody tr th {\n",
       "        vertical-align: top;\n",
       "    }\n",
       "\n",
       "    .dataframe thead th {\n",
       "        text-align: right;\n",
       "    }\n",
       "</style>\n",
       "<table border=\"1\" class=\"dataframe\">\n",
       "  <thead>\n",
       "    <tr style=\"text-align: right;\">\n",
       "      <th></th>\n",
       "      <th>Unnamed: 0</th>\n",
       "      <th>Region</th>\n",
       "      <th>cases_preL</th>\n",
       "      <th>deaths_preL</th>\n",
       "      <th>Date_cases</th>\n",
       "      <th>Population_size_2018</th>\n",
       "      <th>Average_Pop_density_personkm2</th>\n",
       "      <th>Cases</th>\n",
       "      <th>Deaths</th>\n",
       "      <th>NO.levels</th>\n",
       "      <th>NO2.levels</th>\n",
       "      <th>O3.levels</th>\n",
       "    </tr>\n",
       "  </thead>\n",
       "  <tbody>\n",
       "    <tr>\n",
       "      <th>0</th>\n",
       "      <td>1</td>\n",
       "      <td>East Of England</td>\n",
       "      <td>5356</td>\n",
       "      <td>746</td>\n",
       "      <td>NaN</td>\n",
       "      <td>6201214</td>\n",
       "      <td>324.0</td>\n",
       "      <td>6499</td>\n",
       "      <td>1448</td>\n",
       "      <td>9.502135</td>\n",
       "      <td>19.553718</td>\n",
       "      <td>54.367479</td>\n",
       "    </tr>\n",
       "    <tr>\n",
       "      <th>1</th>\n",
       "      <td>2</td>\n",
       "      <td>London</td>\n",
       "      <td>16913</td>\n",
       "      <td>2120</td>\n",
       "      <td>NaN</td>\n",
       "      <td>8908081</td>\n",
       "      <td>5666.0</td>\n",
       "      <td>19511</td>\n",
       "      <td>3522</td>\n",
       "      <td>25.193133</td>\n",
       "      <td>38.512520</td>\n",
       "      <td>36.913913</td>\n",
       "    </tr>\n",
       "    <tr>\n",
       "      <th>2</th>\n",
       "      <td>3</td>\n",
       "      <td>Midlands</td>\n",
       "      <td>10501</td>\n",
       "      <td>1491</td>\n",
       "      <td>NaN</td>\n",
       "      <td>10704906</td>\n",
       "      <td>380.5</td>\n",
       "      <td>14844</td>\n",
       "      <td>2684</td>\n",
       "      <td>14.529437</td>\n",
       "      <td>24.119851</td>\n",
       "      <td>47.698892</td>\n",
       "    </tr>\n",
       "    <tr>\n",
       "      <th>3</th>\n",
       "      <td>4</td>\n",
       "      <td>North East And Yorkshire</td>\n",
       "      <td>8004</td>\n",
       "      <td>893</td>\n",
       "      <td>NaN</td>\n",
       "      <td>8137524</td>\n",
       "      <td>333.0</td>\n",
       "      <td>10633</td>\n",
       "      <td>1641</td>\n",
       "      <td>16.501209</td>\n",
       "      <td>25.151394</td>\n",
       "      <td>45.295342</td>\n",
       "    </tr>\n",
       "    <tr>\n",
       "      <th>4</th>\n",
       "      <td>5</td>\n",
       "      <td>North West</td>\n",
       "      <td>9394</td>\n",
       "      <td>847</td>\n",
       "      <td>NaN</td>\n",
       "      <td>7292093</td>\n",
       "      <td>517.0</td>\n",
       "      <td>12093</td>\n",
       "      <td>1801</td>\n",
       "      <td>8.581661</td>\n",
       "      <td>20.062745</td>\n",
       "      <td>48.950810</td>\n",
       "    </tr>\n",
       "  </tbody>\n",
       "</table>\n",
       "</div>"
      ],
      "text/plain": [
       "   Unnamed: 0                    Region  cases_preL  deaths_preL  Date_cases  \\\n",
       "0           1           East Of England        5356          746         NaN   \n",
       "1           2                    London       16913         2120         NaN   \n",
       "2           3                  Midlands       10501         1491         NaN   \n",
       "3           4  North East And Yorkshire        8004          893         NaN   \n",
       "4           5                North West        9394          847         NaN   \n",
       "\n",
       "   Population_size_2018  Average_Pop_density_personkm2  Cases  Deaths  \\\n",
       "0               6201214                          324.0   6499    1448   \n",
       "1               8908081                         5666.0  19511    3522   \n",
       "2              10704906                          380.5  14844    2684   \n",
       "3               8137524                          333.0  10633    1641   \n",
       "4               7292093                          517.0  12093    1801   \n",
       "\n",
       "   NO.levels  NO2.levels  O3.levels  \n",
       "0   9.502135   19.553718  54.367479  \n",
       "1  25.193133   38.512520  36.913913  \n",
       "2  14.529437   24.119851  47.698892  \n",
       "3  16.501209   25.151394  45.295342  \n",
       "4   8.581661   20.062745  48.950810  "
      ]
     },
     "execution_count": 3,
     "metadata": {},
     "output_type": "execute_result"
    }
   ],
   "source": [
    "preL_dt = pd.read_csv(\"%s/26-4-2020_yyAIR_COVID_PRE_LD_dt.csv\" %path)\n",
    "#preL_dt.info()\n",
    "preL_dt.head()"
   ]
  },
  {
   "cell_type": "markdown",
   "metadata": {},
   "source": [
    "The dataset preL_dt contains: \n",
    "- the cumulative numbers of COVID-19 cases ('Cases') and death ('Deaths') count per region un to and including April 8, 2020 \n",
    "- the cumulative numbers of COVID-19 cases ('cases_preL') and death ('deaths_preL') count per region pre Lockdown\n",
    "- the population size ('Population_size_2018') and the average population density ('Average_Pop_density_personkm2') per region\n",
    "- annual mean values of daily measurements for the three major air pollutatnts recorded between 2018 and 2019, that are nitrogen dioxide (NO2.levels), nitrogen oxode ('NO.levels') and ozone ('O3.levels)"
   ]
  },
  {
   "cell_type": "markdown",
   "metadata": {},
   "source": [
    "<a id='pop_dens'></a>\n",
    "##### pop_dens"
   ]
  },
  {
   "cell_type": "code",
   "execution_count": 7,
   "metadata": {},
   "outputs": [
    {
     "data": {
      "text/html": [
       "<div>\n",
       "<style scoped>\n",
       "    .dataframe tbody tr th:only-of-type {\n",
       "        vertical-align: middle;\n",
       "    }\n",
       "\n",
       "    .dataframe tbody tr th {\n",
       "        vertical-align: top;\n",
       "    }\n",
       "\n",
       "    .dataframe thead th {\n",
       "        text-align: right;\n",
       "    }\n",
       "</style>\n",
       "<table border=\"1\" class=\"dataframe\">\n",
       "  <thead>\n",
       "    <tr style=\"text-align: right;\">\n",
       "      <th></th>\n",
       "      <th>Code</th>\n",
       "      <th>2018 people per sq. km</th>\n",
       "    </tr>\n",
       "  </thead>\n",
       "  <tbody>\n",
       "    <tr>\n",
       "      <th>0</th>\n",
       "      <td>E06000047</td>\n",
       "      <td>237</td>\n",
       "    </tr>\n",
       "    <tr>\n",
       "      <th>1</th>\n",
       "      <td>E06000005</td>\n",
       "      <td>540</td>\n",
       "    </tr>\n",
       "    <tr>\n",
       "      <th>2</th>\n",
       "      <td>E06000001</td>\n",
       "      <td>997</td>\n",
       "    </tr>\n",
       "    <tr>\n",
       "      <th>3</th>\n",
       "      <td>E06000002</td>\n",
       "      <td>2,608</td>\n",
       "    </tr>\n",
       "    <tr>\n",
       "      <th>4</th>\n",
       "      <td>E06000057</td>\n",
       "      <td>64</td>\n",
       "    </tr>\n",
       "  </tbody>\n",
       "</table>\n",
       "</div>"
      ],
      "text/plain": [
       "        Code 2018 people per sq. km\n",
       "0  E06000047                    237\n",
       "1  E06000005                    540\n",
       "2  E06000001                    997\n",
       "3  E06000002                  2,608\n",
       "4  E06000057                     64"
      ]
     },
     "execution_count": 7,
     "metadata": {},
     "output_type": "execute_result"
    }
   ],
   "source": [
    "pop_dens = pd.read_csv(\"%s/2018_official_popDensity.csv\" %path)[['Code', '2018 people per sq. km']]\n",
    "#pop_dens.info()\n",
    "pop_dens.head()"
   ]
  },
  {
   "cell_type": "markdown",
   "metadata": {},
   "source": [
    "The dataset pop_dens contains:\n",
    "- the subregion code\n",
    "- the 2018 population density per subregion "
   ]
  },
  {
   "cell_type": "markdown",
   "metadata": {},
   "source": [
    "<a id='earning'></a>\n",
    "##### earning"
   ]
  },
  {
   "cell_type": "code",
   "execution_count": 8,
   "metadata": {},
   "outputs": [
    {
     "data": {
      "text/html": [
       "<div>\n",
       "<style scoped>\n",
       "    .dataframe tbody tr th:only-of-type {\n",
       "        vertical-align: middle;\n",
       "    }\n",
       "\n",
       "    .dataframe tbody tr th {\n",
       "        vertical-align: top;\n",
       "    }\n",
       "\n",
       "    .dataframe thead th {\n",
       "        text-align: right;\n",
       "    }\n",
       "</style>\n",
       "<table border=\"1\" class=\"dataframe\">\n",
       "  <thead>\n",
       "    <tr style=\"text-align: right;\">\n",
       "      <th></th>\n",
       "      <th>Code</th>\n",
       "      <th>Mean_ann_earnings</th>\n",
       "    </tr>\n",
       "  </thead>\n",
       "  <tbody>\n",
       "    <tr>\n",
       "      <th>0</th>\n",
       "      <td>K02000001</td>\n",
       "      <td>29,817</td>\n",
       "    </tr>\n",
       "    <tr>\n",
       "      <th>1</th>\n",
       "      <td>K03000001</td>\n",
       "      <td>29,950</td>\n",
       "    </tr>\n",
       "    <tr>\n",
       "      <th>2</th>\n",
       "      <td>K04000001</td>\n",
       "      <td>30,140</td>\n",
       "    </tr>\n",
       "    <tr>\n",
       "      <th>3</th>\n",
       "      <td>E92000001</td>\n",
       "      <td>30,397</td>\n",
       "    </tr>\n",
       "    <tr>\n",
       "      <th>4</th>\n",
       "      <td>E12000001</td>\n",
       "      <td>25,805</td>\n",
       "    </tr>\n",
       "  </tbody>\n",
       "</table>\n",
       "</div>"
      ],
      "text/plain": [
       "        Code Mean_ann_earnings\n",
       "0  K02000001            29,817\n",
       "1  K03000001            29,950\n",
       "2  K04000001            30,140\n",
       "3  E92000001            30,397\n",
       "4  E12000001            25,805"
      ]
     },
     "execution_count": 8,
     "metadata": {},
     "output_type": "execute_result"
    }
   ],
   "source": [
    "earning = pd.read_csv(\"%s/ann_earning_2018_perLA.csv\" %path)[[\"Code\",\"Mean_ann_earnings\"]]\n",
    "#earning.info()\n",
    "earning.head()"
   ]
  },
  {
   "cell_type": "markdown",
   "metadata": {},
   "source": [
    "The dataset earning contains:\n",
    "- the subregion code\n",
    "- the 2018 mean annual earning"
   ]
  },
  {
   "cell_type": "markdown",
   "metadata": {},
   "source": [
    "<a id='age'></a>\n",
    "##### age"
   ]
  },
  {
   "cell_type": "code",
   "execution_count": 13,
   "metadata": {},
   "outputs": [
    {
     "data": {
      "text/html": [
       "<div>\n",
       "<style scoped>\n",
       "    .dataframe tbody tr th:only-of-type {\n",
       "        vertical-align: middle;\n",
       "    }\n",
       "\n",
       "    .dataframe tbody tr th {\n",
       "        vertical-align: top;\n",
       "    }\n",
       "\n",
       "    .dataframe thead th {\n",
       "        text-align: right;\n",
       "    }\n",
       "</style>\n",
       "<table border=\"1\" class=\"dataframe\">\n",
       "  <thead>\n",
       "    <tr style=\"text-align: right;\">\n",
       "      <th></th>\n",
       "      <th>Code</th>\n",
       "      <th>median_age_2018</th>\n",
       "      <th>Name</th>\n",
       "    </tr>\n",
       "  </thead>\n",
       "  <tbody>\n",
       "    <tr>\n",
       "      <th>0</th>\n",
       "      <td>K02000001</td>\n",
       "      <td>40.1</td>\n",
       "      <td>UNITED KINGDOM</td>\n",
       "    </tr>\n",
       "    <tr>\n",
       "      <th>1</th>\n",
       "      <td>K03000001</td>\n",
       "      <td>40.2</td>\n",
       "      <td>GREAT BRITAIN</td>\n",
       "    </tr>\n",
       "    <tr>\n",
       "      <th>2</th>\n",
       "      <td>K04000001</td>\n",
       "      <td>40.0</td>\n",
       "      <td>ENGLAND AND WALES</td>\n",
       "    </tr>\n",
       "    <tr>\n",
       "      <th>3</th>\n",
       "      <td>E92000001</td>\n",
       "      <td>39.9</td>\n",
       "      <td>ENGLAND</td>\n",
       "    </tr>\n",
       "    <tr>\n",
       "      <th>4</th>\n",
       "      <td>E12000001</td>\n",
       "      <td>41.8</td>\n",
       "      <td>NORTH EAST</td>\n",
       "    </tr>\n",
       "  </tbody>\n",
       "</table>\n",
       "</div>"
      ],
      "text/plain": [
       "        Code  median_age_2018               Name\n",
       "0  K02000001             40.1     UNITED KINGDOM\n",
       "1  K03000001             40.2      GREAT BRITAIN\n",
       "2  K04000001             40.0  ENGLAND AND WALES\n",
       "3  E92000001             39.9            ENGLAND\n",
       "4  E12000001             41.8         NORTH EAST"
      ]
     },
     "execution_count": 13,
     "metadata": {},
     "output_type": "execute_result"
    }
   ],
   "source": [
    "age = pd.read_csv(\"%s/processed_median_age_of_population_perLA.csv\" %path)[[\"Code\",\"median_age_2018\",\"Name\"]]\n",
    "#age.info()\n",
    "age.head()"
   ]
  },
  {
   "cell_type": "markdown",
   "metadata": {},
   "source": [
    "The dataset age contains:\n",
    "- the subregion code\n",
    "- the subregion name\n",
    "- the 2018 median age "
   ]
  },
  {
   "cell_type": "markdown",
   "metadata": {},
   "source": [
    "<a id='covid_deaths'></a>\n",
    "##### covid_deaths"
   ]
  },
  {
   "cell_type": "code",
   "execution_count": 12,
   "metadata": {
    "scrolled": true
   },
   "outputs": [
    {
     "data": {
      "text/html": [
       "<div>\n",
       "<style scoped>\n",
       "    .dataframe tbody tr th:only-of-type {\n",
       "        vertical-align: middle;\n",
       "    }\n",
       "\n",
       "    .dataframe tbody tr th {\n",
       "        vertical-align: top;\n",
       "    }\n",
       "\n",
       "    .dataframe thead th {\n",
       "        text-align: right;\n",
       "    }\n",
       "</style>\n",
       "<table border=\"1\" class=\"dataframe\">\n",
       "  <thead>\n",
       "    <tr style=\"text-align: right;\">\n",
       "      <th></th>\n",
       "      <th>Area code</th>\n",
       "      <th>Area name</th>\n",
       "      <th>Home</th>\n",
       "      <th>Hospital</th>\n",
       "      <th>Care home</th>\n",
       "      <th>Hospice</th>\n",
       "      <th>Other communal establishment</th>\n",
       "      <th>Elsewhere</th>\n",
       "    </tr>\n",
       "  </thead>\n",
       "  <tbody>\n",
       "    <tr>\n",
       "      <th>0</th>\n",
       "      <td>E06000001</td>\n",
       "      <td>Hartlepool</td>\n",
       "      <td>1</td>\n",
       "      <td>14</td>\n",
       "      <td>5</td>\n",
       "      <td>0</td>\n",
       "      <td>0</td>\n",
       "      <td>0</td>\n",
       "    </tr>\n",
       "    <tr>\n",
       "      <th>1</th>\n",
       "      <td>E06000002</td>\n",
       "      <td>Middlesbrough</td>\n",
       "      <td>1</td>\n",
       "      <td>49</td>\n",
       "      <td>10</td>\n",
       "      <td>0</td>\n",
       "      <td>0</td>\n",
       "      <td>0</td>\n",
       "    </tr>\n",
       "    <tr>\n",
       "      <th>2</th>\n",
       "      <td>E06000003</td>\n",
       "      <td>Redcar and Cleveland</td>\n",
       "      <td>1</td>\n",
       "      <td>22</td>\n",
       "      <td>2</td>\n",
       "      <td>0</td>\n",
       "      <td>0</td>\n",
       "      <td>1</td>\n",
       "    </tr>\n",
       "    <tr>\n",
       "      <th>3</th>\n",
       "      <td>E06000004</td>\n",
       "      <td>Stockton-on-Tees</td>\n",
       "      <td>3</td>\n",
       "      <td>19</td>\n",
       "      <td>4</td>\n",
       "      <td>0</td>\n",
       "      <td>0</td>\n",
       "      <td>0</td>\n",
       "    </tr>\n",
       "    <tr>\n",
       "      <th>4</th>\n",
       "      <td>E06000005</td>\n",
       "      <td>Darlington</td>\n",
       "      <td>0</td>\n",
       "      <td>12</td>\n",
       "      <td>2</td>\n",
       "      <td>0</td>\n",
       "      <td>0</td>\n",
       "      <td>0</td>\n",
       "    </tr>\n",
       "  </tbody>\n",
       "</table>\n",
       "</div>"
      ],
      "text/plain": [
       "   Area code             Area name  Home  Hospital  Care home  Hospice  \\\n",
       "0  E06000001            Hartlepool     1        14          5        0   \n",
       "1  E06000002         Middlesbrough     1        49         10        0   \n",
       "2  E06000003  Redcar and Cleveland     1        22          2        0   \n",
       "3  E06000004      Stockton-on-Tees     3        19          4        0   \n",
       "4  E06000005            Darlington     0        12          2        0   \n",
       "\n",
       "   Other communal establishment  Elsewhere  \n",
       "0                             0          0  \n",
       "1                             0          0  \n",
       "2                             0          1  \n",
       "3                             0          0  \n",
       "4                             0          0  "
      ]
     },
     "execution_count": 12,
     "metadata": {},
     "output_type": "execute_result"
    }
   ],
   "source": [
    "covid_deaths = pd.read_csv(\"%s/covid_deaths_until10April_byAreaCode.csv\" %path)\n",
    "#covid_deaths.info()\n",
    "covid_deaths.head()"
   ]
  },
  {
   "cell_type": "markdown",
   "metadata": {},
   "source": [
    "The covid_deaths dataset contains:\n",
    "- the area code\n",
    "- the area name\n",
    "- number of covid deaths at home\n",
    "- number of covid deaths at the hospital\n",
    "- number of covid deaths at a care home\n",
    "- number of covid deaths at the hospice\n",
    "- number of covid deaths in other communal establishment\n",
    "- number of covid deaths elsewhere\n",
    "\n",
    "After some manipulations made in the [aim 2](http://localhost:8888/notebooks/Documents/links%20between%20air%20pollution%20and%20covid19/aim2.ipynb) the final covid_deaths (actually used in the analysis) contains\n",
    "- the area code\n",
    "- the total number of covid deaths, obtained by summuning the covid deaths in every location"
   ]
  },
  {
   "cell_type": "markdown",
   "metadata": {},
   "source": [
    "<a id='merged_covid_dt'></a>\n",
    "##### merged_covid_dt"
   ]
  },
  {
   "cell_type": "code",
   "execution_count": 4,
   "metadata": {},
   "outputs": [
    {
     "data": {
      "text/html": [
       "<div>\n",
       "<style scoped>\n",
       "    .dataframe tbody tr th:only-of-type {\n",
       "        vertical-align: middle;\n",
       "    }\n",
       "\n",
       "    .dataframe tbody tr th {\n",
       "        vertical-align: top;\n",
       "    }\n",
       "\n",
       "    .dataframe thead th {\n",
       "        text-align: right;\n",
       "    }\n",
       "</style>\n",
       "<table border=\"1\" class=\"dataframe\">\n",
       "  <thead>\n",
       "    <tr style=\"text-align: right;\">\n",
       "      <th></th>\n",
       "      <th>Unnamed: 0</th>\n",
       "      <th>Code</th>\n",
       "      <th>Mean_ann_earnings</th>\n",
       "      <th>median_age_2018</th>\n",
       "      <th>Name</th>\n",
       "      <th>2018 people per sq. km</th>\n",
       "      <th>deaths</th>\n",
       "    </tr>\n",
       "  </thead>\n",
       "  <tbody>\n",
       "    <tr>\n",
       "      <th>0</th>\n",
       "      <td>0</td>\n",
       "      <td>E06000005</td>\n",
       "      <td>540</td>\n",
       "      <td>43.1</td>\n",
       "      <td>Darlington</td>\n",
       "      <td>540</td>\n",
       "      <td>14</td>\n",
       "    </tr>\n",
       "    <tr>\n",
       "      <th>1</th>\n",
       "      <td>1</td>\n",
       "      <td>E06000001</td>\n",
       "      <td>997</td>\n",
       "      <td>41.8</td>\n",
       "      <td>Hartlepool</td>\n",
       "      <td>997</td>\n",
       "      <td>20</td>\n",
       "    </tr>\n",
       "    <tr>\n",
       "      <th>2</th>\n",
       "      <td>2</td>\n",
       "      <td>E06000002</td>\n",
       "      <td>2608</td>\n",
       "      <td>36.2</td>\n",
       "      <td>Middlesbrough</td>\n",
       "      <td>2608</td>\n",
       "      <td>60</td>\n",
       "    </tr>\n",
       "    <tr>\n",
       "      <th>3</th>\n",
       "      <td>3</td>\n",
       "      <td>E06000003</td>\n",
       "      <td>558</td>\n",
       "      <td>45.0</td>\n",
       "      <td>Redcar and Cleveland</td>\n",
       "      <td>558</td>\n",
       "      <td>26</td>\n",
       "    </tr>\n",
       "    <tr>\n",
       "      <th>4</th>\n",
       "      <td>4</td>\n",
       "      <td>E06000004</td>\n",
       "      <td>962</td>\n",
       "      <td>40.4</td>\n",
       "      <td>Stockton-on-Tees</td>\n",
       "      <td>962</td>\n",
       "      <td>26</td>\n",
       "    </tr>\n",
       "  </tbody>\n",
       "</table>\n",
       "</div>"
      ],
      "text/plain": [
       "   Unnamed: 0       Code  Mean_ann_earnings  median_age_2018  \\\n",
       "0           0  E06000005                540             43.1   \n",
       "1           1  E06000001                997             41.8   \n",
       "2           2  E06000002               2608             36.2   \n",
       "3           3  E06000003                558             45.0   \n",
       "4           4  E06000004                962             40.4   \n",
       "\n",
       "                   Name  2018 people per sq. km  deaths  \n",
       "0            Darlington                     540      14  \n",
       "1            Hartlepool                     997      20  \n",
       "2         Middlesbrough                    2608      60  \n",
       "3  Redcar and Cleveland                     558      26  \n",
       "4      Stockton-on-Tees                     962      26  "
      ]
     },
     "execution_count": 4,
     "metadata": {},
     "output_type": "execute_result"
    }
   ],
   "source": [
    "merged_covid_dt = pd.read_csv(\"./data_out/merged_covid_dt.csv\")\n",
    "#merged_covid_dt.info()\n",
    "merged_covid_dt.head()"
   ]
  },
  {
   "cell_type": "markdown",
   "metadata": {},
   "source": [
    "The merged_covid_dt is obtained by merging the [covid_deaths](#covid_deaths), [age](#age), [pop_dens](#pop_dens) and [earning](#earning) datasets. It contains:\n",
    "- the area code\n",
    "- the 2018 mean annual earning\n",
    "- the 2018 median age\n",
    "- the area name\n",
    "- the 2018 population density"
   ]
  },
  {
   "cell_type": "markdown",
   "metadata": {},
   "source": [
    "<a id='covid_air_dt'></a>\n",
    "##### covid_air_dt"
   ]
  },
  {
   "cell_type": "code",
   "execution_count": 8,
   "metadata": {},
   "outputs": [
    {
     "data": {
      "text/plain": [
       "Index(['Unnamed: 0', 'Code', 'deaths', 'X2018.people.per.sq..km',\n",
       "       'Mean_ann_earnings', 'median_age_2018', 'lat', 'lon', 'pm25_lon',\n",
       "       'pm25_lat', 'pm25_val', 'no2_lon', 'no2_lat', 'no2_val', 'o3_lon',\n",
       "       'o3_lat', 'o3_val', 'pm10_lon', 'pm10_lat', 'pm10_val', 'so2_lon',\n",
       "       'so2_lat', 'so2_val', 'nox_lon', 'nox_lat', 'nox_val'],\n",
       "      dtype='object')"
      ]
     },
     "execution_count": 8,
     "metadata": {},
     "output_type": "execute_result"
    }
   ],
   "source": [
    "covid_air_dt = pd.read_csv(\"%s/merged_covidAir_cov_dt_LA.csv\" %path_output, na_values='x')\n",
    "#covid_air_dt.info()\n",
    "covid_air_dt.columns"
   ]
  },
  {
   "cell_type": "markdown",
   "metadata": {},
   "source": [
    "The covid_air_dt dataset contains informations about \n",
    "- the subregion code\n",
    "- the subregion latitude and longitude\n",
    "- cumulative number of deaths\n",
    "- the 2018 population density\n",
    "- the 2018 mean annual earning\n",
    "- the 2018 median age\n",
    "- value, longitude and latitude of all pollutants:\n",
    "    - particular matter with an aerodynamic diameter < 2.5 μm (pm25)\n",
    "    - particular matter with an aerodynamic diameter < 10.0 μm (pm10)\n",
    "    - ozone (O3)\n",
    "    - nitrogen dioxide (NO2)\n",
    "    - Sulfur dioxide (SO2)\n",
    "    - nitrogen oxides (NOX)\n",
    "    \n",
    "    \n",
    "    \n",
    "    "
   ]
  },
  {
   "cell_type": "markdown",
   "metadata": {},
   "source": [
    "<a id='pollutants'></a>\n",
    "##### pm25_df, no2_df, o3_df, pm10_df, so2_df, nox_df"
   ]
  },
  {
   "cell_type": "code",
   "execution_count": 6,
   "metadata": {},
   "outputs": [
    {
     "data": {
      "text/html": [
       "<div>\n",
       "<style scoped>\n",
       "    .dataframe tbody tr th:only-of-type {\n",
       "        vertical-align: middle;\n",
       "    }\n",
       "\n",
       "    .dataframe tbody tr th {\n",
       "        vertical-align: top;\n",
       "    }\n",
       "\n",
       "    .dataframe thead th {\n",
       "        text-align: right;\n",
       "    }\n",
       "</style>\n",
       "<table border=\"1\" class=\"dataframe\">\n",
       "  <thead>\n",
       "    <tr style=\"text-align: right;\">\n",
       "      <th></th>\n",
       "      <th>pm25_lon</th>\n",
       "      <th>pm25_lat</th>\n",
       "      <th>pm25_val</th>\n",
       "    </tr>\n",
       "  </thead>\n",
       "  <tbody>\n",
       "    <tr>\n",
       "      <th>0</th>\n",
       "      <td>-0.888372</td>\n",
       "      <td>60.853691</td>\n",
       "      <td>2.994053</td>\n",
       "    </tr>\n",
       "    <tr>\n",
       "      <th>1</th>\n",
       "      <td>-0.907079</td>\n",
       "      <td>60.844866</td>\n",
       "      <td>2.988176</td>\n",
       "    </tr>\n",
       "    <tr>\n",
       "      <th>2</th>\n",
       "      <td>-0.888684</td>\n",
       "      <td>60.844715</td>\n",
       "      <td>2.995678</td>\n",
       "    </tr>\n",
       "    <tr>\n",
       "      <th>3</th>\n",
       "      <td>-0.870288</td>\n",
       "      <td>60.844562</td>\n",
       "      <td>2.996176</td>\n",
       "    </tr>\n",
       "    <tr>\n",
       "      <th>4</th>\n",
       "      <td>-0.851893</td>\n",
       "      <td>60.844406</td>\n",
       "      <td>2.997217</td>\n",
       "    </tr>\n",
       "  </tbody>\n",
       "</table>\n",
       "</div>"
      ],
      "text/plain": [
       "   pm25_lon   pm25_lat  pm25_val\n",
       "0 -0.888372  60.853691  2.994053\n",
       "1 -0.907079  60.844866  2.988176\n",
       "2 -0.888684  60.844715  2.995678\n",
       "3 -0.870288  60.844562  2.996176\n",
       "4 -0.851893  60.844406  2.997217"
      ]
     },
     "execution_count": 6,
     "metadata": {},
     "output_type": "execute_result"
    }
   ],
   "source": [
    "pm25_df = pd.read_csv(\"%s/processed_pm25_lonlat.csv\" %path, usecols=['pm25_lon','pm25_lat','pm25_val'])\n",
    "no2_df = pd.read_csv('%s/processed_no2_lonlat.csv' %path, usecols = ['no2_lon','no2_lat','no2_val'])\n",
    "o3_df = pd.read_csv('%s/processed_o3_lonlat.csv' %path, usecols = ['o3_lon','o3_lat','o3_val'])\n",
    "pm10_df = pd.read_csv('%s/processed_pm10_lonlat.csv' %path, usecols = ['pm10_lon','pm10_lat','pm10_val'])\n",
    "so2_df = pd.read_csv('%s/processed_so2_lonlat.csv' %path, usecols = ['so2_lon','so2_lat','so2_val'])\n",
    "nox_df = pd.read_csv('%s/processed_nox_lonlat.csv' %path, usecols = ['nox_lon','nox_lat','nox_val'])\n",
    "pm25_df.head()"
   ]
  },
  {
   "cell_type": "markdown",
   "metadata": {},
   "source": [
    "These dataset contain:\n",
    "- the pollutant's value\n",
    "- the correspondent longitude and latitude\n",
    "\n",
    "They are only used to build the covid_air_dt dataset"
   ]
  }
 ],
 "metadata": {
  "kernelspec": {
   "display_name": "Python 3",
   "language": "python",
   "name": "python3"
  },
  "language_info": {
   "codemirror_mode": {
    "name": "ipython",
    "version": 3
   },
   "file_extension": ".py",
   "mimetype": "text/x-python",
   "name": "python",
   "nbconvert_exporter": "python",
   "pygments_lexer": "ipython3",
   "version": "3.8.5"
  }
 },
 "nbformat": 4,
 "nbformat_minor": 4
}
