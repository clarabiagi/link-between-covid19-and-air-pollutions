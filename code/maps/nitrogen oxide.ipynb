{
 "cells": [
  {
   "cell_type": "code",
   "execution_count": null,
   "metadata": {},
   "outputs": [],
   "source": [
    "%run conf_files.ipynb"
   ]
  },
  {
   "cell_type": "code",
   "execution_count": null,
   "metadata": {},
   "outputs": [],
   "source": [
    "#Import Statements\n",
    "\n",
    "import plotly\n",
    "import plotly.express as px\n",
    "import pandas as pd\n",
    "import json\n"
   ]
  },
  {
   "cell_type": "code",
   "execution_count": null,
   "metadata": {},
   "outputs": [],
   "source": [
    "england = open(\"./Data/NHS_England_Regions_(April_2020)_Boundaries_EN_BFC.geojson\", \"r\")\n",
    "england = england.read()\n",
    "england = json.loads(england)\n",
    "preL_dt = pd.read_csv(\"%s/26-4-2020_yyAIR_COVID_PRE_LD_dt.csv\" %path)"
   ]
  },
  {
   "cell_type": "code",
   "execution_count": null,
   "metadata": {},
   "outputs": [],
   "source": [
    "preL_dt.loc[preL_dt['Region'] =='East Of England','Region'] = 'East of England'\n",
    "preL_dt.loc[preL_dt['Region'] =='North East And Yorkshire','Region'] = 'North East and Yorkshire'\n"
   ]
  },
  {
   "cell_type": "code",
   "execution_count": null,
   "metadata": {},
   "outputs": [],
   "source": [
    "area={}\n",
    "for feature in england['features']:\n",
    "    feature['id']=feature['properties']['objectid']\n",
    "    area[feature['properties']['nhser20nm']]=feature['id']\n",
    "\n",
    "preL_dt['id']=preL_dt['Region'].apply(lambda x: area[x])"
   ]
  },
  {
   "cell_type": "code",
   "execution_count": null,
   "metadata": {},
   "outputs": [],
   "source": [
    "fig_oxide = px.choropleth_mapbox(preL_dt, \n",
    "                           locations=\"id\", \n",
    "                           featureidkey='properties.objectid', \n",
    "                           geojson=england, color='NO.levels', \n",
    "                           hover_name='Region', \n",
    "                           mapbox_style='white-bg', \n",
    "                           zoom=4.5, \n",
    "                           center = {\"lat\": 53, \"lon\": 0},\n",
    "                          color_continuous_scale = 'blues',\n",
    "                          title = 'Nitrogen oxide')\n",
    "fig_oxide.show()\n",
    "plotly.offline.plot(fig_oxide, filename='./data_out/map_oxide.html')"
   ]
  }
 ],
 "metadata": {
  "kernelspec": {
   "display_name": "Python 3",
   "language": "python",
   "name": "python3"
  },
  "language_info": {
   "codemirror_mode": {
    "name": "ipython",
    "version": 3
   },
   "file_extension": ".py",
   "mimetype": "text/x-python",
   "name": "python",
   "nbconvert_exporter": "python",
   "pygments_lexer": "ipython3",
   "version": "3.8.5"
  }
 },
 "nbformat": 4,
 "nbformat_minor": 4
}
