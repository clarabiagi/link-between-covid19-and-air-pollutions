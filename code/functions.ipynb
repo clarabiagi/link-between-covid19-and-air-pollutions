{
 "cells": [
  {
   "cell_type": "markdown",
   "metadata": {},
   "source": [
    "### Creation of the functions"
   ]
  },
  {
   "cell_type": "code",
   "execution_count": 6,
   "metadata": {},
   "outputs": [],
   "source": [
    "%run conf_files.ipynb"
   ]
  },
  {
   "cell_type": "markdown",
   "metadata": {},
   "source": [
    "To let Geocode work the API key is needed, to allow the usage of Google Maps"
   ]
  },
  {
   "cell_type": "code",
   "execution_count": 7,
   "metadata": {},
   "outputs": [],
   "source": [
    "key = 'd1dca54adaf64d419fa1a6a6efef0e43'\n",
    "geocoder = OpenCageGeocode(key)"
   ]
  },
  {
   "cell_type": "markdown",
   "metadata": {},
   "source": [
    "<a id='get_nearest'></a>\n",
    "### get_nearest\n",
    "This function search in a set of candidates points the 10 nearest neighbors for all source points.\n",
    "First, it creastes a BallTree with the candidates points.\n",
    "Then, it search for the 10 nearest points (in the candidate tree) for each element in the source points and save the relative distance and indice.\n",
    "It returns the radius (the biggest distance) and the 10 nearest indices"
   ]
  },
  {
   "cell_type": "code",
   "execution_count": null,
   "metadata": {},
   "outputs": [],
   "source": [
    "def get_nearest(src_points, candidates, k_neighbors=10):\n",
    "    \"\"\"Find nearest neighbors for all source points from a set of candidate points\"\"\"\n",
    "\n",
    "    # Create tree from the candidate points\n",
    "    tree = BallTree(candidates, leaf_size=15, metric='haversine')\n",
    "\n",
    "    # Find closest points and distances\n",
    "    # return the nearest points in the tree at the input points src_points.\n",
    "    # for each point in src_points I get a list of 10 indices and a list of 10 distances\n",
    "    distances, indices = tree.query(src_points, k=k_neighbors)\n",
    "\n",
    "    # Transpose to get distances and indices into arrays\n",
    "    distances = distances.transpose()\n",
    "    indices = indices.transpose()\n",
    "    radius = distances[9]#the higher distance\n",
    "\n",
    "    # Get closest indices and distances (i.e. array at index 0)\n",
    "    # note: for the second closest points, you would take index 1, etc.\n",
    "    closest0 = indices[0]    \n",
    "    closest1 = indices[1]\n",
    "    closest2 = indices[2]\n",
    "    closest3 = indices[3]\n",
    "    closest4 = indices[4]\n",
    "    closest5 = indices[5]\n",
    "    closest6 = indices[6]\n",
    "    closest7 = indices[7]\n",
    "    closest8 = indices[8]\n",
    "    closest9 = indices[9]\n",
    "    #return (closest9)\n",
    "    # Return indices and distances\n",
    "    return (radius, closest0, closest1,closest2,closest3,closest4,closest5,closest6,closest7,closest8,closest9)"
   ]
  },
  {
   "cell_type": "markdown",
   "metadata": {},
   "source": [
    "<a id='nearest_neighbor'></a>\n",
    "##### nearest_neighbor\n",
    "This function return the mean value of the 10 nearest neighbors of each point in the left_gdf, searching in the right_gdf.\n",
    "\n",
    "In detail:\n",
    "- it take two GeoDataFrame as input\n",
    "- it compute the radius for each of them, based on the coordinates: create a list of left_radians and right radians\n",
    "- search in the right_radians the 10 nearest neighbors for each of the left_radians\n",
    "- compute the mean of the 10 nearest neighbors for each right_radians\n",
    "- if return_dist=True: the higer distance (of the 10th neighbors) is returned"
   ]
  },
  {
   "cell_type": "code",
   "execution_count": 1,
   "metadata": {},
   "outputs": [],
   "source": [
    "def nearest_neighbor(left_gdf, right_gdf, return_dist=False):\n",
    "    \"\"\"\n",
    "    For each point in left_gdf, find closest point in right GeoDataFrame and return them.\n",
    "\n",
    "    NOTICE: Assumes that the input Points are in WGS84 projection (lat/lon).\n",
    "    \"\"\"\n",
    "\n",
    "    left_geom_col = left_gdf.geometry.name #return 'geometry'\n",
    "    right_geom_col = right_gdf.geometry.name #return 'geometry'\n",
    "\n",
    "    # Ensure that index in right gdf is formed of sequential numbers\n",
    "    right = right_gdf.copy().reset_index(drop=True) #copy the right_gdf into right with the default integer index\n",
    "\n",
    "    # Parse coordinates from points and insert them into a numpy array as RADIANS\n",
    "    # apply transoframtion to the 'geometry' columns in both righe and left datasets and put the result into \n",
    "    #left_radians / right_radians (array with a list of couples)\n",
    "    left_radians = np.array(left_gdf[left_geom_col].apply(lambda geom: (geom.x * np.pi / 180, geom.y * np.pi / 180)).to_list())\n",
    "    right_radians = np.array(right[right_geom_col].apply(lambda geom: (geom.x * np.pi / 180, geom.y * np.pi / 180)).to_list())\n",
    "\n",
    "    # Find the nearest points\n",
    "    # -----------------------\n",
    "    # closest ==> index in right_gdf that corresponds to the closest point\n",
    "    # dist ==> distance between the nearest neighbors (in meters)\n",
    "\n",
    "    radius, closest, closest1,closest2,closest3,closest4,closest5,closest6,closest7,closest8,closest9 = get_nearest(src_points=left_radians, candidates=right_radians)\n",
    "    # Return points from right GeoDataFrame that are closest to points in left GeoDataFrame\n",
    "    #this gives the biggest distance (the 10th) between each point in left_radians and right radians.\n",
    "    #also gives the 10 value for the 10 nearest neighbors.\n",
    "    closest_points = right.loc[closest].reset_index(drop=True) # for each record in covid_gpd I get the nearest pollutants value\n",
    "    closest_points1 = right.loc[closest1].reset_index(drop=True) # for each record in covid_gpd I get the second nearest pollutants value\n",
    "    closest_points2 = right.loc[closest2].reset_index(drop=True)\n",
    "    closest_points3 = right.loc[closest3].reset_index(drop=True)\n",
    "    closest_points4 = right.loc[closest4].reset_index(drop=True)\n",
    "    closest_points5 = right.loc[closest5].reset_index(drop=True)\n",
    "    closest_points6 = right.loc[closest6].reset_index(drop=True)\n",
    "    closest_points7 = right.loc[closest7].reset_index(drop=True)\n",
    "    closest_points8 = right.loc[closest8].reset_index(drop=True)\n",
    "    closest_points9 = right.loc[closest9].reset_index(drop=True)\n",
    "    \n",
    "    df_to_agg = pd.concat([closest_points, closest_points1,\n",
    "                          closest_points2,\n",
    "                          closest_points3,\n",
    "                          closest_points4,\n",
    "                          closest_points5,\n",
    "                          closest_points6,\n",
    "                          closest_points7,\n",
    "                          closest_points8,\n",
    "                          closest_points9]) # create a df with all the 10 nearest pollutants\n",
    "# first 334 rows: 1 nearest neighbors\n",
    "# second 334 rows: 2 nearest neighbors\n",
    "# ... \n",
    "    df_to_agg = df_to_agg.drop(columns = ['geometry']) # delete the 'geometry' column\n",
    "    df_agg = df_to_agg.groupby(df_to_agg.index).agg('mean') # take the mean of all the records indexed by 0, i.e. all the 10 nearest neighbors to a certain subregion\n",
    "    \n",
    "    # Add distance if requested\n",
    "    if return_dist:\n",
    "        # Convert to meters from radians\n",
    "        earth_radius = 6371000  # meters\n",
    "        df_agg['radius'] = radius * earth_radius\n",
    "\n",
    "    merged_gpd = left_gdf.join(df_agg)\n",
    "    return merged_gpd"
   ]
  },
  {
   "cell_type": "markdown",
   "metadata": {},
   "source": [
    "<a id='to_gdp_air_dt'></a>\n",
    "##### to_gdp_air_dt\n",
    "This function convert a dataFrame into a GeoDataFrame, which is  a pandas.DataFrame that has a column with geometry (long and lat)"
   ]
  },
  {
   "cell_type": "code",
   "execution_count": null,
   "metadata": {},
   "outputs": [],
   "source": [
    "def to_gpd_air_dt(input_df):\n",
    "    '''\n",
    "    from pd to gpd \n",
    "    the input datasets must be lon, lat, val\n",
    "    '''\n",
    "    out_gpd = gpd.GeoDataFrame(\n",
    "    input_df, geometry=gpd.points_from_xy(input_df.iloc[:,0], input_df.iloc[:,1]))\n",
    "    return(out_gpd)"
   ]
  }
 ],
 "metadata": {
  "kernelspec": {
   "display_name": "Python 3",
   "language": "python",
   "name": "python3"
  },
  "language_info": {
   "codemirror_mode": {
    "name": "ipython",
    "version": 3
   },
   "file_extension": ".py",
   "mimetype": "text/x-python",
   "name": "python",
   "nbconvert_exporter": "python",
   "pygments_lexer": "ipython3",
   "version": "3.8.5"
  }
 },
 "nbformat": 4,
 "nbformat_minor": 4
}
