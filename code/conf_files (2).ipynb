{
 "cells": [
  {
   "cell_type": "markdown",
   "metadata": {},
   "source": [
    "## libraries needed"
   ]
  },
  {
   "cell_type": "code",
   "execution_count": 1,
   "metadata": {},
   "outputs": [],
   "source": [
    "#import sys\n",
    "#! conda install stargazer\n",
    "import pandas as pd\n",
    "import seaborn as sns\n",
    "import matplotlib.pyplot as plt\n",
    "from sklearn.preprocessing import StandardScaler #to standardize\n",
    "import statsmodels.formula.api as smf #to use generalized lienear models\n",
    "import statsmodels.api as sm #to fit models\n",
    "import numpy as np\n",
    "from functools import reduce\n",
    "from statsmodels.stats.outliers_influence import variance_inflation_factor\n",
    "from patsy import dmatrices\n",
    "from stargazer.stargazer import Stargazer\n",
    "from opencage.geocoder import OpenCageGeocode #to generate lat and long \n",
    "from sklearn.neighbors import BallTree #to implement get_nearest\n",
    "import geopandas as gpd"
   ]
  },
  {
   "cell_type": "markdown",
   "metadata": {},
   "source": [
    "## path"
   ]
  },
  {
   "cell_type": "code",
   "execution_count": 1,
   "metadata": {},
   "outputs": [],
   "source": [
    "path = \"https://raw.githubusercontent.com/M1gus/AirPollutionCOVID19/gh-pages/data\"\n",
    "path_output = \"https://raw.githubusercontent.com/M1gus/AirPollutionCOVID19/gh-pages/data_output\"\n",
    "path_out = \"./data_out\""
   ]
  }
 ],
 "metadata": {
  "kernelspec": {
   "display_name": "Python 3",
   "language": "python",
   "name": "python3"
  },
  "language_info": {
   "codemirror_mode": {
    "name": "ipython",
    "version": 3
   },
   "file_extension": ".py",
   "mimetype": "text/x-python",
   "name": "python",
   "nbconvert_exporter": "python",
   "pygments_lexer": "ipython3",
   "version": "3.8.5"
  }
 },
 "nbformat": 4,
 "nbformat_minor": 4
}
