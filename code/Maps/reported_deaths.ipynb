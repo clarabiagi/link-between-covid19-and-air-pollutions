{
 "cells": [
  {
   "cell_type": "markdown",
   "metadata": {},
   "source": [
    "### Reported deaths map"
   ]
  },
  {
   "cell_type": "markdown",
   "metadata": {},
   "source": [
    "Import the needed modules and paths"
   ]
  },
  {
   "cell_type": "code",
   "execution_count": 2,
   "metadata": {},
   "outputs": [],
   "source": [
    "%run ../code/conf_files.ipynb"
   ]
  },
  {
   "cell_type": "markdown",
   "metadata": {},
   "source": [
    "Read the [geojson dataset](../Data/datasets.ipynb#eng) (with the geometry) and the [preL_dt](..Data/datasets.ipynb#preL_dt) (with the information about reported deaths that I want to map)"
   ]
  },
  {
   "cell_type": "code",
   "execution_count": 3,
   "metadata": {},
   "outputs": [],
   "source": [
    "england = open(\"../Data/NHS_England_Regions_(April_2020)_Boundaries_EN_BFC.geojson\", \"r\")\n",
    "england = england.read()\n",
    "england = json.loads(england)\n",
    "preL_dt = pd.read_csv(\"%s/26-4-2020_yyAIR_COVID_PRE_LD_dt.csv\" %path)"
   ]
  },
  {
   "cell_type": "markdown",
   "metadata": {},
   "source": [
    "There must be a common id to preL_dt and england. I want to use the property 'objectid' for this purpose, as it is unique for each region. \n",
    "To create a match between england and preL_dt I create a third element in each feature with the id and then a new column in preL_dt with the correponding id for each region. \n",
    "\n",
    "\n",
    "preL_dt.Region and the property 'nhser20nm' in each feature both store the name of the region. I need them to have the the region name written in the same way to be able to compare them."
   ]
  },
  {
   "cell_type": "code",
   "execution_count": 4,
   "metadata": {},
   "outputs": [],
   "source": [
    "preL_dt.loc[preL_dt['Region'] =='East Of England','Region'] = 'East of England'\n",
    "preL_dt.loc[preL_dt['Region'] =='North East And Yorkshire','Region'] = 'North East and Yorkshire'"
   ]
  },
  {
   "cell_type": "code",
   "execution_count": 5,
   "metadata": {},
   "outputs": [],
   "source": [
    "area={}\n",
    "for feature in england['features']:\n",
    "    feature['id']=feature['properties']['objectid']\n",
    "    area[feature['properties']['nhser20nm']]=feature['id']\n",
    "preL_dt['id']=preL_dt['Region'].apply(lambda x: area[x])"
   ]
  },
  {
   "cell_type": "markdown",
   "metadata": {},
   "source": [
    "Now I have all the objects I need to draw the map."
   ]
  },
  {
   "cell_type": "code",
   "execution_count": 6,
   "metadata": {},
   "outputs": [
    {
     "data": {
      "text/plain": [
       "'../data_out/map_deaths.html'"
      ]
     },
     "execution_count": 6,
     "metadata": {},
     "output_type": "execute_result"
    }
   ],
   "source": [
    "fig_deaths = px.choropleth_mapbox(preL_dt, \n",
    "                           locations=\"id\", \n",
    "                           featureidkey='properties.objectid', \n",
    "                           geojson=england, color='Deaths', \n",
    "                           hover_name='Region', \n",
    "                           mapbox_style='white-bg', \n",
    "                           zoom=4.5, \n",
    "                           center = {\"lat\": 53, \"lon\": 0},\n",
    "                          color_continuous_scale = 'blues',\n",
    "                          title = 'COVID-19 (reported deaths)')\n",
    "#fig_deaths.show()\n",
    "plotly.offline.plot(fig_deaths, filename='../data_out/map_deaths.html')"
   ]
  }
 ],
 "metadata": {
  "kernelspec": {
   "display_name": "Python 3",
   "language": "python",
   "name": "python3"
  },
  "language_info": {
   "codemirror_mode": {
    "name": "ipython",
    "version": 3
   },
   "file_extension": ".py",
   "mimetype": "text/x-python",
   "name": "python",
   "nbconvert_exporter": "python",
   "pygments_lexer": "ipython3",
   "version": "3.8.5"
  }
 },
 "nbformat": 4,
 "nbformat_minor": 4
}
