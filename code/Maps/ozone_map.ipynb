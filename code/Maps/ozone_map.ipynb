{
 "cells": [
  {
   "cell_type": "markdown",
   "metadata": {},
   "source": [
    "### Ozone map"
   ]
  },
  {
   "cell_type": "markdown",
   "metadata": {},
   "source": [
    "Import the needed modules and paths"
   ]
  },
  {
   "cell_type": "code",
   "execution_count": 1,
   "metadata": {},
   "outputs": [],
   "source": [
    "%run ../conf_files.ipynb"
   ]
  },
  {
   "cell_type": "markdown",
   "metadata": {},
   "source": [
    "Read the geojson dataset (with the geometry) and the [preL_dt](../../data/datasets.ipynb#preL_dt) (with the information about nitrogen ozone that I want to map)"
   ]
  },
  {
   "cell_type": "code",
   "execution_count": 2,
   "metadata": {},
   "outputs": [],
   "source": [
    "england = open(\"../../data/NHS_England_Regions_(April_2020)_Boundaries_EN_BFC.geojson\", \"r\")\n",
    "england = england.read()\n",
    "england = json.loads(england)\n",
    "preL_dt = pd.read_csv(\"%s/26-4-2020_yyAIR_COVID_PRE_LD_dt.csv\" %path)"
   ]
  },
  {
   "cell_type": "markdown",
   "metadata": {},
   "source": [
    "There must be a common id to preL_dt and england. I want to use the property 'objectid' for this purpose, as it is unique for each region. \n",
    "To create a match between england and preL_dt I create a third element in each feature with the id and then a new column in preL_dt with the correponding id for each region. \n",
    "\n",
    "\n",
    "preL_dt.Region and the property 'nhser20nm' in each feature both store the name of the region. I need them to have the the region name written in the same way to be able to compare them."
   ]
  },
  {
   "cell_type": "code",
   "execution_count": 3,
   "metadata": {},
   "outputs": [],
   "source": [
    "preL_dt.loc[preL_dt['Region'] =='East Of England','Region'] = 'East of England'\n",
    "preL_dt.loc[preL_dt['Region'] =='North East And Yorkshire','Region'] = 'North East and Yorkshire'\n"
   ]
  },
  {
   "cell_type": "code",
   "execution_count": 4,
   "metadata": {},
   "outputs": [],
   "source": [
    "area={}\n",
    "for feature in england['features']:\n",
    "    feature['id']=feature['properties']['objectid']\n",
    "    area[feature['properties']['nhser20nm']]=feature['id']\n",
    "\n",
    "preL_dt['id']=preL_dt['Region'].apply(lambda x: area[x])"
   ]
  },
  {
   "cell_type": "markdown",
   "metadata": {},
   "source": [
    "Now I have all the objects I need to draw the map."
   ]
  },
  {
   "cell_type": "code",
   "execution_count": 6,
   "metadata": {},
   "outputs": [
    {
     "data": {
      "text/plain": [
       "'../../data/data_output/map_ozone.html'"
      ]
     },
     "execution_count": 6,
     "metadata": {},
     "output_type": "execute_result"
    }
   ],
   "source": [
    "fig_ozone = px.choropleth_mapbox(preL_dt, \n",
    "                           locations=\"id\", \n",
    "                           featureidkey='properties.objectid', \n",
    "                           geojson=england, color='O3.levels', \n",
    "                           hover_name='Region', \n",
    "                           mapbox_style='white-bg', \n",
    "                           zoom=4.5, \n",
    "                           center = {\"lat\": 53, \"lon\": 0},\n",
    "                          color_continuous_scale = 'blues',\n",
    "                          title = 'Ozone levels')\n",
    "plotly.offline.plot(fig_ozone, filename='../../data/data_output/map_ozone.html')\n",
    "#fig_ozone.show()"
   ]
  }
 ],
 "metadata": {
  "kernelspec": {
   "display_name": "Python 3",
   "language": "python",
   "name": "python3"
  },
  "language_info": {
   "codemirror_mode": {
    "name": "ipython",
    "version": 3
   },
   "file_extension": ".py",
   "mimetype": "text/x-python",
   "name": "python",
   "nbconvert_exporter": "python",
   "pygments_lexer": "ipython3",
   "version": "3.8.5"
  }
 },
 "nbformat": 4,
 "nbformat_minor": 4
}
