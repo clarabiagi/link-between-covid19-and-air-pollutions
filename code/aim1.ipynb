{
 "cells": [
  {
   "cell_type": "markdown",
   "metadata": {},
   "source": [
    "# Links between air pollution and COVID-19 in England #"
   ]
  },
  {
   "cell_type": "markdown",
   "metadata": {},
   "source": [
    "### AIM 1: PRELIMINARY ANALYSIS AND REGIONAL LEVEL ANALYSIS ###\n",
    "1. [Data visualization](#preliminary)\n",
    "2. [Link between COVID-19 deaths and air pollution](#deaths)\n",
    "3. [Link between COVID-19 cases and air pollution](#cases)\n",
    "4. [conclusion](#end)"
   ]
  },
  {
   "cell_type": "markdown",
   "metadata": {},
   "source": [
    "Import the modules I need for the analysis and the paths where the data are stores, all included in the [conf_files](./conf_files.ipynb)"
   ]
  },
  {
   "cell_type": "code",
   "execution_count": 24,
   "metadata": {},
   "outputs": [],
   "source": [
    "%run conf_files.ipynb"
   ]
  },
  {
   "cell_type": "markdown",
   "metadata": {},
   "source": [
    "The first dataset needed is preL_dt, whose contents is described in [data](../Data/datasets.ipynb#preL_dt)"
   ]
  },
  {
   "cell_type": "code",
   "execution_count": 23,
   "metadata": {},
   "outputs": [
    {
     "data": {
      "text/html": [
       "<div>\n",
       "<style scoped>\n",
       "    .dataframe tbody tr th:only-of-type {\n",
       "        vertical-align: middle;\n",
       "    }\n",
       "\n",
       "    .dataframe tbody tr th {\n",
       "        vertical-align: top;\n",
       "    }\n",
       "\n",
       "    .dataframe thead th {\n",
       "        text-align: right;\n",
       "    }\n",
       "</style>\n",
       "<table border=\"1\" class=\"dataframe\">\n",
       "  <thead>\n",
       "    <tr style=\"text-align: right;\">\n",
       "      <th></th>\n",
       "      <th>Region</th>\n",
       "      <th>cases_preL</th>\n",
       "      <th>deaths_preL</th>\n",
       "      <th>Date_cases</th>\n",
       "      <th>Population_size_2018</th>\n",
       "      <th>Average_Pop_density_personkm2</th>\n",
       "      <th>Cases</th>\n",
       "      <th>Deaths</th>\n",
       "      <th>NO.levels</th>\n",
       "      <th>NO2.levels</th>\n",
       "      <th>O3.levels</th>\n",
       "    </tr>\n",
       "  </thead>\n",
       "  <tbody>\n",
       "    <tr>\n",
       "      <th>0</th>\n",
       "      <td>East Of England</td>\n",
       "      <td>5356</td>\n",
       "      <td>746</td>\n",
       "      <td>NaN</td>\n",
       "      <td>6201214</td>\n",
       "      <td>324.0</td>\n",
       "      <td>6499</td>\n",
       "      <td>1448</td>\n",
       "      <td>9.502135</td>\n",
       "      <td>19.553718</td>\n",
       "      <td>54.367479</td>\n",
       "    </tr>\n",
       "    <tr>\n",
       "      <th>1</th>\n",
       "      <td>London</td>\n",
       "      <td>16913</td>\n",
       "      <td>2120</td>\n",
       "      <td>NaN</td>\n",
       "      <td>8908081</td>\n",
       "      <td>5666.0</td>\n",
       "      <td>19511</td>\n",
       "      <td>3522</td>\n",
       "      <td>25.193133</td>\n",
       "      <td>38.512520</td>\n",
       "      <td>36.913913</td>\n",
       "    </tr>\n",
       "    <tr>\n",
       "      <th>2</th>\n",
       "      <td>Midlands</td>\n",
       "      <td>10501</td>\n",
       "      <td>1491</td>\n",
       "      <td>NaN</td>\n",
       "      <td>10704906</td>\n",
       "      <td>380.5</td>\n",
       "      <td>14844</td>\n",
       "      <td>2684</td>\n",
       "      <td>14.529437</td>\n",
       "      <td>24.119851</td>\n",
       "      <td>47.698892</td>\n",
       "    </tr>\n",
       "    <tr>\n",
       "      <th>3</th>\n",
       "      <td>North East And Yorkshire</td>\n",
       "      <td>8004</td>\n",
       "      <td>893</td>\n",
       "      <td>NaN</td>\n",
       "      <td>8137524</td>\n",
       "      <td>333.0</td>\n",
       "      <td>10633</td>\n",
       "      <td>1641</td>\n",
       "      <td>16.501209</td>\n",
       "      <td>25.151394</td>\n",
       "      <td>45.295342</td>\n",
       "    </tr>\n",
       "    <tr>\n",
       "      <th>4</th>\n",
       "      <td>North West</td>\n",
       "      <td>9394</td>\n",
       "      <td>847</td>\n",
       "      <td>NaN</td>\n",
       "      <td>7292093</td>\n",
       "      <td>517.0</td>\n",
       "      <td>12093</td>\n",
       "      <td>1801</td>\n",
       "      <td>8.581661</td>\n",
       "      <td>20.062745</td>\n",
       "      <td>48.950810</td>\n",
       "    </tr>\n",
       "  </tbody>\n",
       "</table>\n",
       "</div>"
      ],
      "text/plain": [
       "                     Region  cases_preL  deaths_preL  Date_cases  \\\n",
       "0           East Of England        5356          746         NaN   \n",
       "1                    London       16913         2120         NaN   \n",
       "2                  Midlands       10501         1491         NaN   \n",
       "3  North East And Yorkshire        8004          893         NaN   \n",
       "4                North West        9394          847         NaN   \n",
       "\n",
       "   Population_size_2018  Average_Pop_density_personkm2  Cases  Deaths  \\\n",
       "0               6201214                          324.0   6499    1448   \n",
       "1               8908081                         5666.0  19511    3522   \n",
       "2              10704906                          380.5  14844    2684   \n",
       "3               8137524                          333.0  10633    1641   \n",
       "4               7292093                          517.0  12093    1801   \n",
       "\n",
       "   NO.levels  NO2.levels  O3.levels  \n",
       "0   9.502135   19.553718  54.367479  \n",
       "1  25.193133   38.512520  36.913913  \n",
       "2  14.529437   24.119851  47.698892  \n",
       "3  16.501209   25.151394  45.295342  \n",
       "4   8.581661   20.062745  48.950810  "
      ]
     },
     "execution_count": 23,
     "metadata": {},
     "output_type": "execute_result"
    }
   ],
   "source": [
    "preL_dt = pd.read_csv(\"%s/26-4-2020_yyAIR_COVID_PRE_LD_dt.csv\" %path)\n",
    "preL_dt=preL_dt.loc[:,\"Region\":] #the first column contained indexes\n",
    "preL_dt.head()"
   ]
  },
  {
   "cell_type": "markdown",
   "metadata": {},
   "source": [
    "Standardize the variables so that I can display all them together "
   ]
  },
  {
   "cell_type": "code",
   "execution_count": 25,
   "metadata": {},
   "outputs": [
    {
     "data": {
      "text/html": [
       "<div>\n",
       "<style scoped>\n",
       "    .dataframe tbody tr th:only-of-type {\n",
       "        vertical-align: middle;\n",
       "    }\n",
       "\n",
       "    .dataframe tbody tr th {\n",
       "        vertical-align: top;\n",
       "    }\n",
       "\n",
       "    .dataframe thead th {\n",
       "        text-align: right;\n",
       "    }\n",
       "</style>\n",
       "<table border=\"1\" class=\"dataframe\">\n",
       "  <thead>\n",
       "    <tr style=\"text-align: right;\">\n",
       "      <th></th>\n",
       "      <th>cases_preL</th>\n",
       "      <th>deaths_preL</th>\n",
       "      <th>Population_size_2018</th>\n",
       "      <th>Average_Pop_density_personkm2</th>\n",
       "      <th>Cases</th>\n",
       "      <th>Deaths</th>\n",
       "      <th>NO.levels</th>\n",
       "      <th>NO2.levels</th>\n",
       "      <th>O3.levels</th>\n",
       "      <th>Region</th>\n",
       "    </tr>\n",
       "  </thead>\n",
       "  <tbody>\n",
       "    <tr>\n",
       "      <th>0</th>\n",
       "      <td>-0.844810</td>\n",
       "      <td>-0.537114</td>\n",
       "      <td>-1.091478</td>\n",
       "      <td>-0.436976</td>\n",
       "      <td>-0.987511</td>\n",
       "      <td>-0.487041</td>\n",
       "      <td>-0.884927</td>\n",
       "      <td>-0.768450</td>\n",
       "      <td>1.290319</td>\n",
       "      <td>East Of England</td>\n",
       "    </tr>\n",
       "    <tr>\n",
       "      <th>1</th>\n",
       "      <td>1.988584</td>\n",
       "      <td>2.012719</td>\n",
       "      <td>0.553993</td>\n",
       "      <td>2.446688</td>\n",
       "      <td>1.744846</td>\n",
       "      <td>1.871485</td>\n",
       "      <td>2.107078</td>\n",
       "      <td>2.323251</td>\n",
       "      <td>-2.064650</td>\n",
       "      <td>London</td>\n",
       "    </tr>\n",
       "    <tr>\n",
       "      <th>2</th>\n",
       "      <td>0.416574</td>\n",
       "      <td>0.845437</td>\n",
       "      <td>1.646261</td>\n",
       "      <td>-0.406477</td>\n",
       "      <td>0.764834</td>\n",
       "      <td>0.918522</td>\n",
       "      <td>0.073693</td>\n",
       "      <td>-0.023829</td>\n",
       "      <td>0.008466</td>\n",
       "      <td>Midlands</td>\n",
       "    </tr>\n",
       "    <tr>\n",
       "      <th>3</th>\n",
       "      <td>-0.195608</td>\n",
       "      <td>-0.264315</td>\n",
       "      <td>0.085581</td>\n",
       "      <td>-0.432118</td>\n",
       "      <td>-0.119423</td>\n",
       "      <td>-0.267564</td>\n",
       "      <td>0.449677</td>\n",
       "      <td>0.144389</td>\n",
       "      <td>-0.453550</td>\n",
       "      <td>North East And Yorkshire</td>\n",
       "    </tr>\n",
       "    <tr>\n",
       "      <th>4</th>\n",
       "      <td>0.145174</td>\n",
       "      <td>-0.349681</td>\n",
       "      <td>-0.428346</td>\n",
       "      <td>-0.332793</td>\n",
       "      <td>0.187159</td>\n",
       "      <td>-0.085614</td>\n",
       "      <td>-1.060446</td>\n",
       "      <td>-0.685441</td>\n",
       "      <td>0.249113</td>\n",
       "      <td>North West</td>\n",
       "    </tr>\n",
       "  </tbody>\n",
       "</table>\n",
       "</div>"
      ],
      "text/plain": [
       "   cases_preL  deaths_preL  Population_size_2018  \\\n",
       "0   -0.844810    -0.537114             -1.091478   \n",
       "1    1.988584     2.012719              0.553993   \n",
       "2    0.416574     0.845437              1.646261   \n",
       "3   -0.195608    -0.264315              0.085581   \n",
       "4    0.145174    -0.349681             -0.428346   \n",
       "\n",
       "   Average_Pop_density_personkm2     Cases    Deaths  NO.levels  NO2.levels  \\\n",
       "0                      -0.436976 -0.987511 -0.487041  -0.884927   -0.768450   \n",
       "1                       2.446688  1.744846  1.871485   2.107078    2.323251   \n",
       "2                      -0.406477  0.764834  0.918522   0.073693   -0.023829   \n",
       "3                      -0.432118 -0.119423 -0.267564   0.449677    0.144389   \n",
       "4                      -0.332793  0.187159 -0.085614  -1.060446   -0.685441   \n",
       "\n",
       "   O3.levels                    Region  \n",
       "0   1.290319           East Of England  \n",
       "1  -2.064650                    London  \n",
       "2   0.008466                  Midlands  \n",
       "3  -0.453550  North East And Yorkshire  \n",
       "4   0.249113                North West  "
      ]
     },
     "execution_count": 25,
     "metadata": {},
     "output_type": "execute_result"
    }
   ],
   "source": [
    "#keep only numerical columns to normalize them\n",
    "preL_dt_1=preL_dt.drop(columns=['Region',\"Date_cases\"])\n",
    "\n",
    "#standardize\n",
    "zs = StandardScaler()\n",
    "preL_dt_st = zs.fit_transform(preL_dt_1)\n",
    "preL_dt_st #it is standardized but it is an array, not a dataframe\n",
    "\n",
    "cols=list(preL_dt_1.columns)#take columns' names\n",
    "preL_dt_st=pd.DataFrame(preL_dt_st, columns=cols)\n",
    "\n",
    "preL_dt_st['Region']=preL_dt['Region'] #add region col again\n",
    "preL_dt_st.head()"
   ]
  },
  {
   "cell_type": "markdown",
   "metadata": {},
   "source": [
    " <a id='preliminary'></a>\n",
    "### Visualize the distribution of each variable"
   ]
  },
  {
   "cell_type": "code",
   "execution_count": 7,
   "metadata": {
    "scrolled": true
   },
   "outputs": [
    {
     "data": {
      "text/plain": [
       "<seaborn.axisgrid.FacetGrid at 0x29d79343700>"
      ]
     },
     "execution_count": 7,
     "metadata": {},
     "output_type": "execute_result"
    },
    {
     "data": {
      "image/png": "[encoded data removed]",
      "text/plain": [
       "<Figure size 648x648 with 9 Axes>"
      ]
     },
     "metadata": {
      "needs_background": "light"
     },
     "output_type": "display_data"
    }
   ],
   "source": [
    "preL_dt_new=pd.melt(preL_dt_st, id_vars='Region')\n",
    "g = sns.FacetGrid(preL_dt_new, col='variable', col_wrap=3)\n",
    "g.map(sns.histplot, 'value', bins=15)"
   ]
  },
  {
   "cell_type": "markdown",
   "metadata": {},
   "source": [
    "From the histograms we can see that:\n",
    "- all the 7 regions have different population size, but similar average population density (except for one region that is highly density populated)\n",
    "- almost every region has very different number of deaths and cases\n",
    "- all of the three pollutants have different average for almost each region"
   ]
  },
  {
   "cell_type": "markdown",
   "metadata": {},
   "source": [
    "I propose here two different visualizations, useful to investigate relationships between variables.\n",
    "From the first plot we can investigate easier the comparison between regions.\n",
    "For example, we can see how London is the Region with the highest values for all variable expect for ozone."
   ]
  },
  {
   "cell_type": "code",
   "execution_count": 8,
   "metadata": {
    "scrolled": true
   },
   "outputs": [
    {
     "data": {
      "image/png": "[encoded data removed]",
      "text/plain": [
       "<Figure size 881.975x360 with 1 Axes>"
      ]
     },
     "metadata": {},
     "output_type": "display_data"
    }
   ],
   "source": [
    "sns.set(style=\"white\")\n",
    "g = sns.catplot(x='variable'\n",
    "                   ,y= 'value'\n",
    "                   ,hue='Region'\n",
    "                   ,data=preL_dt_new\n",
    "                   ,kind='bar'\n",
    "                   ,aspect=2\n",
    "                   )\n",
    "g.set_xticklabels(rotation=30);"
   ]
  },
  {
   "cell_type": "markdown",
   "metadata": {},
   "source": [
    "In this second plot we can look at the possible correlation between variables within the same region, that is more interesting.\n",
    "It is quite evident that number of cases and deaths above the mean comes together with high value for all the other variables but ozone."
   ]
  },
  {
   "cell_type": "code",
   "execution_count": 9,
   "metadata": {},
   "outputs": [
    {
     "data": {
      "image/png": "[encoded data removed]",
      "text/plain": [
       "<Figure size 927.85x360 with 1 Axes>"
      ]
     },
     "metadata": {},
     "output_type": "display_data"
    }
   ],
   "source": [
    "sns.set(style=\"white\")\n",
    "g = sns.catplot(x='Region'\n",
    "                   ,y= 'value'\n",
    "                   ,hue='variable'\n",
    "                   ,data=preL_dt_new\n",
    "                   ,kind='bar'\n",
    "                   ,aspect=2\n",
    "                   )\n",
    "g.set_xticklabels(rotation=30);"
   ]
  },
  {
   "cell_type": "markdown",
   "metadata": {},
   "source": [
    "Other regional level visualization can be found in the [regional level map notebook](../Maps/regional_level_map.ipynb)"
   ]
  },
  {
   "cell_type": "markdown",
   "metadata": {},
   "source": [
    "<a id='deaths'></a>\n",
    "### Analyse deaths data: linear, negative binomial and Poisson regression model "
   ]
  },
  {
   "cell_type": "markdown",
   "metadata": {},
   "source": [
    "After preliminary analysis, let's investigate the relationship between air pollution and expected number of covid19 deaths throught model fits. \n",
    "Regression models with pre-lockdown deaths as dependent variable and the three air pollutants as regressors are fitted. All models contain the average population density beacause it could act as a confounder."
   ]
  },
  {
   "cell_type": "markdown",
   "metadata": {},
   "source": [
    "##### Linear regression model"
   ]
  },
  {
   "cell_type": "code",
   "execution_count": 10,
   "metadata": {
    "scrolled": true
   },
   "outputs": [
    {
     "name": "stdout",
     "output_type": "stream",
     "text": [
      "AIC:  96.04651561142177\n"
     ]
    },
    {
     "name": "stderr",
     "output_type": "stream",
     "text": [
      "C:\\Users\\biagi\\anaconda3\\lib\\site-packages\\statsmodels\\stats\\stattools.py:74: ValueWarning: omni_normtest is not valid with less than 8 observations; 7 samples were given.\n",
      "  warn(\"omni_normtest is not valid with less than 8 observations; %i \"\n"
     ]
    },
    {
     "data": {
      "text/html": [
       "<table class=\"simpletable\">\n",
       "<caption>OLS Regression Results</caption>\n",
       "<tr>\n",
       "  <th>Dep. Variable:</th>       <td>deaths_preL</td>   <th>  R-squared:         </th> <td>   0.956</td>\n",
       "</tr>\n",
       "<tr>\n",
       "  <th>Model:</th>                   <td>OLS</td>       <th>  Adj. R-squared:    </th> <td>   0.868</td>\n",
       "</tr>\n",
       "<tr>\n",
       "  <th>Method:</th>             <td>Least Squares</td>  <th>  F-statistic:       </th> <td>   10.87</td>\n",
       "</tr>\n",
       "<tr>\n",
       "  <th>Date:</th>             <td>Sat, 02 Oct 2021</td> <th>  Prob (F-statistic):</th>  <td>0.0860</td> \n",
       "</tr>\n",
       "<tr>\n",
       "  <th>Time:</th>                 <td>10:48:33</td>     <th>  Log-Likelihood:    </th> <td> -43.023</td>\n",
       "</tr>\n",
       "<tr>\n",
       "  <th>No. Observations:</th>      <td>     7</td>      <th>  AIC:               </th> <td>   96.05</td>\n",
       "</tr>\n",
       "<tr>\n",
       "  <th>Df Residuals:</th>          <td>     2</td>      <th>  BIC:               </th> <td>   95.78</td>\n",
       "</tr>\n",
       "<tr>\n",
       "  <th>Df Model:</th>              <td>     4</td>      <th>                     </th>     <td> </td>   \n",
       "</tr>\n",
       "<tr>\n",
       "  <th>Covariance Type:</th>      <td>nonrobust</td>    <th>                     </th>     <td> </td>   \n",
       "</tr>\n",
       "</table>\n",
       "<table class=\"simpletable\">\n",
       "<tr>\n",
       "                <td></td>                   <th>coef</th>     <th>std err</th>      <th>t</th>      <th>P>|t|</th>  <th>[0.025</th>    <th>0.975]</th>  \n",
       "</tr>\n",
       "<tr>\n",
       "  <th>const</th>                         <td>-1.235e+04</td> <td> 4843.598</td> <td>   -2.549</td> <td> 0.126</td> <td>-3.32e+04</td> <td> 8494.212</td>\n",
       "</tr>\n",
       "<tr>\n",
       "  <th>Average_Pop_density_personkm2</th> <td>   -0.6310</td> <td>    0.254</td> <td>   -2.480</td> <td> 0.131</td> <td>   -1.726</td> <td>    0.464</td>\n",
       "</tr>\n",
       "<tr>\n",
       "  <th>NO.levels</th>                     <td> -332.5735</td> <td>  112.432</td> <td>   -2.958</td> <td> 0.098</td> <td> -816.328</td> <td>  151.181</td>\n",
       "</tr>\n",
       "<tr>\n",
       "  <th>NO2.levels</th>                    <td>  601.4702</td> <td>  178.233</td> <td>    3.375</td> <td> 0.078</td> <td> -165.402</td> <td> 1368.343</td>\n",
       "</tr>\n",
       "<tr>\n",
       "  <th>O3.levels</th>                     <td>   88.2410</td> <td>   54.093</td> <td>    1.631</td> <td> 0.244</td> <td> -144.503</td> <td>  320.985</td>\n",
       "</tr>\n",
       "</table>\n",
       "<table class=\"simpletable\">\n",
       "<tr>\n",
       "  <th>Omnibus:</th>       <td>   nan</td> <th>  Durbin-Watson:     </th> <td>   2.539</td>\n",
       "</tr>\n",
       "<tr>\n",
       "  <th>Prob(Omnibus):</th> <td>   nan</td> <th>  Jarque-Bera (JB):  </th> <td>   0.100</td>\n",
       "</tr>\n",
       "<tr>\n",
       "  <th>Skew:</th>          <td>-0.009</td> <th>  Prob(JB):          </th> <td>   0.951</td>\n",
       "</tr>\n",
       "<tr>\n",
       "  <th>Kurtosis:</th>      <td> 2.416</td> <th>  Cond. No.          </th> <td>1.32e+05</td>\n",
       "</tr>\n",
       "</table><br/><br/>Notes:<br/>[1] Standard Errors assume that the covariance matrix of the errors is correctly specified.<br/>[2] The condition number is large, 1.32e+05. This might indicate that there are<br/>strong multicollinearity or other numerical problems."
      ],
      "text/plain": [
       "<class 'statsmodels.iolib.summary.Summary'>\n",
       "\"\"\"\n",
       "                            OLS Regression Results                            \n",
       "==============================================================================\n",
       "Dep. Variable:            deaths_preL   R-squared:                       0.956\n",
       "Model:                            OLS   Adj. R-squared:                  0.868\n",
       "Method:                 Least Squares   F-statistic:                     10.87\n",
       "Date:                Sat, 02 Oct 2021   Prob (F-statistic):             0.0860\n",
       "Time:                        10:48:33   Log-Likelihood:                -43.023\n",
       "No. Observations:                   7   AIC:                             96.05\n",
       "Df Residuals:                       2   BIC:                             95.78\n",
       "Df Model:                           4                                         \n",
       "Covariance Type:            nonrobust                                         \n",
       "=================================================================================================\n",
       "                                    coef    std err          t      P>|t|      [0.025      0.975]\n",
       "-------------------------------------------------------------------------------------------------\n",
       "const                         -1.235e+04   4843.598     -2.549      0.126   -3.32e+04    8494.212\n",
       "Average_Pop_density_personkm2    -0.6310      0.254     -2.480      0.131      -1.726       0.464\n",
       "NO.levels                      -332.5735    112.432     -2.958      0.098    -816.328     151.181\n",
       "NO2.levels                      601.4702    178.233      3.375      0.078    -165.402    1368.343\n",
       "O3.levels                        88.2410     54.093      1.631      0.244    -144.503     320.985\n",
       "==============================================================================\n",
       "Omnibus:                          nan   Durbin-Watson:                   2.539\n",
       "Prob(Omnibus):                    nan   Jarque-Bera (JB):                0.100\n",
       "Skew:                          -0.009   Prob(JB):                        0.951\n",
       "Kurtosis:                       2.416   Cond. No.                     1.32e+05\n",
       "==============================================================================\n",
       "\n",
       "Notes:\n",
       "[1] Standard Errors assume that the covariance matrix of the errors is correctly specified.\n",
       "[2] The condition number is large, 1.32e+05. This might indicate that there are\n",
       "strong multicollinearity or other numerical problems.\n",
       "\"\"\""
      ]
     },
     "execution_count": 10,
     "metadata": {},
     "output_type": "execute_result"
    }
   ],
   "source": [
    "x=sm.add_constant(preL_dt.loc[:,['Average_Pop_density_personkm2','NO.levels','NO2.levels','O3.levels']]) #regressors matrix\n",
    "y=preL_dt.loc[:,['deaths_preL']] #dependent variable\n",
    "\n",
    "model = sm.OLS(y, x).fit() #ols\n",
    "print(\"AIC: \", model.aic)\n",
    "model.summary()"
   ]
  },
  {
   "cell_type": "markdown",
   "metadata": {},
   "source": [
    "The model does not work well with the data. The variablity is much higher than expected, suggesting overdispersion.\n",
    "Having count data, it could be better to fit a Poisson or a negative binomial regression."
   ]
  },
  {
   "cell_type": "markdown",
   "metadata": {},
   "source": [
    "##### Negative binomial regression model"
   ]
  },
  {
   "cell_type": "code",
   "execution_count": 29,
   "metadata": {},
   "outputs": [],
   "source": [
    "# tranform in thousands\n",
    "preL_dt['NO.levels'] = round(preL_dt['NO.levels']*1000)\n",
    "preL_dt['NO2.levels'] = round(preL_dt['NO2.levels']*1000)\n",
    "preL_dt['O3.levels'] = round(preL_dt['O3.levels']*1000)\n",
    "preL_dt['Average_Pop_density_personkm2'] = round(preL_dt['Average_Pop_density_personkm2'])\n",
    "\n",
    "preL_dt.rename(columns={'NO.levels':'NO_levels', 'NO2.levels':'NO2_levels', 'O3.levels':'O3_levels'}, inplace=True)\n",
    "#variables' names cannot contain dot when written in the formula for regression"
   ]
  },
  {
   "cell_type": "code",
   "execution_count": 31,
   "metadata": {},
   "outputs": [
    {
     "name": "stdout",
     "output_type": "stream",
     "text": [
      "AIC:  89.74529249696116\n"
     ]
    },
    {
     "data": {
      "text/html": [
       "<table class=\"simpletable\">\n",
       "<caption>Generalized Linear Model Regression Results</caption>\n",
       "<tr>\n",
       "  <th>Dep. Variable:</th>      <td>deaths_preL</td>   <th>  No. Observations:  </th>  <td>     7</td> \n",
       "</tr>\n",
       "<tr>\n",
       "  <th>Model:</th>                  <td>GLM</td>       <th>  Df Residuals:      </th>  <td>     2</td> \n",
       "</tr>\n",
       "<tr>\n",
       "  <th>Model Family:</th>    <td>NegativeBinomial</td> <th>  Df Model:          </th>  <td>     4</td> \n",
       "</tr>\n",
       "<tr>\n",
       "  <th>Link Function:</th>          <td>log</td>       <th>  Scale:             </th> <td>  1.0000</td>\n",
       "</tr>\n",
       "<tr>\n",
       "  <th>Method:</th>                <td>IRLS</td>       <th>  Log-Likelihood:    </th> <td> -39.873</td>\n",
       "</tr>\n",
       "<tr>\n",
       "  <th>Date:</th>            <td>Sat, 02 Oct 2021</td> <th>  Deviance:          </th> <td>  6.9413</td>\n",
       "</tr>\n",
       "<tr>\n",
       "  <th>Time:</th>                <td>17:44:13</td>     <th>  Pearson chi2:      </th>  <td>  6.93</td> \n",
       "</tr>\n",
       "<tr>\n",
       "  <th>No. Iterations:</th>          <td>6</td>        <th>                     </th>     <td> </td>   \n",
       "</tr>\n",
       "<tr>\n",
       "  <th>Covariance Type:</th>     <td>nonrobust</td>    <th>                     </th>     <td> </td>   \n",
       "</tr>\n",
       "</table>\n",
       "<table class=\"simpletable\">\n",
       "<tr>\n",
       "                <td></td>                   <th>coef</th>     <th>std err</th>      <th>z</th>      <th>P>|z|</th>  <th>[0.025</th>    <th>0.975]</th>  \n",
       "</tr>\n",
       "<tr>\n",
       "  <th>Intercept</th>                     <td>  -10.8994</td> <td>    1.892</td> <td>   -5.762</td> <td> 0.000</td> <td>  -14.607</td> <td>   -7.192</td>\n",
       "</tr>\n",
       "<tr>\n",
       "  <th>Average_Pop_density_personkm2</th> <td>   -0.0009</td> <td> 9.84e-05</td> <td>   -9.486</td> <td> 0.000</td> <td>   -0.001</td> <td>   -0.001</td>\n",
       "</tr>\n",
       "<tr>\n",
       "  <th>NO_levels</th>                     <td>   -0.0005</td> <td> 4.49e-05</td> <td>  -10.531</td> <td> 0.000</td> <td>   -0.001</td> <td>   -0.000</td>\n",
       "</tr>\n",
       "<tr>\n",
       "  <th>NO2_levels</th>                    <td>    0.0008</td> <td> 7.09e-05</td> <td>   11.473</td> <td> 0.000</td> <td>    0.001</td> <td>    0.001</td>\n",
       "</tr>\n",
       "<tr>\n",
       "  <th>O3_levels</th>                     <td>    0.0001</td> <td> 2.07e-05</td> <td>    5.797</td> <td> 0.000</td> <td> 7.94e-05</td> <td>    0.000</td>\n",
       "</tr>\n",
       "</table>"
      ],
      "text/plain": [
       "<class 'statsmodels.iolib.summary.Summary'>\n",
       "\"\"\"\n",
       "                 Generalized Linear Model Regression Results                  \n",
       "==============================================================================\n",
       "Dep. Variable:            deaths_preL   No. Observations:                    7\n",
       "Model:                            GLM   Df Residuals:                        2\n",
       "Model Family:        NegativeBinomial   Df Model:                            4\n",
       "Link Function:                    log   Scale:                          1.0000\n",
       "Method:                          IRLS   Log-Likelihood:                -39.873\n",
       "Date:                Sat, 02 Oct 2021   Deviance:                       6.9413\n",
       "Time:                        17:44:13   Pearson chi2:                     6.93\n",
       "No. Iterations:                     6                                         \n",
       "Covariance Type:            nonrobust                                         \n",
       "=================================================================================================\n",
       "                                    coef    std err          z      P>|z|      [0.025      0.975]\n",
       "-------------------------------------------------------------------------------------------------\n",
       "Intercept                       -10.8994      1.892     -5.762      0.000     -14.607      -7.192\n",
       "Average_Pop_density_personkm2    -0.0009   9.84e-05     -9.486      0.000      -0.001      -0.001\n",
       "NO_levels                        -0.0005   4.49e-05    -10.531      0.000      -0.001      -0.000\n",
       "NO2_levels                        0.0008   7.09e-05     11.473      0.000       0.001       0.001\n",
       "O3_levels                         0.0001   2.07e-05      5.797      0.000    7.94e-05       0.000\n",
       "=================================================================================================\n",
       "\"\"\""
      ]
     },
     "execution_count": 31,
     "metadata": {},
     "output_type": "execute_result"
    }
   ],
   "source": [
    "mod_deaths_nbin = smf.glm(formula = \"deaths_preL~ Average_Pop_density_personkm2 + NO_levels + NO2_levels + O3_levels\", data=preL_dt, family=sm.families.NegativeBinomial(alpha=0.005102041)).fit()\n",
    "print(\"AIC: \", mod_deaths_nbin.aic)\n",
    "mod_deaths_nbin.summary()"
   ]
  },
  {
   "cell_type": "code",
   "execution_count": 32,
   "metadata": {},
   "outputs": [
    {
     "data": {
      "text/plain": [
       "6.932544443146632"
      ]
     },
     "execution_count": 32,
     "metadata": {},
     "output_type": "execute_result"
    }
   ],
   "source": [
    "mod_deaths_nbin.pearson_chi2"
   ]
  },
  {
   "cell_type": "code",
   "execution_count": 33,
   "metadata": {},
   "outputs": [
    {
     "name": "stdout",
     "output_type": "stream",
     "text": [
      "20 unit increase of NO : 0.9900498337491681\n",
      "20 unit increase of NO2 : 1.016128685406095\n",
      "20 unit increase of O3 : 1.0020020013340003\n"
     ]
    }
   ],
   "source": [
    "print(\"20 unit increase of NO :\", np.exp(-0.0005*20))\n",
    "print(\"20 unit increase of NO2 :\", np.exp(0.0008*20))\n",
    "print(\"20 unit increase of O3 :\", np.exp(0.0001*20))"
   ]
  },
  {
   "cell_type": "markdown",
   "metadata": {},
   "source": [
    "Here units are μg/m3 * 1000"
   ]
  },
  {
   "cell_type": "markdown",
   "metadata": {},
   "source": [
    "In term of AIC and Pearson chi2 test the model is better thant the linear regression one. Now the standard errors are not as huge as before. All the regressors are statistically significant, so that it seems that they all have influence on the number of deaths.\n",
    "For a 20 units increase of NO level, the expected number of deaths decreases of 0.05%.\n",
    "For a 20 units increase of NO2 level, the expected number of deaths increases of a 1.6%.\n",
    "For a 20 units increase of O3 level, the expected number of deaths increases of less than 1%"
   ]
  },
  {
   "cell_type": "markdown",
   "metadata": {},
   "source": [
    "##### Poisson regression model"
   ]
  },
  {
   "cell_type": "code",
   "execution_count": 34,
   "metadata": {},
   "outputs": [
    {
     "name": "stdout",
     "output_type": "stream",
     "text": [
      "AIC:  109.09393382424423\n",
      "38.45457211581487\n"
     ]
    },
    {
     "data": {
      "text/html": [
       "<table class=\"simpletable\">\n",
       "<caption>Generalized Linear Model Regression Results</caption>\n",
       "<tr>\n",
       "  <th>Dep. Variable:</th>      <td>deaths_preL</td>   <th>  No. Observations:  </th>  <td>     7</td> \n",
       "</tr>\n",
       "<tr>\n",
       "  <th>Model:</th>                  <td>GLM</td>       <th>  Df Residuals:      </th>  <td>     2</td> \n",
       "</tr>\n",
       "<tr>\n",
       "  <th>Model Family:</th>         <td>Poisson</td>     <th>  Df Model:          </th>  <td>     4</td> \n",
       "</tr>\n",
       "<tr>\n",
       "  <th>Link Function:</th>          <td>log</td>       <th>  Scale:             </th> <td>  1.0000</td>\n",
       "</tr>\n",
       "<tr>\n",
       "  <th>Method:</th>                <td>IRLS</td>       <th>  Log-Likelihood:    </th> <td> -49.547</td>\n",
       "</tr>\n",
       "<tr>\n",
       "  <th>Date:</th>            <td>Sat, 02 Oct 2021</td> <th>  Deviance:          </th> <td>  38.539</td>\n",
       "</tr>\n",
       "<tr>\n",
       "  <th>Time:</th>                <td>17:44:15</td>     <th>  Pearson chi2:      </th>  <td>  38.5</td> \n",
       "</tr>\n",
       "<tr>\n",
       "  <th>No. Iterations:</th>          <td>5</td>        <th>                     </th>     <td> </td>   \n",
       "</tr>\n",
       "<tr>\n",
       "  <th>Covariance Type:</th>     <td>nonrobust</td>    <th>                     </th>     <td> </td>   \n",
       "</tr>\n",
       "</table>\n",
       "<table class=\"simpletable\">\n",
       "<tr>\n",
       "                <td></td>                   <th>coef</th>     <th>std err</th>      <th>z</th>      <th>P>|z|</th>  <th>[0.025</th>    <th>0.975]</th>  \n",
       "</tr>\n",
       "<tr>\n",
       "  <th>Intercept</th>                     <td>  -11.5904</td> <td>    0.909</td> <td>  -12.749</td> <td> 0.000</td> <td>  -13.372</td> <td>   -9.809</td>\n",
       "</tr>\n",
       "<tr>\n",
       "  <th>Average_Pop_density_personkm2</th> <td>   -0.0010</td> <td> 4.57e-05</td> <td>  -21.381</td> <td> 0.000</td> <td>   -0.001</td> <td>   -0.001</td>\n",
       "</tr>\n",
       "<tr>\n",
       "  <th>NO_levels</th>                     <td>   -0.0005</td> <td>  2.3e-05</td> <td>  -21.360</td> <td> 0.000</td> <td>   -0.001</td> <td>   -0.000</td>\n",
       "</tr>\n",
       "<tr>\n",
       "  <th>NO2_levels</th>                    <td>    0.0008</td> <td> 3.57e-05</td> <td>   23.681</td> <td> 0.000</td> <td>    0.001</td> <td>    0.001</td>\n",
       "</tr>\n",
       "<tr>\n",
       "  <th>O3_levels</th>                     <td>    0.0001</td> <td> 9.46e-06</td> <td>   13.180</td> <td> 0.000</td> <td>    0.000</td> <td>    0.000</td>\n",
       "</tr>\n",
       "</table>"
      ],
      "text/plain": [
       "<class 'statsmodels.iolib.summary.Summary'>\n",
       "\"\"\"\n",
       "                 Generalized Linear Model Regression Results                  \n",
       "==============================================================================\n",
       "Dep. Variable:            deaths_preL   No. Observations:                    7\n",
       "Model:                            GLM   Df Residuals:                        2\n",
       "Model Family:                 Poisson   Df Model:                            4\n",
       "Link Function:                    log   Scale:                          1.0000\n",
       "Method:                          IRLS   Log-Likelihood:                -49.547\n",
       "Date:                Sat, 02 Oct 2021   Deviance:                       38.539\n",
       "Time:                        17:44:15   Pearson chi2:                     38.5\n",
       "No. Iterations:                     5                                         \n",
       "Covariance Type:            nonrobust                                         \n",
       "=================================================================================================\n",
       "                                    coef    std err          z      P>|z|      [0.025      0.975]\n",
       "-------------------------------------------------------------------------------------------------\n",
       "Intercept                       -11.5904      0.909    -12.749      0.000     -13.372      -9.809\n",
       "Average_Pop_density_personkm2    -0.0010   4.57e-05    -21.381      0.000      -0.001      -0.001\n",
       "NO_levels                        -0.0005    2.3e-05    -21.360      0.000      -0.001      -0.000\n",
       "NO2_levels                        0.0008   3.57e-05     23.681      0.000       0.001       0.001\n",
       "O3_levels                         0.0001   9.46e-06     13.180      0.000       0.000       0.000\n",
       "=================================================================================================\n",
       "\"\"\""
      ]
     },
     "execution_count": 34,
     "metadata": {},
     "output_type": "execute_result"
    }
   ],
   "source": [
    "#poisson fit\n",
    "mod_deaths_poi = smf.glm(formula = \"deaths_preL~ Average_Pop_density_personkm2 + NO_levels + NO2_levels + O3_levels\", data=preL_dt, family=sm.families.Poisson()).fit()\n",
    "print(\"AIC: \", mod_deaths_poi.aic)\n",
    "print(mod_deaths_poi.pearson_chi2)\n",
    "mod_deaths_poi.summary()"
   ]
  },
  {
   "cell_type": "markdown",
   "metadata": {},
   "source": [
    "Likewise the negative binomial the coefficients are all statistically significant. They also have almost the same interpretation as before. In terms of AIC and Pearson chi2 the Poisson model is worst than the negative binomial one. "
   ]
  },
  {
   "cell_type": "markdown",
   "metadata": {},
   "source": [
    "<a id='cases'></a>\n",
    "### Analyse case data: linear, negative binomial and Poisson regression model to explore the relationship"
   ]
  },
  {
   "cell_type": "markdown",
   "metadata": {},
   "source": [
    "Linear, negative binomial and Poisson regression model with pre-lockdown cases as dependent variable and the same regressors as before are fitted. \n",
    "The linear model is overdispersed again and the negative binomial turns out to have a lower AIC."
   ]
  },
  {
   "cell_type": "markdown",
   "metadata": {},
   "source": [
    "##### Linear and Poisson regression models"
   ]
  },
  {
   "cell_type": "code",
   "execution_count": 16,
   "metadata": {},
   "outputs": [
    {
     "name": "stdout",
     "output_type": "stream",
     "text": [
      "AIC OLS:  126.95921854067365\n",
      "AIC Poisson:  1436.0812219835716\n"
     ]
    },
    {
     "name": "stderr",
     "output_type": "stream",
     "text": [
      "C:\\Users\\biagi\\anaconda3\\lib\\site-packages\\statsmodels\\stats\\stattools.py:74: ValueWarning: omni_normtest is not valid with less than 8 observations; 7 samples were given.\n",
      "  warn(\"omni_normtest is not valid with less than 8 observations; %i \"\n"
     ]
    },
    {
     "data": {
      "text/plain": [
       "1409.4671590048458"
      ]
     },
     "execution_count": 16,
     "metadata": {},
     "output_type": "execute_result"
    }
   ],
   "source": [
    "#linear model fit\n",
    "x=sm.add_constant(preL_dt.loc[:,['Average_Pop_density_personkm2','NO_levels','NO2_levels','O3_levels']])\n",
    "y=preL_dt.loc[:,['cases_preL']]\n",
    "model_cases = sm.OLS(y, x).fit()\n",
    "model_cases.summary()\n",
    "print(\"AIC OLS: \", model_cases.aic)\n",
    "\n",
    "#poisson fit\n",
    "mod_cases_poi = smf.glm(formula = \"cases_preL~ Average_Pop_density_personkm2 + NO_levels + NO2_levels + O3_levels\", data=preL_dt, family=sm.families.Poisson()).fit()\n",
    "mod_cases_poi.summary()\n",
    "print(\"AIC Poisson: \", mod_cases_poi.aic)\n",
    "mod_cases_poi.pearson_chi2"
   ]
  },
  {
   "cell_type": "markdown",
   "metadata": {},
   "source": [
    "##### Negative binomial regression model"
   ]
  },
  {
   "cell_type": "code",
   "execution_count": 17,
   "metadata": {},
   "outputs": [
    {
     "name": "stdout",
     "output_type": "stream",
     "text": [
      "                 Generalized Linear Model Regression Results                  \n",
      "==============================================================================\n",
      "Dep. Variable:             cases_preL   No. Observations:                    7\n",
      "Model:                            GLM   Df Residuals:                        2\n",
      "Model Family:        NegativeBinomial   Df Model:                            4\n",
      "Link Function:                    log   Scale:                          1.0000\n",
      "Method:                          IRLS   Log-Likelihood:                -60.434\n",
      "Date:                Sat, 02 Oct 2021   Deviance:                       7.0308\n",
      "Time:                        10:48:34   Pearson chi2:                     7.51\n",
      "No. Iterations:                     7                                         \n",
      "Covariance Type:            nonrobust                                         \n",
      "=================================================================================================\n",
      "                                    coef    std err          z      P>|z|      [0.025      0.975]\n",
      "-------------------------------------------------------------------------------------------------\n",
      "Intercept                        -4.4512      3.970     -1.121      0.262     -12.233       3.330\n",
      "Average_Pop_density_personkm2    -0.0008      0.000     -3.809      0.000      -0.001      -0.000\n",
      "NO_levels                        -0.0005   9.22e-05     -5.332      0.000      -0.001      -0.000\n",
      "NO2_levels                        0.0007      0.000      5.066      0.000       0.000       0.001\n",
      "O3_levels                      6.958e-05   4.43e-05      1.570      0.116   -1.73e-05       0.000\n",
      "=================================================================================================\n",
      "AIC:  130.86781112527387\n"
     ]
    },
    {
     "data": {
      "text/plain": [
       "7.509495032937853"
      ]
     },
     "execution_count": 17,
     "metadata": {},
     "output_type": "execute_result"
    }
   ],
   "source": [
    "mod_cases_nbin = smf.glm(formula = \"cases_preL~ Average_Pop_density_personkm2 + NO_levels + NO2_levels + O3_levels\", data=preL_dt, family=sm.families.NegativeBinomial(alpha=0.02985075)).fit()\n",
    "print(mod_cases_nbin.summary())\n",
    "print(\"AIC: \", mod_cases_nbin.aic)\n",
    "mod_cases_nbin.pearson_chi2"
   ]
  },
  {
   "cell_type": "code",
   "execution_count": 18,
   "metadata": {},
   "outputs": [
    {
     "name": "stdout",
     "output_type": "stream",
     "text": [
      "20 unit increase of NO : 0.9900498337491681\n",
      "20 unit increase of NO2 : 1.0140984589384923\n"
     ]
    }
   ],
   "source": [
    "print(\"20 unit increase of NO :\", np.exp(-0.0005*20))\n",
    "print(\"20 unit increase of NO2 :\", np.exp(0.0007*20))"
   ]
  },
  {
   "cell_type": "markdown",
   "metadata": {},
   "source": [
    "Here units are μg/m3 * 1000"
   ]
  },
  {
   "cell_type": "markdown",
   "metadata": {},
   "source": [
    "Only NO and NO2 are statistically significant. Ozone does not has a significant effect on the expected number of cases \n",
    "For a 20 units increase of NO level, the expected number of cases decrese of almost than 1%. \n",
    "For a 20 units increase of NO2 level, the expected number of cases increase of a 1.4%. "
   ]
  },
  {
   "cell_type": "markdown",
   "metadata": {},
   "source": [
    "The obtained results are saved in html tables ([deaths models](../data_out/regional_deaths_models.html), [cases models](../data_out/regional_cases_models.html))"
   ]
  },
  {
   "cell_type": "code",
   "execution_count": 19,
   "metadata": {},
   "outputs": [],
   "source": [
    "### produce an html file for deaths models\n",
    "regional_deaths_models = Stargazer([mod_deaths_nbin, mod_deaths_poi])\n",
    "regional_deaths_models.show_confidence_intervals(True)\n",
    "regional_deaths_models.custom_columns(['negative binomial', 'poisson'], [1, 1])\n",
    "html = open(\"../data_out/regional_deaths_models.html\",\"w\")\n",
    "html.write(regional_deaths_models.render_html())\n",
    "html.close()"
   ]
  },
  {
   "cell_type": "code",
   "execution_count": 20,
   "metadata": {},
   "outputs": [],
   "source": [
    "### produce an html file for cases models\n",
    "regional_cases_models = Stargazer([mod_cases_nbin, mod_cases_poi])\n",
    "regional_cases_models.show_confidence_intervals(True)\n",
    "regional_cases_models.custom_columns(['negative binomial', 'poisson'], [1, 1])\n",
    "html = open(\"../data_out/regional_cases_models.html\",\"w\")\n",
    "html.write(regional_cases_models.render_html())\n",
    "html.close()"
   ]
  },
  {
   "cell_type": "markdown",
   "metadata": {},
   "source": [
    "<a id='id'></a>\n",
    "### Conclusion\n",
    "\n",
    "The levels of nitrogen oxide and nitrogen dioxide are significant predictors of COVID-19 cases, independent of the population density.\n",
    "\n",
    "Ozone, nitrogen oside and nitrogen dioxidea are significantly associated with COVID-19 deaths together with the population density."
   ]
  }
 ],
 "metadata": {
  "kernelspec": {
   "display_name": "Python 3",
   "language": "python",
   "name": "python3"
  },
  "language_info": {
   "codemirror_mode": {
    "name": "ipython",
    "version": 3
   },
   "file_extension": ".py",
   "mimetype": "text/x-python",
   "name": "python",
   "nbconvert_exporter": "python",
   "pygments_lexer": "ipython3",
   "version": "3.8.5"
  }
 },
 "nbformat": 4,
 "nbformat_minor": 4
}
