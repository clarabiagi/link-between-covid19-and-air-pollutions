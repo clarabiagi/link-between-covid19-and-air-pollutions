{
 "cells": [
  {
   "cell_type": "markdown",
   "metadata": {},
   "source": [
    "# Links between air pollution and COVID-19 in England #"
   ]
  },
  {
   "cell_type": "markdown",
   "metadata": {},
   "source": [
    "### AIM 2: SUBREGIONAL LEVEL ANALYSIS\n",
    "\n",
    "- [Creation of the dataset](#merged_covid_dt)\n",
    "- [Data visualization](#datavis)\n",
    "- [Link between COVID-19 deaths and air pollution: negative binomial fit](#nbf)\n",
    "    - [pm10](#pm10)\n",
    "    - [pm25](#pm25)\n",
    "    - [nox](#nox)\n",
    "    - [no2](#no2)\n",
    "    - [o3](#o3)\n",
    "    - [so2](#so2)\n",
    "    - [models without Mean_ann_earnings](#mae)\n",
    "    - [mortality rate](#or)\n",
    "- [Link between COVID-19 cases and air pollution: negative binomial fit](#nbf_cases)\n",
    "    - [distribution of cases](#vis_cases)\n",
    "    - [pm10](#pm10_cases)\n",
    "    - [pm25](#pm25_cases)\n",
    "    - [nox](#nox_cases)\n",
    "    - [no2](#no2_cases)\n",
    "    - [o3](#o3_cases)\n",
    "    - [so2](#so2_cases)\n",
    "    - [infectivity rate](#or)\n",
    "- [Link between COVID-19 deaths with 5 years pollution data](#nbf_5y)\n",
    "- [Link between COVID-19 cases with 5 years pollution data](#nbf_cases_5y)"
   ]
  },
  {
   "cell_type": "markdown",
   "metadata": {},
   "source": [
    "Import the modules I need for the analysis and the paths where the data are stores, all inclueded in the [conf_files](./conf_files.ipynb)"
   ]
  },
  {
   "cell_type": "code",
   "execution_count": 1,
   "metadata": {},
   "outputs": [],
   "source": [
    "%run conf_files.ipynb"
   ]
  },
  {
   "cell_type": "markdown",
   "metadata": {},
   "source": [
    "<a id='merged_covid_dt'></a>\n",
    "### Creation of the dataset"
   ]
  },
  {
   "cell_type": "markdown",
   "metadata": {},
   "source": [
    "Import the dataset needed for the subregional analysis (pop_dens, earning, age, covid_deaths). They are all descibed [here](../Data/datasets.ipynb)"
   ]
  },
  {
   "cell_type": "code",
   "execution_count": 2,
   "metadata": {},
   "outputs": [],
   "source": [
    "pop_dens = pd.read_csv(\"%s/2018_official_popDensity.csv\" %path)[['Code', '2018 people per sq. km']]\n",
    "earning = pd.read_csv(\"%s/ann_earning_2018_perLA.csv\" %path)[[\"Code\",\"Mean_ann_earnings\"]]\n",
    "age = pd.read_csv(\"%s/processed_median_age_of_population_perLA.csv\" %path)[[\"Code\",\"median_age_2018\",\"Name\"]]\n",
    "covid_deaths = pd.read_csv(\"%s/covid_deaths_until10April_byAreaCode.csv\" %path)"
   ]
  },
  {
   "cell_type": "markdown",
   "metadata": {},
   "source": [
    "Our interest is in the total number of deaths per subregion, no matter if in hospital at home or elsewhere. The covid_deaths dataset is then updated in order to contain a unique column representing the variable of interest, associated with the area code."
   ]
  },
  {
   "cell_type": "code",
   "execution_count": 3,
   "metadata": {},
   "outputs": [
    {
     "data": {
      "text/html": [
       "<div>\n",
       "<style scoped>\n",
       "    .dataframe tbody tr th:only-of-type {\n",
       "        vertical-align: middle;\n",
       "    }\n",
       "\n",
       "    .dataframe tbody tr th {\n",
       "        vertical-align: top;\n",
       "    }\n",
       "\n",
       "    .dataframe thead th {\n",
       "        text-align: right;\n",
       "    }\n",
       "</style>\n",
       "<table border=\"1\" class=\"dataframe\">\n",
       "  <thead>\n",
       "    <tr style=\"text-align: right;\">\n",
       "      <th></th>\n",
       "      <th>Code</th>\n",
       "      <th>deaths</th>\n",
       "    </tr>\n",
       "  </thead>\n",
       "  <tbody>\n",
       "    <tr>\n",
       "      <th>0</th>\n",
       "      <td>E06000001</td>\n",
       "      <td>20</td>\n",
       "    </tr>\n",
       "    <tr>\n",
       "      <th>1</th>\n",
       "      <td>E06000002</td>\n",
       "      <td>60</td>\n",
       "    </tr>\n",
       "    <tr>\n",
       "      <th>2</th>\n",
       "      <td>E06000003</td>\n",
       "      <td>26</td>\n",
       "    </tr>\n",
       "    <tr>\n",
       "      <th>3</th>\n",
       "      <td>E06000004</td>\n",
       "      <td>26</td>\n",
       "    </tr>\n",
       "    <tr>\n",
       "      <th>4</th>\n",
       "      <td>E06000005</td>\n",
       "      <td>14</td>\n",
       "    </tr>\n",
       "  </tbody>\n",
       "</table>\n",
       "</div>"
      ],
      "text/plain": [
       "        Code  deaths\n",
       "0  E06000001      20\n",
       "1  E06000002      60\n",
       "2  E06000003      26\n",
       "3  E06000004      26\n",
       "4  E06000005      14"
      ]
     },
     "execution_count": 3,
     "metadata": {},
     "output_type": "execute_result"
    }
   ],
   "source": [
    "covid_deaths['total_deaths'] = covid_deaths['Home'] + covid_deaths['Hospital'] + covid_deaths['Care home'] + covid_deaths['Hospice'] + covid_deaths['Other communal establishment'] + covid_deaths['Elsewhere']\n",
    "covid_deaths = covid_deaths[['Area code', 'total_deaths']]\n",
    "columns=['Code', 'deaths']\n",
    "covid_deaths.columns = columns\n",
    "covid_deaths.head()"
   ]
  },
  {
   "cell_type": "markdown",
   "metadata": {},
   "source": [
    "A new dataset is created, by merging the informations contained in the datasets just imported. The aim is having a single dataset with the number of deaths, the mean annual earning, the median age, the population density, the area name and the area code."
   ]
  },
  {
   "cell_type": "code",
   "execution_count": 4,
   "metadata": {},
   "outputs": [
    {
     "data": {
      "text/html": [
       "<div>\n",
       "<style scoped>\n",
       "    .dataframe tbody tr th:only-of-type {\n",
       "        vertical-align: middle;\n",
       "    }\n",
       "\n",
       "    .dataframe tbody tr th {\n",
       "        vertical-align: top;\n",
       "    }\n",
       "\n",
       "    .dataframe thead th {\n",
       "        text-align: right;\n",
       "    }\n",
       "</style>\n",
       "<table border=\"1\" class=\"dataframe\">\n",
       "  <thead>\n",
       "    <tr style=\"text-align: right;\">\n",
       "      <th></th>\n",
       "      <th>Code</th>\n",
       "      <th>Mean_ann_earnings</th>\n",
       "      <th>median_age_2018</th>\n",
       "      <th>Name</th>\n",
       "      <th>2018 people per sq. km</th>\n",
       "      <th>deaths</th>\n",
       "    </tr>\n",
       "  </thead>\n",
       "  <tbody>\n",
       "    <tr>\n",
       "      <th>1</th>\n",
       "      <td>E06000001</td>\n",
       "      <td>25,985</td>\n",
       "      <td>41.8</td>\n",
       "      <td>Hartlepool</td>\n",
       "      <td>997</td>\n",
       "      <td>20</td>\n",
       "    </tr>\n",
       "    <tr>\n",
       "      <th>2</th>\n",
       "      <td>E06000002</td>\n",
       "      <td>22,878</td>\n",
       "      <td>36.2</td>\n",
       "      <td>Middlesbrough</td>\n",
       "      <td>2,608</td>\n",
       "      <td>60</td>\n",
       "    </tr>\n",
       "    <tr>\n",
       "      <th>3</th>\n",
       "      <td>E06000003</td>\n",
       "      <td>23,236</td>\n",
       "      <td>45.0</td>\n",
       "      <td>Redcar and Cleveland</td>\n",
       "      <td>558</td>\n",
       "      <td>26</td>\n",
       "    </tr>\n",
       "    <tr>\n",
       "      <th>4</th>\n",
       "      <td>E06000004</td>\n",
       "      <td>26,622</td>\n",
       "      <td>40.4</td>\n",
       "      <td>Stockton-on-Tees</td>\n",
       "      <td>962</td>\n",
       "      <td>26</td>\n",
       "    </tr>\n",
       "    <tr>\n",
       "      <th>0</th>\n",
       "      <td>E06000005</td>\n",
       "      <td>26,908</td>\n",
       "      <td>43.1</td>\n",
       "      <td>Darlington</td>\n",
       "      <td>540</td>\n",
       "      <td>14</td>\n",
       "    </tr>\n",
       "  </tbody>\n",
       "</table>\n",
       "</div>"
      ],
      "text/plain": [
       "        Code Mean_ann_earnings  median_age_2018                  Name  \\\n",
       "1  E06000001            25,985             41.8            Hartlepool   \n",
       "2  E06000002            22,878             36.2         Middlesbrough   \n",
       "3  E06000003            23,236             45.0  Redcar and Cleveland   \n",
       "4  E06000004            26,622             40.4      Stockton-on-Tees   \n",
       "0  E06000005            26,908             43.1            Darlington   \n",
       "\n",
       "  2018 people per sq. km  deaths  \n",
       "1                    997      20  \n",
       "2                  2,608      60  \n",
       "3                    558      26  \n",
       "4                    962      26  \n",
       "0                    540      14  "
      ]
     },
     "execution_count": 4,
     "metadata": {},
     "output_type": "execute_result"
    }
   ],
   "source": [
    "all_data = [earning, age, pop_dens, covid_deaths]\n",
    "merged_covid_dt = reduce(lambda left,right: pd.merge(left,right), all_data)\n",
    "merged_covid_dt.sort_values(by='Code', inplace=True)\n",
    "merged_covid_dt.head()"
   ]
  },
  {
   "cell_type": "markdown",
   "metadata": {},
   "source": [
    "The commas in the '2018 people per sq. km' and 'Mean_ann_earnings' are deleted and the new dataset is saved as csv"
   ]
  },
  {
   "cell_type": "code",
   "execution_count": 5,
   "metadata": {},
   "outputs": [],
   "source": [
    "merged_covid_dt['2018 people per sq. km'] = [x.replace(',','') for x in merged_covid_dt['2018 people per sq. km']]\n",
    "merged_covid_dt['2018 people per sq. km'] = merged_covid_dt['2018 people per sq. km'].astype(int)\n",
    "merged_covid_dt['Mean_ann_earnings'] = [x.replace(',','') for x in merged_covid_dt['Mean_ann_earnings']]\n",
    "merged_covid_dt['Mean_ann_earnings'] = pd.to_numeric(merged_covid_dt['Mean_ann_earnings'],errors='coerce')\n",
    "merged_covid_dt.to_csv('../data_out/merged_covid_dt.csv')"
   ]
  },
  {
   "cell_type": "markdown",
   "metadata": {},
   "source": [
    "Data regarding pollutants are now requested. They are contained in the the dataset [covid_air_dt](../data_out/Output_data_des.ipynb). Its creation can be found [here](./covid_air_dt_creation.ipynb). "
   ]
  },
  {
   "cell_type": "code",
   "execution_count": 6,
   "metadata": {},
   "outputs": [
    {
     "data": {
      "text/html": [
       "<div>\n",
       "<style scoped>\n",
       "    .dataframe tbody tr th:only-of-type {\n",
       "        vertical-align: middle;\n",
       "    }\n",
       "\n",
       "    .dataframe tbody tr th {\n",
       "        vertical-align: top;\n",
       "    }\n",
       "\n",
       "    .dataframe thead th {\n",
       "        text-align: right;\n",
       "    }\n",
       "</style>\n",
       "<table border=\"1\" class=\"dataframe\">\n",
       "  <thead>\n",
       "    <tr style=\"text-align: right;\">\n",
       "      <th></th>\n",
       "      <th>lon</th>\n",
       "      <th>lat</th>\n",
       "      <th>Code</th>\n",
       "      <th>deaths</th>\n",
       "      <th>X2018_people_per_sq_km</th>\n",
       "      <th>Mean_ann_earnings</th>\n",
       "      <th>median_age_2018</th>\n",
       "      <th>pm25_val</th>\n",
       "      <th>no2_val</th>\n",
       "      <th>o3_val</th>\n",
       "      <th>pm10_val</th>\n",
       "      <th>so2_val</th>\n",
       "      <th>nox_val</th>\n",
       "    </tr>\n",
       "  </thead>\n",
       "  <tbody>\n",
       "    <tr>\n",
       "      <th>0</th>\n",
       "      <td>-1.209370</td>\n",
       "      <td>54.685728</td>\n",
       "      <td>E06000001</td>\n",
       "      <td>20</td>\n",
       "      <td>997</td>\n",
       "      <td>25985.0</td>\n",
       "      <td>41.8</td>\n",
       "      <td>7.362821</td>\n",
       "      <td>13.105737</td>\n",
       "      <td>5.303858</td>\n",
       "      <td>11.506778</td>\n",
       "      <td>1.575561</td>\n",
       "      <td>17.730895</td>\n",
       "    </tr>\n",
       "    <tr>\n",
       "      <th>1</th>\n",
       "      <td>-1.234405</td>\n",
       "      <td>54.576042</td>\n",
       "      <td>E06000002</td>\n",
       "      <td>60</td>\n",
       "      <td>2608</td>\n",
       "      <td>22878.0</td>\n",
       "      <td>36.2</td>\n",
       "      <td>8.210540</td>\n",
       "      <td>20.178191</td>\n",
       "      <td>4.251802</td>\n",
       "      <td>12.561928</td>\n",
       "      <td>3.133286</td>\n",
       "      <td>29.296034</td>\n",
       "    </tr>\n",
       "    <tr>\n",
       "      <th>2</th>\n",
       "      <td>-1.005496</td>\n",
       "      <td>54.567906</td>\n",
       "      <td>E06000003</td>\n",
       "      <td>26</td>\n",
       "      <td>558</td>\n",
       "      <td>23236.0</td>\n",
       "      <td>45.0</td>\n",
       "      <td>7.293137</td>\n",
       "      <td>7.749542</td>\n",
       "      <td>6.851500</td>\n",
       "      <td>12.855827</td>\n",
       "      <td>0.998864</td>\n",
       "      <td>9.983241</td>\n",
       "    </tr>\n",
       "    <tr>\n",
       "      <th>3</th>\n",
       "      <td>-1.312916</td>\n",
       "      <td>54.564094</td>\n",
       "      <td>E06000004</td>\n",
       "      <td>26</td>\n",
       "      <td>962</td>\n",
       "      <td>26622.0</td>\n",
       "      <td>40.4</td>\n",
       "      <td>7.900856</td>\n",
       "      <td>15.562038</td>\n",
       "      <td>5.050632</td>\n",
       "      <td>12.251130</td>\n",
       "      <td>1.934329</td>\n",
       "      <td>21.440737</td>\n",
       "    </tr>\n",
       "    <tr>\n",
       "      <th>4</th>\n",
       "      <td>-1.555581</td>\n",
       "      <td>54.524208</td>\n",
       "      <td>E06000005</td>\n",
       "      <td>14</td>\n",
       "      <td>540</td>\n",
       "      <td>26908.0</td>\n",
       "      <td>43.1</td>\n",
       "      <td>7.153221</td>\n",
       "      <td>11.360341</td>\n",
       "      <td>5.198811</td>\n",
       "      <td>11.129635</td>\n",
       "      <td>1.129034</td>\n",
       "      <td>15.098272</td>\n",
       "    </tr>\n",
       "  </tbody>\n",
       "</table>\n",
       "</div>"
      ],
      "text/plain": [
       "        lon        lat       Code  deaths  X2018_people_per_sq_km  \\\n",
       "0 -1.209370  54.685728  E06000001      20                     997   \n",
       "1 -1.234405  54.576042  E06000002      60                    2608   \n",
       "2 -1.005496  54.567906  E06000003      26                     558   \n",
       "3 -1.312916  54.564094  E06000004      26                     962   \n",
       "4 -1.555581  54.524208  E06000005      14                     540   \n",
       "\n",
       "   Mean_ann_earnings  median_age_2018  pm25_val    no2_val    o3_val  \\\n",
       "0            25985.0             41.8  7.362821  13.105737  5.303858   \n",
       "1            22878.0             36.2  8.210540  20.178191  4.251802   \n",
       "2            23236.0             45.0  7.293137   7.749542  6.851500   \n",
       "3            26622.0             40.4  7.900856  15.562038  5.050632   \n",
       "4            26908.0             43.1  7.153221  11.360341  5.198811   \n",
       "\n",
       "    pm10_val   so2_val    nox_val  \n",
       "0  11.506778  1.575561  17.730895  \n",
       "1  12.561928  3.133286  29.296034  \n",
       "2  12.855827  0.998864   9.983241  \n",
       "3  12.251130  1.934329  21.440737  \n",
       "4  11.129635  1.129034  15.098272  "
      ]
     },
     "execution_count": 6,
     "metadata": {},
     "output_type": "execute_result"
    }
   ],
   "source": [
    "covid_air_dt = pd.read_csv(\"../data_out/covid_air_dt.csv\", na_values='x')\n",
    "covid_air_dt.head()"
   ]
  },
  {
   "cell_type": "markdown",
   "metadata": {},
   "source": [
    "Only enghlish data are needed, that are the ones whose Code begins with an 'E'"
   ]
  },
  {
   "cell_type": "code",
   "execution_count": 7,
   "metadata": {},
   "outputs": [],
   "source": [
    "covid_air_dt = covid_air_dt.loc[covid_air_dt['Code'].str.startswith('E')]"
   ]
  },
  {
   "cell_type": "markdown",
   "metadata": {},
   "source": [
    "<a id='datavis'></a>\n",
    "### Visualize the distribution of each variable"
   ]
  },
  {
   "cell_type": "markdown",
   "metadata": {},
   "source": [
    "Variables of interest are standardized in order to visualize them all together.\n",
    "The standardized version of the dataset is saved in covid_air_dt_vis"
   ]
  },
  {
   "cell_type": "code",
   "execution_count": 8,
   "metadata": {},
   "outputs": [
    {
     "data": {
      "text/html": [
       "<div>\n",
       "<style scoped>\n",
       "    .dataframe tbody tr th:only-of-type {\n",
       "        vertical-align: middle;\n",
       "    }\n",
       "\n",
       "    .dataframe tbody tr th {\n",
       "        vertical-align: top;\n",
       "    }\n",
       "\n",
       "    .dataframe thead th {\n",
       "        text-align: right;\n",
       "    }\n",
       "</style>\n",
       "<table border=\"1\" class=\"dataframe\">\n",
       "  <thead>\n",
       "    <tr style=\"text-align: right;\">\n",
       "      <th></th>\n",
       "      <th>deaths</th>\n",
       "      <th>X2018_people_per_sq_km</th>\n",
       "      <th>Mean_ann_earnings</th>\n",
       "      <th>median_age_2018</th>\n",
       "      <th>pm25_val</th>\n",
       "      <th>no2_val</th>\n",
       "      <th>o3_val</th>\n",
       "      <th>pm10_val</th>\n",
       "      <th>so2_val</th>\n",
       "      <th>nox_val</th>\n",
       "    </tr>\n",
       "  </thead>\n",
       "  <tbody>\n",
       "    <tr>\n",
       "      <th>0</th>\n",
       "      <td>-0.505787</td>\n",
       "      <td>-0.306910</td>\n",
       "      <td>-0.583373</td>\n",
       "      <td>-0.040273</td>\n",
       "      <td>-0.986506</td>\n",
       "      <td>-0.088738</td>\n",
       "      <td>-0.702086</td>\n",
       "      <td>-0.970008</td>\n",
       "      <td>0.272117</td>\n",
       "      <td>-0.143747</td>\n",
       "    </tr>\n",
       "    <tr>\n",
       "      <th>1</th>\n",
       "      <td>0.284030</td>\n",
       "      <td>0.303208</td>\n",
       "      <td>-1.003121</td>\n",
       "      <td>-1.162510</td>\n",
       "      <td>-0.523774</td>\n",
       "      <td>0.940852</td>\n",
       "      <td>-1.010034</td>\n",
       "      <td>-0.574302</td>\n",
       "      <td>2.920669</td>\n",
       "      <td>0.830199</td>\n",
       "    </tr>\n",
       "    <tr>\n",
       "      <th>2</th>\n",
       "      <td>-0.387314</td>\n",
       "      <td>-0.473169</td>\n",
       "      <td>-0.954756</td>\n",
       "      <td>0.601006</td>\n",
       "      <td>-1.024543</td>\n",
       "      <td>-0.868480</td>\n",
       "      <td>-0.249075</td>\n",
       "      <td>-0.464083</td>\n",
       "      <td>-0.708422</td>\n",
       "      <td>-0.796208</td>\n",
       "    </tr>\n",
       "    <tr>\n",
       "      <th>3</th>\n",
       "      <td>-0.387314</td>\n",
       "      <td>-0.320166</td>\n",
       "      <td>-0.497316</td>\n",
       "      <td>-0.320832</td>\n",
       "      <td>-0.692817</td>\n",
       "      <td>0.268844</td>\n",
       "      <td>-0.776208</td>\n",
       "      <td>-0.690859</td>\n",
       "      <td>0.882120</td>\n",
       "      <td>0.168673</td>\n",
       "    </tr>\n",
       "    <tr>\n",
       "      <th>4</th>\n",
       "      <td>-0.624259</td>\n",
       "      <td>-0.479986</td>\n",
       "      <td>-0.458678</td>\n",
       "      <td>0.220247</td>\n",
       "      <td>-1.100917</td>\n",
       "      <td>-0.342829</td>\n",
       "      <td>-0.732834</td>\n",
       "      <td>-1.111445</td>\n",
       "      <td>-0.487099</td>\n",
       "      <td>-0.365451</td>\n",
       "    </tr>\n",
       "  </tbody>\n",
       "</table>\n",
       "</div>"
      ],
      "text/plain": [
       "     deaths  X2018_people_per_sq_km  Mean_ann_earnings  median_age_2018  \\\n",
       "0 -0.505787               -0.306910          -0.583373        -0.040273   \n",
       "1  0.284030                0.303208          -1.003121        -1.162510   \n",
       "2 -0.387314               -0.473169          -0.954756         0.601006   \n",
       "3 -0.387314               -0.320166          -0.497316        -0.320832   \n",
       "4 -0.624259               -0.479986          -0.458678         0.220247   \n",
       "\n",
       "   pm25_val   no2_val    o3_val  pm10_val   so2_val   nox_val  \n",
       "0 -0.986506 -0.088738 -0.702086 -0.970008  0.272117 -0.143747  \n",
       "1 -0.523774  0.940852 -1.010034 -0.574302  2.920669  0.830199  \n",
       "2 -1.024543 -0.868480 -0.249075 -0.464083 -0.708422 -0.796208  \n",
       "3 -0.692817  0.268844 -0.776208 -0.690859  0.882120  0.168673  \n",
       "4 -1.100917 -0.342829 -0.732834 -1.111445 -0.487099 -0.365451  "
      ]
     },
     "execution_count": 8,
     "metadata": {},
     "output_type": "execute_result"
    }
   ],
   "source": [
    "covid_air_dt_vis = covid_air_dt.loc[:,['deaths', 'X2018_people_per_sq_km',\n",
    "       'Mean_ann_earnings', 'median_age_2018', 'pm25_val','no2_val','o3_val','pm10_val','so2_val','nox_val']]\n",
    "for i in covid_air_dt_vis:\n",
    "    covid_air_dt_vis[i] = (covid_air_dt_vis[i]-np.nanmean(covid_air_dt_vis[i]))/np.nanstd(covid_air_dt_vis[i])\n",
    "covid_air_dt_vis\n",
    "covid_air_dt_vis.head()"
   ]
  },
  {
   "cell_type": "markdown",
   "metadata": {},
   "source": [
    "The variable Code is added again and the dataset is melted and used for visualization"
   ]
  },
  {
   "cell_type": "code",
   "execution_count": 9,
   "metadata": {},
   "outputs": [
    {
     "data": {
      "text/html": [
       "<div>\n",
       "<style scoped>\n",
       "    .dataframe tbody tr th:only-of-type {\n",
       "        vertical-align: middle;\n",
       "    }\n",
       "\n",
       "    .dataframe tbody tr th {\n",
       "        vertical-align: top;\n",
       "    }\n",
       "\n",
       "    .dataframe thead th {\n",
       "        text-align: right;\n",
       "    }\n",
       "</style>\n",
       "<table border=\"1\" class=\"dataframe\">\n",
       "  <thead>\n",
       "    <tr style=\"text-align: right;\">\n",
       "      <th></th>\n",
       "      <th>Code</th>\n",
       "      <th>variable</th>\n",
       "      <th>value</th>\n",
       "    </tr>\n",
       "  </thead>\n",
       "  <tbody>\n",
       "    <tr>\n",
       "      <th>0</th>\n",
       "      <td>E06000001</td>\n",
       "      <td>deaths</td>\n",
       "      <td>-0.505787</td>\n",
       "    </tr>\n",
       "    <tr>\n",
       "      <th>1</th>\n",
       "      <td>E06000002</td>\n",
       "      <td>deaths</td>\n",
       "      <td>0.284030</td>\n",
       "    </tr>\n",
       "    <tr>\n",
       "      <th>2</th>\n",
       "      <td>E06000003</td>\n",
       "      <td>deaths</td>\n",
       "      <td>-0.387314</td>\n",
       "    </tr>\n",
       "    <tr>\n",
       "      <th>3</th>\n",
       "      <td>E06000004</td>\n",
       "      <td>deaths</td>\n",
       "      <td>-0.387314</td>\n",
       "    </tr>\n",
       "    <tr>\n",
       "      <th>4</th>\n",
       "      <td>E06000005</td>\n",
       "      <td>deaths</td>\n",
       "      <td>-0.624259</td>\n",
       "    </tr>\n",
       "  </tbody>\n",
       "</table>\n",
       "</div>"
      ],
      "text/plain": [
       "        Code variable     value\n",
       "0  E06000001   deaths -0.505787\n",
       "1  E06000002   deaths  0.284030\n",
       "2  E06000003   deaths -0.387314\n",
       "3  E06000004   deaths -0.387314\n",
       "4  E06000005   deaths -0.624259"
      ]
     },
     "execution_count": 9,
     "metadata": {},
     "output_type": "execute_result"
    }
   ],
   "source": [
    "covid_air_dt_vis.loc[:,'Code']=covid_air_dt['Code']\n",
    "covid_air_dt_vis_new=pd.melt(covid_air_dt_vis, id_vars='Code')\n",
    "covid_air_dt_vis_new.head()"
   ]
  },
  {
   "cell_type": "code",
   "execution_count": 10,
   "metadata": {},
   "outputs": [
    {
     "data": {
      "text/plain": [
       "<seaborn.axisgrid.FacetGrid at 0x1de36b4f670>"
      ]
     },
     "execution_count": 10,
     "metadata": {},
     "output_type": "execute_result"
    },
    {
     "data": {
      "image/png": "[encoded data removed]",
      "text/plain": [
       "<Figure size 656x864 with 10 Axes>"
      ]
     },
     "metadata": {
      "needs_background": "light"
     },
     "output_type": "display_data"
    }
   ],
   "source": [
    "g = sns.FacetGrid(covid_air_dt_vis_new, col='variable', col_wrap=3)\n",
    "g.map(sns.histplot, 'value', bins=30)\n",
    "g.add_legend()"
   ]
  },
  {
   "cell_type": "markdown",
   "metadata": {},
   "source": [
    "From the plot we can see thah\n",
    "- all pollutants seem to have very different value according to the location\n",
    "- population density and number of deaths have similar distribution, skewed on the right\n",
    "- mean annual earning has similar distribution to deaths and number of deaths but less skewed"
   ]
  },
  {
   "cell_type": "markdown",
   "metadata": {},
   "source": [
    "<a id='nbf'></a>\n",
    "### Fit negative binomial regression model with number of deaths as dependent variable"
   ]
  },
  {
   "cell_type": "markdown",
   "metadata": {},
   "source": [
    "<a id='pm10'></a>\n",
    "##### Investigate the impact of particulate matter with an aerodynamic diameter < 10.0 μm (pm10) on the expected number of deaths\n",
    "Here a negative binomial regression model is fitted. The number of deaths is the dependent variable and the value of pm10 is used as regressor. Population density, mean annual earnings and median age are included in the model to account for their counfonding effect."
   ]
  },
  {
   "cell_type": "code",
   "execution_count": 11,
   "metadata": {},
   "outputs": [
    {
     "name": "stdout",
     "output_type": "stream",
     "text": [
      "                 Generalized Linear Model Regression Results                  \n",
      "==============================================================================\n",
      "Dep. Variable:                 deaths   No. Observations:                  306\n",
      "Model:                            GLM   Df Residuals:                      301\n",
      "Model Family:        NegativeBinomial   Df Model:                            4\n",
      "Link Function:                    log   Scale:                          1.0000\n",
      "Method:                          IRLS   Log-Likelihood:                -1393.3\n",
      "Date:                Fri, 01 Oct 2021   Deviance:                       326.88\n",
      "Time:                        22:27:49   Pearson chi2:                     358.\n",
      "No. Iterations:                    10                                         \n",
      "Covariance Type:            nonrobust                                         \n",
      "==========================================================================================\n",
      "                             coef    std err          z      P>|z|      [0.025      0.975]\n",
      "------------------------------------------------------------------------------------------\n",
      "Intercept                  7.1789      0.593     12.115      0.000       6.017       8.340\n",
      "X2018_people_per_sq_km     0.0001   2.24e-05      4.896      0.000    6.59e-05       0.000\n",
      "Mean_ann_earnings       5.819e-06   6.34e-06      0.918      0.359   -6.61e-06    1.82e-05\n",
      "median_age_2018           -0.0792      0.011     -7.013      0.000      -0.101      -0.057\n",
      "pm10_val                  -0.0405      0.020     -2.068      0.039      -0.079      -0.002\n",
      "==========================================================================================\n",
      "          VIF                variable\n",
      "0  214.044540               Intercept\n",
      "1    2.091138  X2018_people_per_sq_km\n",
      "2    1.349835       Mean_ann_earnings\n",
      "3    1.926874         median_age_2018\n",
      "4    1.629255                pm10_val\n"
     ]
    }
   ],
   "source": [
    "pm10_deaths = smf.glm(formula = \"deaths ~ X2018_people_per_sq_km + Mean_ann_earnings + median_age_2018 + pm10_val\", data=covid_air_dt, family=sm.families.NegativeBinomial(alpha=0.4741584)).fit()\n",
    "print(pm10_deaths.summary())\n",
    "y, X = dmatrices('deaths ~ X2018_people_per_sq_km + Mean_ann_earnings + median_age_2018 + pm10_val', data=covid_air_dt, return_type='dataframe')\n",
    "vif_deaths_pm10 = pd.DataFrame()\n",
    "vif_deaths_pm10['VIF'] = [variance_inflation_factor(X.values, i) for i in range(X.shape[1])]\n",
    "vif_deaths_pm10['variable'] = X.columns\n",
    "print(vif_deaths_pm10)"
   ]
  },
  {
   "cell_type": "markdown",
   "metadata": {},
   "source": [
    "pm10_val and Mean_ann_earnings are not statistically significant. \n",
    "The variance inflation factor is computed. It measures how much the variance (or standard error) of the estimated regression coefficient is inflated due to collinearity. There is no evident collinearity."
   ]
  },
  {
   "cell_type": "markdown",
   "metadata": {},
   "source": [
    "<a id='pm25'></a>\n",
    "##### Investigate the impact of particular matter with an aerodynamic diameter < 2.5 μm (pm25) on the expected number of deaths\n",
    "Here a nagative binomial regression model is fitted. The number of deaths is the dependent variable and the value of pm25 is used as regressor. Population density, mean annual earnings and median age are included in the model to account for their counfonding effect."
   ]
  },
  {
   "cell_type": "code",
   "execution_count": 12,
   "metadata": {},
   "outputs": [
    {
     "name": "stdout",
     "output_type": "stream",
     "text": [
      "                 Generalized Linear Model Regression Results                  \n",
      "==============================================================================\n",
      "Dep. Variable:                 deaths   No. Observations:                  306\n",
      "Model:                            GLM   Df Residuals:                      301\n",
      "Model Family:        NegativeBinomial   Df Model:                            4\n",
      "Link Function:                    log   Scale:                          1.0000\n",
      "Method:                          IRLS   Log-Likelihood:                -1394.3\n",
      "Date:                Fri, 01 Oct 2021   Deviance:                       327.58\n",
      "Time:                        22:27:54   Pearson chi2:                     361.\n",
      "No. Iterations:                    10                                         \n",
      "Covariance Type:            nonrobust                                         \n",
      "==========================================================================================\n",
      "                             coef    std err          z      P>|z|      [0.025      0.975]\n",
      "------------------------------------------------------------------------------------------\n",
      "Intercept                  7.0480      0.631     11.176      0.000       5.812       8.284\n",
      "X2018_people_per_sq_km     0.0001   2.24e-05      4.723      0.000    6.18e-05       0.000\n",
      "Mean_ann_earnings       4.914e-06   6.47e-06      0.760      0.447   -7.76e-06    1.76e-05\n",
      "median_age_2018           -0.0792      0.012     -6.702      0.000      -0.102      -0.056\n",
      "pm25_val                  -0.0439      0.031     -1.422      0.155      -0.104       0.017\n",
      "==========================================================================================\n",
      "          VIF                variable\n",
      "0  241.744421               Intercept\n",
      "1    2.074107  X2018_people_per_sq_km\n",
      "2    1.399553       Mean_ann_earnings\n",
      "3    2.105038         median_age_2018\n",
      "4    1.915572                pm25_val\n"
     ]
    }
   ],
   "source": [
    "pm25_deaths = smf.glm(formula = \"deaths ~ X2018_people_per_sq_km + Mean_ann_earnings + median_age_2018 + pm25_val\", data=covid_air_dt, family=sm.families.NegativeBinomial(alpha = 0.4764173)).fit()\n",
    "print(pm25_deaths.summary())\n",
    "y, X = dmatrices('deaths ~ X2018_people_per_sq_km + Mean_ann_earnings + median_age_2018 + pm25_val', data=covid_air_dt, return_type='dataframe')\n",
    "vif_deaths_pm25 = pd.DataFrame()\n",
    "vif_deaths_pm25['VIF'] = [variance_inflation_factor(X.values, i) for i in range(X.shape[1])]\n",
    "vif_deaths_pm25['variable'] = X.columns\n",
    "print(vif_deaths_pm25)"
   ]
  },
  {
   "cell_type": "markdown",
   "metadata": {},
   "source": [
    "Similar as before, mean annual earnings is not statistically significant and neither pm25_value. There is no collinearity."
   ]
  },
  {
   "cell_type": "markdown",
   "metadata": {},
   "source": [
    "<a id='nox'></a>\n",
    "##### Investigate the impact of nitrogen oxides (nox) on the expected number of deaths\n",
    "Here a nagative binomial regression model is fitted. The number of deaths is the dependent variable and the value of nox is used as regressor. Population density, mean annual earnings and median age are included in the model to account for their counfonding effect."
   ]
  },
  {
   "cell_type": "code",
   "execution_count": 13,
   "metadata": {},
   "outputs": [
    {
     "name": "stdout",
     "output_type": "stream",
     "text": [
      "                 Generalized Linear Model Regression Results                  \n",
      "==============================================================================\n",
      "Dep. Variable:                 deaths   No. Observations:                  306\n",
      "Model:                            GLM   Df Residuals:                      301\n",
      "Model Family:        NegativeBinomial   Df Model:                            4\n",
      "Link Function:                    log   Scale:                          1.0000\n",
      "Method:                          IRLS   Log-Likelihood:                -1391.3\n",
      "Date:                Fri, 01 Oct 2021   Deviance:                       327.84\n",
      "Time:                        22:27:57   Pearson chi2:                     392.\n",
      "No. Iterations:                    10                                         \n",
      "Covariance Type:            nonrobust                                         \n",
      "==========================================================================================\n",
      "                             coef    std err          z      P>|z|      [0.025      0.975]\n",
      "------------------------------------------------------------------------------------------\n",
      "Intercept                  5.4913      0.547     10.042      0.000       4.420       6.563\n",
      "X2018_people_per_sq_km  7.013e-05   2.46e-05      2.847      0.004    2.18e-05       0.000\n",
      "Mean_ann_earnings      -9.594e-07   6.07e-06     -0.158      0.874   -1.29e-05    1.09e-05\n",
      "median_age_2018           -0.0538      0.012     -4.555      0.000      -0.077      -0.031\n",
      "nox_val                    0.0167      0.006      2.961      0.003       0.006       0.028\n",
      "==========================================================================================\n",
      "          VIF                variable\n",
      "0  187.085633               Intercept\n",
      "1    2.571046  X2018_people_per_sq_km\n",
      "2    1.259514       Mean_ann_earnings\n",
      "3    2.152084         median_age_2018\n",
      "4    2.787078                 nox_val\n"
     ]
    }
   ],
   "source": [
    "nox_deaths = smf.glm(formula = \"deaths ~ X2018_people_per_sq_km + Mean_ann_earnings + median_age_2018 + nox_val\", data=covid_air_dt, family=sm.families.NegativeBinomial(alpha=0.4666356)).fit()\n",
    "print(nox_deaths.summary())\n",
    "y, X = dmatrices('deaths ~ X2018_people_per_sq_km + Mean_ann_earnings + median_age_2018 + nox_val', data=covid_air_dt, return_type='dataframe')\n",
    "vif_deaths_nox = pd.DataFrame()\n",
    "vif_deaths_nox['VIF'] = [variance_inflation_factor(X.values, i) for i in range(X.shape[1])]\n",
    "vif_deaths_nox['variable'] = X.columns\n",
    "print(vif_deaths_nox)"
   ]
  },
  {
   "cell_type": "markdown",
   "metadata": {},
   "source": [
    "Mean_ann_earnings is not statistically significant.\n",
    "The variable nox has a significant effect on the number of deaths. \n",
    "There is not collinearity"
   ]
  },
  {
   "cell_type": "markdown",
   "metadata": {},
   "source": [
    "<a id='no2'></a>\n",
    "##### Investigate the impact of nitrogen dioxide (NO2) on the expected number of deaths\n",
    "Here a nagative binomial regression model is fitted. The number of deaths is the dependent variable and the value of NO2 is used as regressor. Population density, mean annual earnings and median age are included in the model to account for their counfonding effect."
   ]
  },
  {
   "cell_type": "code",
   "execution_count": 14,
   "metadata": {},
   "outputs": [
    {
     "name": "stdout",
     "output_type": "stream",
     "text": [
      "                 Generalized Linear Model Regression Results                  \n",
      "==============================================================================\n",
      "Dep. Variable:                 deaths   No. Observations:                  306\n",
      "Model:                            GLM   Df Residuals:                      301\n",
      "Model Family:        NegativeBinomial   Df Model:                            4\n",
      "Link Function:                    log   Scale:                          1.0000\n",
      "Method:                          IRLS   Log-Likelihood:                -1390.3\n",
      "Date:                Fri, 01 Oct 2021   Deviance:                       327.81\n",
      "Time:                        22:27:59   Pearson chi2:                     402.\n",
      "No. Iterations:                     8                                         \n",
      "Covariance Type:            nonrobust                                         \n",
      "==========================================================================================\n",
      "                             coef    std err          z      P>|z|      [0.025      0.975]\n",
      "------------------------------------------------------------------------------------------\n",
      "Intercept                  5.2125      0.587      8.884      0.000       4.063       6.362\n",
      "X2018_people_per_sq_km  7.244e-05    2.4e-05      3.021      0.003    2.54e-05       0.000\n",
      "Mean_ann_earnings      -1.158e-06   6.02e-06     -0.192      0.848    -1.3e-05    1.07e-05\n",
      "median_age_2018           -0.0494      0.012     -4.020      0.000      -0.074      -0.025\n",
      "no2_val                    0.0306      0.010      3.094      0.002       0.011       0.050\n",
      "==========================================================================================\n",
      "          VIF                variable\n",
      "0  216.599807               Intercept\n",
      "1    2.447950  X2018_people_per_sq_km\n",
      "2    1.247057       Mean_ann_earnings\n",
      "3    2.349611         median_age_2018\n",
      "4    2.881272                 no2_val\n"
     ]
    }
   ],
   "source": [
    "no2_deaths = smf.glm(formula = \"deaths ~ X2018_people_per_sq_km + Mean_ann_earnings + median_age_2018 + no2_val\", data=covid_air_dt, family=sm.families.NegativeBinomial(alpha = 0.4636069)).fit()\n",
    "print(no2_deaths.summary())\n",
    "y, X = dmatrices('deaths ~ X2018_people_per_sq_km + Mean_ann_earnings + median_age_2018 + no2_val', data=covid_air_dt, return_type='dataframe')\n",
    "vif_deaths_no2 = pd.DataFrame()\n",
    "vif_deaths_no2['VIF'] = [variance_inflation_factor(X.values, i) for i in range(X.shape[1])]\n",
    "vif_deaths_no2['variable'] = X.columns\n",
    "print(vif_deaths_no2)"
   ]
  },
  {
   "cell_type": "markdown",
   "metadata": {},
   "source": [
    "Mean_ann_earnings is not statistically significant. \n",
    "no2_val has a significant effect. \n",
    "There is no collinearity"
   ]
  },
  {
   "cell_type": "markdown",
   "metadata": {},
   "source": [
    "<a id='o3'></a>\n",
    "##### Investigate the impact of ozone (O3) on the expected number of deaths\n",
    "Here a nagative binomial regression model is fitted. The number of deaths is the dependent variable and the value of O3 is used as regressor. Population density, mean annual earnings and median age are included in the model to account for their counfonding effect."
   ]
  },
  {
   "cell_type": "code",
   "execution_count": 15,
   "metadata": {},
   "outputs": [
    {
     "name": "stdout",
     "output_type": "stream",
     "text": [
      "                 Generalized Linear Model Regression Results                  \n",
      "==============================================================================\n",
      "Dep. Variable:                 deaths   No. Observations:                  306\n",
      "Model:                            GLM   Df Residuals:                      301\n",
      "Model Family:        NegativeBinomial   Df Model:                            4\n",
      "Link Function:                    log   Scale:                          1.0000\n",
      "Method:                          IRLS   Log-Likelihood:                -1390.7\n",
      "Date:                Fri, 01 Oct 2021   Deviance:                       326.43\n",
      "Time:                        22:28:02   Pearson chi2:                     365.\n",
      "No. Iterations:                    11                                         \n",
      "Covariance Type:            nonrobust                                         \n",
      "==========================================================================================\n",
      "                             coef    std err          z      P>|z|      [0.025      0.975]\n",
      "------------------------------------------------------------------------------------------\n",
      "Intercept                  6.2951      0.489     12.870      0.000       5.336       7.254\n",
      "X2018_people_per_sq_km  9.064e-05   2.22e-05      4.087      0.000    4.72e-05       0.000\n",
      "Mean_ann_earnings       8.528e-06   6.08e-06      1.402      0.161    -3.4e-06    2.05e-05\n",
      "median_age_2018           -0.0656      0.011     -6.013      0.000      -0.087      -0.044\n",
      "o3_val                    -0.0401      0.013     -3.165      0.002      -0.065      -0.015\n",
      "==========================================================================================\n",
      "          VIF                variable\n",
      "0  148.958116               Intercept\n",
      "1    2.072131  X2018_people_per_sq_km\n",
      "2    1.265780       Mean_ann_earnings\n",
      "3    1.830101         median_age_2018\n",
      "4    1.159537                  o3_val\n"
     ]
    }
   ],
   "source": [
    "o3_deaths = smf.glm(formula = \"deaths ~ X2018_people_per_sq_km + Mean_ann_earnings + median_age_2018 + o3_val\", data=covid_air_dt, family=sm.families.NegativeBinomial(alpha=0.4668534)).fit()\n",
    "print(o3_deaths.summary())\n",
    "y, X = dmatrices('deaths ~ X2018_people_per_sq_km + Mean_ann_earnings + median_age_2018 + o3_val', data=covid_air_dt, return_type='dataframe')\n",
    "vif_deaths_o3 = pd.DataFrame()\n",
    "vif_deaths_o3['VIF'] = [variance_inflation_factor(X.values, i) for i in range(X.shape[1])]\n",
    "vif_deaths_o3['variable'] = X.columns\n",
    "print(vif_deaths_o3)"
   ]
  },
  {
   "cell_type": "markdown",
   "metadata": {},
   "source": [
    "only Mean_ann_earnings is not statistically significant. O3 is significant. There is no collinearity."
   ]
  },
  {
   "cell_type": "markdown",
   "metadata": {},
   "source": [
    "<a id='so2'></a>\n",
    "##### investigate the impact of Sulfur dioxide (SO2) on the expected number of deaths\n",
    "Here a nagative binomial regression model is fitted. deaths is the dependent variable and the value of SO2 is used as regressor. Population density, mean annual earnings and median age are included in the model to account for their counfonding effect."
   ]
  },
  {
   "cell_type": "code",
   "execution_count": 16,
   "metadata": {},
   "outputs": [
    {
     "name": "stdout",
     "output_type": "stream",
     "text": [
      "                 Generalized Linear Model Regression Results                  \n",
      "==============================================================================\n",
      "Dep. Variable:                 deaths   No. Observations:                  306\n",
      "Model:                            GLM   Df Residuals:                      301\n",
      "Model Family:        NegativeBinomial   Df Model:                            4\n",
      "Link Function:                    log   Scale:                          1.0000\n",
      "Method:                          IRLS   Log-Likelihood:                -1390.9\n",
      "Date:                Fri, 01 Oct 2021   Deviance:                       325.01\n",
      "Time:                        22:28:04   Pearson chi2:                     396.\n",
      "No. Iterations:                     8                                         \n",
      "Covariance Type:            nonrobust                                         \n",
      "==========================================================================================\n",
      "                             coef    std err          z      P>|z|      [0.025      0.975]\n",
      "------------------------------------------------------------------------------------------\n",
      "Intercept                  5.2175      0.604      8.634      0.000       4.033       6.402\n",
      "X2018_people_per_sq_km  9.103e-05   2.23e-05      4.087      0.000    4.74e-05       0.000\n",
      "Mean_ann_earnings       6.722e-06   6.02e-06      1.117      0.264   -5.07e-06    1.85e-05\n",
      "median_age_2018           -0.0545      0.012     -4.597      0.000      -0.078      -0.031\n",
      "so2_val                    0.2522      0.085      2.969      0.003       0.086       0.419\n",
      "==========================================================================================\n",
      "          VIF                variable\n",
      "0  227.018996               Intercept\n",
      "1    2.079106  X2018_people_per_sq_km\n",
      "2    1.229313       Mean_ann_earnings\n",
      "3    2.159644         median_age_2018\n",
      "4    1.570310                 so2_val\n"
     ]
    }
   ],
   "source": [
    "so2_deaths = smf.glm(formula = \"deaths ~ X2018_people_per_sq_km + Mean_ann_earnings + median_age_2018 + so2_val\", data=covid_air_dt, family=sm.families.NegativeBinomial(alpha=0.4697041)).fit()\n",
    "print(so2_deaths.summary())\n",
    "y, X = dmatrices('deaths ~ X2018_people_per_sq_km + Mean_ann_earnings + median_age_2018 + so2_val', data=covid_air_dt, return_type='dataframe')\n",
    "vif_deaths_so2 = pd.DataFrame()\n",
    "vif_deaths_so2['VIF'] = [variance_inflation_factor(X.values, i) for i in range(X.shape[1])]\n",
    "vif_deaths_so2['variable'] = X.columns\n",
    "print(vif_deaths_so2)"
   ]
  },
  {
   "cell_type": "markdown",
   "metadata": {},
   "source": [
    "Mean_ann_earnings is not significant. There is no collinearity"
   ]
  },
  {
   "cell_type": "markdown",
   "metadata": {},
   "source": [
    "<a id='mae'></a>\n",
    "##### Fit the same models without the variable Mean_ann_earnings because not significant"
   ]
  },
  {
   "cell_type": "code",
   "execution_count": 17,
   "metadata": {},
   "outputs": [
    {
     "name": "stdout",
     "output_type": "stream",
     "text": [
      "                 Generalized Linear Model Regression Results                  \n",
      "==============================================================================\n",
      "Dep. Variable:                 deaths   No. Observations:                  312\n",
      "Model:                            GLM   Df Residuals:                      308\n",
      "Model Family:        NegativeBinomial   Df Model:                            3\n",
      "Link Function:                    log   Scale:                          1.0000\n",
      "Method:                          IRLS   Log-Likelihood:                -1416.9\n",
      "Date:                Fri, 01 Oct 2021   Deviance:                       332.94\n",
      "Time:                        22:28:21   Pearson chi2:                     368.\n",
      "No. Iterations:                     7                                         \n",
      "Covariance Type:            nonrobust                                         \n",
      "==========================================================================================\n",
      "                             coef    std err          z      P>|z|      [0.025      0.975]\n",
      "------------------------------------------------------------------------------------------\n",
      "Intercept                  6.5550      0.464     14.132      0.000       5.646       7.464\n",
      "X2018_people_per_sq_km  9.341e-05   1.95e-05      4.798      0.000    5.53e-05       0.000\n",
      "median_age_2018           -0.0669      0.011     -6.324      0.000      -0.088      -0.046\n",
      "o3_val                    -0.0340      0.012     -2.808      0.005      -0.058      -0.010\n",
      "==========================================================================================\n",
      "                 Generalized Linear Model Regression Results                  \n",
      "==============================================================================\n",
      "Dep. Variable:                 deaths   No. Observations:                  312\n",
      "Model:                            GLM   Df Residuals:                      308\n",
      "Model Family:        NegativeBinomial   Df Model:                            3\n",
      "Link Function:                    log   Scale:                          1.0000\n",
      "Method:                          IRLS   Log-Likelihood:                -1416.8\n",
      "Date:                Fri, 01 Oct 2021   Deviance:                       331.68\n",
      "Time:                        22:28:21   Pearson chi2:                     396.\n",
      "No. Iterations:                     8                                         \n",
      "Covariance Type:            nonrobust                                         \n",
      "==========================================================================================\n",
      "                             coef    std err          z      P>|z|      [0.025      0.975]\n",
      "------------------------------------------------------------------------------------------\n",
      "Intercept                  5.5095      0.566      9.737      0.000       4.400       6.619\n",
      "X2018_people_per_sq_km  9.357e-05   1.95e-05      4.790      0.000    5.53e-05       0.000\n",
      "median_age_2018           -0.0559      0.012     -4.822      0.000      -0.079      -0.033\n",
      "so2_val                    0.2285      0.083      2.760      0.006       0.066       0.391\n",
      "==========================================================================================\n",
      "                 Generalized Linear Model Regression Results                  \n",
      "==============================================================================\n",
      "Dep. Variable:                 deaths   No. Observations:                  312\n",
      "Model:                            GLM   Df Residuals:                      308\n",
      "Model Family:        NegativeBinomial   Df Model:                            3\n",
      "Link Function:                    log   Scale:                          1.0000\n",
      "Method:                          IRLS   Log-Likelihood:                -1416.1\n",
      "Date:                Fri, 01 Oct 2021   Deviance:                       333.99\n",
      "Time:                        22:28:21   Pearson chi2:                     410.\n",
      "No. Iterations:                     9                                         \n",
      "Covariance Type:            nonrobust                                         \n",
      "==========================================================================================\n",
      "                             coef    std err          z      P>|z|      [0.025      0.975]\n",
      "------------------------------------------------------------------------------------------\n",
      "Intercept                  5.2908      0.571      9.259      0.000       4.171       6.411\n",
      "X2018_people_per_sq_km  6.693e-05   2.26e-05      2.964      0.003    2.27e-05       0.000\n",
      "median_age_2018           -0.0514      0.012     -4.386      0.000      -0.074      -0.028\n",
      "no2_val                    0.0292      0.010      3.058      0.002       0.010       0.048\n",
      "==========================================================================================\n",
      "                 Generalized Linear Model Regression Results                  \n",
      "==============================================================================\n",
      "Dep. Variable:                 deaths   No. Observations:                  312\n",
      "Model:                            GLM   Df Residuals:                      308\n",
      "Model Family:        NegativeBinomial   Df Model:                            3\n",
      "Link Function:                    log   Scale:                          1.0000\n",
      "Method:                          IRLS   Log-Likelihood:                -1417.1\n",
      "Date:                Fri, 01 Oct 2021   Deviance:                       334.05\n",
      "Time:                        22:28:21   Pearson chi2:                     400.\n",
      "No. Iterations:                     8                                         \n",
      "Covariance Type:            nonrobust                                         \n",
      "==========================================================================================\n",
      "                             coef    std err          z      P>|z|      [0.025      0.975]\n",
      "------------------------------------------------------------------------------------------\n",
      "Intercept                  5.5658      0.531     10.487      0.000       4.526       6.606\n",
      "X2018_people_per_sq_km  6.496e-05   2.34e-05      2.778      0.005    1.91e-05       0.000\n",
      "median_age_2018           -0.0556      0.011     -4.940      0.000      -0.078      -0.034\n",
      "nox_val                    0.0159      0.005      2.930      0.003       0.005       0.026\n",
      "==========================================================================================\n",
      "                 Generalized Linear Model Regression Results                  \n",
      "==============================================================================\n",
      "Dep. Variable:                 deaths   No. Observations:                  312\n",
      "Model:                            GLM   Df Residuals:                      308\n",
      "Model Family:        NegativeBinomial   Df Model:                            3\n",
      "Link Function:                    log   Scale:                          1.0000\n",
      "Method:                          IRLS   Log-Likelihood:                -1420.0\n",
      "Date:                Fri, 01 Oct 2021   Deviance:                       333.93\n",
      "Time:                        22:28:21   Pearson chi2:                     368.\n",
      "No. Iterations:                     8                                         \n",
      "Covariance Type:            nonrobust                                         \n",
      "==========================================================================================\n",
      "                             coef    std err          z      P>|z|      [0.025      0.975]\n",
      "------------------------------------------------------------------------------------------\n",
      "Intercept                  7.0696      0.615     11.494      0.000       5.864       8.275\n",
      "X2018_people_per_sq_km     0.0001   2.06e-05      5.077      0.000    6.41e-05       0.000\n",
      "median_age_2018           -0.0779      0.011     -6.983      0.000      -0.100      -0.056\n",
      "pm25_val                  -0.0357      0.028     -1.277      0.202      -0.091       0.019\n",
      "==========================================================================================\n",
      "                 Generalized Linear Model Regression Results                  \n",
      "==============================================================================\n",
      "Dep. Variable:                 deaths   No. Observations:                  312\n",
      "Model:                            GLM   Df Residuals:                      308\n",
      "Model Family:        NegativeBinomial   Df Model:                            3\n",
      "Link Function:                    log   Scale:                          1.0000\n",
      "Method:                          IRLS   Log-Likelihood:                -1419.2\n",
      "Date:                Fri, 01 Oct 2021   Deviance:                       333.26\n",
      "Time:                        22:28:21   Pearson chi2:                     364.\n",
      "No. Iterations:                     8                                         \n",
      "Covariance Type:            nonrobust                                         \n",
      "==========================================================================================\n",
      "                             coef    std err          z      P>|z|      [0.025      0.975]\n",
      "------------------------------------------------------------------------------------------\n",
      "Intercept                  7.1956      0.578     12.442      0.000       6.062       8.329\n",
      "X2018_people_per_sq_km     0.0001   2.06e-05      5.277      0.000    6.85e-05       0.000\n",
      "median_age_2018           -0.0777      0.011     -7.215      0.000      -0.099      -0.057\n",
      "pm10_val                  -0.0334      0.018     -1.847      0.065      -0.069       0.002\n",
      "==========================================================================================\n"
     ]
    }
   ],
   "source": [
    "o3_deaths_nb_red = smf.glm(formula = \"deaths ~ X2018_people_per_sq_km + median_age_2018 + o3_val\", data=covid_air_dt, family=sm.families.NegativeBinomial(alpha=0.4621072)).fit()\n",
    "print(o3_deaths_nb_red.summary())\n",
    "y, X = dmatrices('deaths ~ X2018_people_per_sq_km + Mean_ann_earnings + median_age_2018 + o3_val', data=covid_air_dt, return_type='dataframe')\n",
    "vif_deaths_nb_red_pm10 = pd.DataFrame()\n",
    "vif_deaths_nb_red_pm10['VIF'] = [variance_inflation_factor(X.values, i) for i in range(X.shape[1])]\n",
    "vif_deaths_nb_red_pm10['variable'] = X.columns\n",
    "\n",
    "so2_deaths_nb_red = smf.glm(formula = \"deaths ~ X2018_people_per_sq_km + median_age_2018 + so2_val\", data=covid_air_dt, family=sm.families.NegativeBinomial(alpha=0.4638219)).fit()\n",
    "print(so2_deaths_nb_red.summary())\n",
    "y, X = dmatrices('deaths ~ X2018_people_per_sq_km + Mean_ann_earnings + median_age_2018 + so2_val', data=covid_air_dt, return_type='dataframe')\n",
    "vif_deaths_nb_red_so2 = pd.DataFrame()\n",
    "vif_deaths_nb_red_so2['VIF'] = [variance_inflation_factor(X.values, i) for i in range(X.shape[1])]\n",
    "vif_deaths_nb_red_so2['variable'] = X.columns\n",
    "\n",
    "no2_deaths_nb_red = smf.glm(formula = \"deaths ~ X2018_people_per_sq_km + median_age_2018 + no2_val\", data=covid_air_dt, family=sm.families.NegativeBinomial(alpha=0.4582951)).fit()\n",
    "print(no2_deaths_nb_red.summary())\n",
    "y, X = dmatrices('deaths ~ X2018_people_per_sq_km + Mean_ann_earnings + median_age_2018 + no2_val', data=covid_air_dt, return_type='dataframe')\n",
    "vif_deaths_nb_red_no2 = pd.DataFrame()\n",
    "vif_deaths_nb_red_no2['VIF'] = [variance_inflation_factor(X.values, i) for i in range(X.shape[1])]\n",
    "vif_deaths_nb_red_no2['variable'] = X.columns\n",
    "\n",
    "nox_deaths_nb_red = smf.glm(formula = \"deaths ~ X2018_people_per_sq_km + median_age_2018 + nox_val\", data=covid_air_dt, family=sm.families.NegativeBinomial(alpha=0.461042)).fit()\n",
    "print(nox_deaths_nb_red.summary())\n",
    "y, X = dmatrices('deaths ~ X2018_people_per_sq_km + Mean_ann_earnings + median_age_2018 + nox_val', data=covid_air_dt, return_type='dataframe')\n",
    "vif_deaths_nb_red_nox = pd.DataFrame()\n",
    "vif_deaths_nb_red_nox['VIF'] = [variance_inflation_factor(X.values, i) for i in range(X.shape[1])]\n",
    "vif_deaths_nb_red_nox['variable'] = X.columns\n",
    "\n",
    "pm25_deaths_nb_red = smf.glm(formula = \"deaths ~ X2018_people_per_sq_km + median_age_2018 + pm25_val\", data=covid_air_dt, family=sm.families.NegativeBinomial(alpha=0.4701457)).fit()\n",
    "print(pm25_deaths_nb_red.summary())\n",
    "y, X = dmatrices('deaths ~ X2018_people_per_sq_km + Mean_ann_earnings + median_age_2018 + pm25_val', data=covid_air_dt, return_type='dataframe')\n",
    "vif_deaths_nb_red_pm25 = pd.DataFrame()\n",
    "vif_deaths_nb_red_pm25['VIF'] = [variance_inflation_factor(X.values, i) for i in range(X.shape[1])]\n",
    "vif_deaths_nb_red_pm25['variable'] = X.columns\n",
    "\n",
    "pm10_deaths_nb_red = smf.glm(formula = \"deaths ~ X2018_people_per_sq_km + median_age_2018 + pm10_val\", data=covid_air_dt, family=sm.families.NegativeBinomial(alpha=0.4686036)).fit()\n",
    "print(pm10_deaths_nb_red.summary())\n",
    "y, X = dmatrices('deaths ~ X2018_people_per_sq_km + Mean_ann_earnings + median_age_2018 + pm10_val', data=covid_air_dt, return_type='dataframe')\n",
    "vif_deaths_nb_red_pm10 = pd.DataFrame()\n",
    "vif_deaths_nb_red_pm10['VIF'] = [variance_inflation_factor(X.values, i) for i in range(X.shape[1])]\n",
    "vif_deaths_nb_red_pm10['variable'] = X.columns"
   ]
  },
  {
   "cell_type": "markdown",
   "metadata": {},
   "source": [
    "All the regressors in every model are significant, except for pm10_value and pm25_value"
   ]
  },
  {
   "cell_type": "markdown",
   "metadata": {},
   "source": [
    "The computed models are saved in a html file:"
   ]
  },
  {
   "cell_type": "code",
   "execution_count": 19,
   "metadata": {},
   "outputs": [],
   "source": [
    "nb2018_deaths = Stargazer([pm10_deaths_nb_red, pm25_deaths_nb_red, nox_deaths_nb_red, no2_deaths_nb_red, o3_deaths_nb_red, so2_deaths_nb_red])\n",
    "nb2018_deaths.custom_columns(['pm10', 'pm25', 'nox', 'no2', 'o3', 'so2'], [1,1,1,1,1,1])\n",
    "html = open(\"../data_out/negative_binomial_deaths_2018.html\",\"w\")\n",
    "html.write(nb2018_deaths.render_html())\n",
    "html.close()"
   ]
  },
  {
   "cell_type": "markdown",
   "metadata": {},
   "source": [
    "<a id='or'></a>\n",
    "##### Mortality rate: compute and visualize odds ratio"
   ]
  },
  {
   "cell_type": "code",
   "execution_count": 21,
   "metadata": {},
   "outputs": [
    {
     "data": {
      "text/html": [
       "<div>\n",
       "<style scoped>\n",
       "    .dataframe tbody tr th:only-of-type {\n",
       "        vertical-align: middle;\n",
       "    }\n",
       "\n",
       "    .dataframe tbody tr th {\n",
       "        vertical-align: top;\n",
       "    }\n",
       "\n",
       "    .dataframe thead th {\n",
       "        text-align: right;\n",
       "    }\n",
       "</style>\n",
       "<table border=\"1\" class=\"dataframe\">\n",
       "  <thead>\n",
       "    <tr style=\"text-align: right;\">\n",
       "      <th></th>\n",
       "      <th>or</th>\n",
       "      <th>0.025</th>\n",
       "      <th>0.975</th>\n",
       "      <th>pvalue</th>\n",
       "      <th>significance</th>\n",
       "      <th>names</th>\n",
       "    </tr>\n",
       "  </thead>\n",
       "  <tbody>\n",
       "    <tr>\n",
       "      <th>no2_val</th>\n",
       "      <td>1.031118</td>\n",
       "      <td>1.011296</td>\n",
       "      <td>1.051329</td>\n",
       "      <td>0.001973</td>\n",
       "      <td>p-value &lt; 0.05</td>\n",
       "      <td>no2_val</td>\n",
       "    </tr>\n",
       "    <tr>\n",
       "      <th>nox_val</th>\n",
       "      <td>1.016822</td>\n",
       "      <td>1.005656</td>\n",
       "      <td>1.028112</td>\n",
       "      <td>0.003065</td>\n",
       "      <td>p-value &lt; 0.05</td>\n",
       "      <td>nox_val</td>\n",
       "    </tr>\n",
       "    <tr>\n",
       "      <th>o3_val</th>\n",
       "      <td>0.960700</td>\n",
       "      <td>0.937143</td>\n",
       "      <td>0.984850</td>\n",
       "      <td>0.001550</td>\n",
       "      <td>p-value &lt; 0.05</td>\n",
       "      <td>o3_val</td>\n",
       "    </tr>\n",
       "    <tr>\n",
       "      <th>pm10_val</th>\n",
       "      <td>0.960271</td>\n",
       "      <td>0.924077</td>\n",
       "      <td>0.997883</td>\n",
       "      <td>0.038633</td>\n",
       "      <td>p-value &lt; 0.05</td>\n",
       "      <td>pm10_val</td>\n",
       "    </tr>\n",
       "    <tr>\n",
       "      <th>pm25_val</th>\n",
       "      <td>0.957048</td>\n",
       "      <td>0.900861</td>\n",
       "      <td>1.016740</td>\n",
       "      <td>0.154975</td>\n",
       "      <td>p-value &gt; 0.05</td>\n",
       "      <td>pm25_val</td>\n",
       "    </tr>\n",
       "  </tbody>\n",
       "</table>\n",
       "</div>"
      ],
      "text/plain": [
       "                or     0.025     0.975    pvalue    significance     names\n",
       "no2_val   1.031118  1.011296  1.051329  0.001973  p-value < 0.05   no2_val\n",
       "nox_val   1.016822  1.005656  1.028112  0.003065  p-value < 0.05   nox_val\n",
       "o3_val    0.960700  0.937143  0.984850  0.001550  p-value < 0.05    o3_val\n",
       "pm10_val  0.960271  0.924077  0.997883  0.038633  p-value < 0.05  pm10_val\n",
       "pm25_val  0.957048  0.900861  1.016740  0.154975  p-value > 0.05  pm25_val"
      ]
     },
     "execution_count": 21,
     "metadata": {},
     "output_type": "execute_result"
    }
   ],
   "source": [
    "deaths_pm10_or = pd.concat([np.exp(pm10_deaths.params),np.exp(pm10_deaths.conf_int()[0]),np.exp(pm10_deaths.conf_int()[1]),pm10_deaths.pvalues], axis=1,\n",
    "                       keys=['or', '0.025', '0.975', 'pvalue'])\n",
    "deaths_o3_or = pd.concat([np.exp(o3_deaths.params),np.exp(o3_deaths.conf_int()[0]),np.exp(o3_deaths.conf_int()[1]),o3_deaths.pvalues], axis=1,\n",
    "                       keys=['or', '0.025', '0.975', 'pvalue'])\n",
    "deaths_no2_or = pd.concat([np.exp(no2_deaths.params),np.exp(no2_deaths.conf_int()[0]),np.exp(no2_deaths.conf_int()[1]),no2_deaths.pvalues], axis=1,\n",
    "                       keys=['or', '0.025', '0.975', 'pvalue'])\n",
    "deaths_nox_or = pd.concat([np.exp(nox_deaths.params),np.exp(nox_deaths.conf_int()[0]),np.exp(nox_deaths.conf_int()[1]),nox_deaths.pvalues], axis=1,\n",
    "                       keys=['or', '0.025', '0.975', 'pvalue'])\n",
    "deaths_pm25_or = pd.concat([np.exp(pm25_deaths.params),np.exp(pm25_deaths.conf_int()[0]),np.exp(pm25_deaths.conf_int()[1]),pm25_deaths.pvalues], axis=1,\n",
    "                       keys=['or', '0.025', '0.975', 'pvalue'])\n",
    "LA_covid_onlyPoll = pd.concat([deaths_pm10_or.iloc[deaths_pm10_or.shape[0]-1],\n",
    "                               deaths_o3_or.iloc[deaths_o3_or.shape[0]-1],\n",
    "                               deaths_no2_or.iloc[deaths_no2_or.shape[0]-1],\n",
    "                               deaths_nox_or.iloc[deaths_nox_or.shape[0]-1],\n",
    "                               deaths_pm25_or.iloc[deaths_pm25_or.shape[0]-1]], axis=1)\n",
    "LA_covid_onlyPoll = LA_covid_onlyPoll.transpose()\n",
    "LA_covid_onlyPoll['significance'] = np.where(LA_covid_onlyPoll['pvalue'] < 0.05, 'p-value < 0.05', 'p-value > 0.05')\n",
    "LA_covid_onlyPoll['names'] = LA_covid_onlyPoll.index.values \n",
    "LA_covid_onlyPoll = LA_covid_onlyPoll.sort_values(by=['or'], ascending = False)\n",
    "LA_covid_onlyPoll.to_csv(\"../data_out/LA_covid_DEATHS_onlyPoll_preL_AP2018.csv\")\n",
    "LA_covid_onlyPoll"
   ]
  },
  {
   "cell_type": "markdown",
   "metadata": {},
   "source": [
    "From this table we can easily see the impact of the pollutants on the expected number of deaths. pm10 and pm25 cannote be interpreted as their pvalue is greater than 0.05, inducating that they are not significant predictors of the number of COVID-19-related deaths based on 2018 air pollution data. \n",
    "\n",
    "no2 and nox are risk factor while o3 is a protective factor.\n",
    "\n",
    "For a unit increase of nitrogen dioxide (no2) the expected number of deaths increases by 3%.\n",
    "For a unit increase of nitrogen oxode (nox) the expected number of deaths increases by 1.6%.\n",
    "For a uinit increase of ozone (o3) the expected number of deaths decreases by 4%."
   ]
  },
  {
   "cell_type": "code",
   "execution_count": 22,
   "metadata": {},
   "outputs": [
    {
     "data": {
      "image/png": "[encoded data removed]",
      "text/plain": [
       "<Figure size 432x288 with 1 Axes>"
      ]
     },
     "metadata": {
      "needs_background": "light"
     },
     "output_type": "display_data"
    }
   ],
   "source": [
    "ax = sns.scatterplot(x=\"or\", y=\"names\", data=LA_covid_onlyPoll, hue=\"significance\")\n",
    "plt.axvline(x=1,linestyle =\"--\", linewidth=0.6, color = 'gray')\n",
    "xerr = [abs(LA_covid_onlyPoll['or'].values-LA_covid_onlyPoll['0.025'].values),abs(LA_covid_onlyPoll['or'].values-LA_covid_onlyPoll['0.975'].values)]\n",
    "plt.errorbar(LA_covid_onlyPoll['or'], LA_covid_onlyPoll['names'], xerr = xerr, fmt = 'none', capsize=5, alpha=0.5)\n",
    "plt.xlabel(\"Mortality rate ratios\")\n",
    "plt.ylabel(\"pollutants\")\n",
    "plt.savefig('../data_out/mortality_rate_2018.png')\n",
    "plt.show()"
   ]
  },
  {
   "cell_type": "markdown",
   "metadata": {},
   "source": [
    "<a id='nbf_cases'></a>\n",
    "### Fit negative binomial regression model with number of cases as dependent variable"
   ]
  },
  {
   "cell_type": "markdown",
   "metadata": {},
   "source": [
    "The same analysis is now performed to study the relationship between number of cases and pollution levels.\n",
    "\n",
    "Information regarding cases can be found in the [cases_LA_dt_raw](../Data/datasets.ipynb#cases_LA_dt_raw]). By manipulating this dataset a new dataset, cases_LA_dt.agg, is obtained. It shows the mean value of lab-confirmed cases grouped by area code\n",
    "<a id='agg'></a>"
   ]
  },
  {
   "cell_type": "code",
   "execution_count": 23,
   "metadata": {},
   "outputs": [
    {
     "data": {
      "text/html": [
       "<div>\n",
       "<style scoped>\n",
       "    .dataframe tbody tr th:only-of-type {\n",
       "        vertical-align: middle;\n",
       "    }\n",
       "\n",
       "    .dataframe tbody tr th {\n",
       "        vertical-align: top;\n",
       "    }\n",
       "\n",
       "    .dataframe thead th {\n",
       "        text-align: right;\n",
       "    }\n",
       "</style>\n",
       "<table border=\"1\" class=\"dataframe\">\n",
       "  <thead>\n",
       "    <tr style=\"text-align: right;\">\n",
       "      <th></th>\n",
       "      <th>Cumulative lab-confirmed cases</th>\n",
       "    </tr>\n",
       "    <tr>\n",
       "      <th>Area code</th>\n",
       "      <th></th>\n",
       "    </tr>\n",
       "  </thead>\n",
       "  <tbody>\n",
       "    <tr>\n",
       "      <th>E06000001</th>\n",
       "      <td>79</td>\n",
       "    </tr>\n",
       "    <tr>\n",
       "      <th>E06000002</th>\n",
       "      <td>272</td>\n",
       "    </tr>\n",
       "    <tr>\n",
       "      <th>E06000003</th>\n",
       "      <td>158</td>\n",
       "    </tr>\n",
       "    <tr>\n",
       "      <th>E06000004</th>\n",
       "      <td>199</td>\n",
       "    </tr>\n",
       "    <tr>\n",
       "      <th>E06000005</th>\n",
       "      <td>125</td>\n",
       "    </tr>\n",
       "  </tbody>\n",
       "</table>\n",
       "</div>"
      ],
      "text/plain": [
       "           Cumulative lab-confirmed cases\n",
       "Area code                                \n",
       "E06000001                              79\n",
       "E06000002                             272\n",
       "E06000003                             158\n",
       "E06000004                             199\n",
       "E06000005                             125"
      ]
     },
     "execution_count": 23,
     "metadata": {},
     "output_type": "execute_result"
    }
   ],
   "source": [
    "cases_LA_raw = pd.read_csv(\"%s/coronavirus-cases_latest-18_5_2020.csv\" %path)\n",
    "cases_LA_dt = cases_LA_raw.loc[cases_LA_raw[\"Specimen date\"]== \"2020-04-10\",[\"Area code\", \"Cumulative lab-confirmed cases\"]]\n",
    "cases_LA_dt.agg = cases_LA_dt.groupby(['Area code']).mean()\n",
    "cases_LA_dt.agg.head()"
   ]
  },
  {
   "cell_type": "markdown",
   "metadata": {},
   "source": [
    "A dataset with information regarding both deaths and cases is created. It is obtained by merging the [covid_air_dt](/datasets.ipynb#covid_air_dt) and cases_LA_dt.agg just created"
   ]
  },
  {
   "cell_type": "code",
   "execution_count": 25,
   "metadata": {},
   "outputs": [
    {
     "data": {
      "text/html": [
       "<div>\n",
       "<style scoped>\n",
       "    .dataframe tbody tr th:only-of-type {\n",
       "        vertical-align: middle;\n",
       "    }\n",
       "\n",
       "    .dataframe tbody tr th {\n",
       "        vertical-align: top;\n",
       "    }\n",
       "\n",
       "    .dataframe thead th {\n",
       "        text-align: right;\n",
       "    }\n",
       "</style>\n",
       "<table border=\"1\" class=\"dataframe\">\n",
       "  <thead>\n",
       "    <tr style=\"text-align: right;\">\n",
       "      <th></th>\n",
       "      <th>lon</th>\n",
       "      <th>lat</th>\n",
       "      <th>Code</th>\n",
       "      <th>deaths</th>\n",
       "      <th>X2018_people_per_sq_km</th>\n",
       "      <th>Mean_ann_earnings</th>\n",
       "      <th>median_age_2018</th>\n",
       "      <th>pm25_val</th>\n",
       "      <th>no2_val</th>\n",
       "      <th>o3_val</th>\n",
       "      <th>pm10_val</th>\n",
       "      <th>so2_val</th>\n",
       "      <th>nox_val</th>\n",
       "      <th>Cumulative lab-confirmed cases</th>\n",
       "    </tr>\n",
       "  </thead>\n",
       "  <tbody>\n",
       "    <tr>\n",
       "      <th>0</th>\n",
       "      <td>-1.209370</td>\n",
       "      <td>54.685728</td>\n",
       "      <td>E06000001</td>\n",
       "      <td>20</td>\n",
       "      <td>997</td>\n",
       "      <td>25985.0</td>\n",
       "      <td>41.8</td>\n",
       "      <td>7.362821</td>\n",
       "      <td>13.105737</td>\n",
       "      <td>5.303858</td>\n",
       "      <td>11.506778</td>\n",
       "      <td>1.575561</td>\n",
       "      <td>17.730895</td>\n",
       "      <td>79</td>\n",
       "    </tr>\n",
       "    <tr>\n",
       "      <th>1</th>\n",
       "      <td>-1.234405</td>\n",
       "      <td>54.576042</td>\n",
       "      <td>E06000002</td>\n",
       "      <td>60</td>\n",
       "      <td>2608</td>\n",
       "      <td>22878.0</td>\n",
       "      <td>36.2</td>\n",
       "      <td>8.210540</td>\n",
       "      <td>20.178191</td>\n",
       "      <td>4.251802</td>\n",
       "      <td>12.561928</td>\n",
       "      <td>3.133286</td>\n",
       "      <td>29.296034</td>\n",
       "      <td>272</td>\n",
       "    </tr>\n",
       "    <tr>\n",
       "      <th>2</th>\n",
       "      <td>-1.005496</td>\n",
       "      <td>54.567906</td>\n",
       "      <td>E06000003</td>\n",
       "      <td>26</td>\n",
       "      <td>558</td>\n",
       "      <td>23236.0</td>\n",
       "      <td>45.0</td>\n",
       "      <td>7.293137</td>\n",
       "      <td>7.749542</td>\n",
       "      <td>6.851500</td>\n",
       "      <td>12.855827</td>\n",
       "      <td>0.998864</td>\n",
       "      <td>9.983241</td>\n",
       "      <td>158</td>\n",
       "    </tr>\n",
       "    <tr>\n",
       "      <th>3</th>\n",
       "      <td>-1.312916</td>\n",
       "      <td>54.564094</td>\n",
       "      <td>E06000004</td>\n",
       "      <td>26</td>\n",
       "      <td>962</td>\n",
       "      <td>26622.0</td>\n",
       "      <td>40.4</td>\n",
       "      <td>7.900856</td>\n",
       "      <td>15.562038</td>\n",
       "      <td>5.050632</td>\n",
       "      <td>12.251130</td>\n",
       "      <td>1.934329</td>\n",
       "      <td>21.440737</td>\n",
       "      <td>199</td>\n",
       "    </tr>\n",
       "    <tr>\n",
       "      <th>4</th>\n",
       "      <td>-1.555581</td>\n",
       "      <td>54.524208</td>\n",
       "      <td>E06000005</td>\n",
       "      <td>14</td>\n",
       "      <td>540</td>\n",
       "      <td>26908.0</td>\n",
       "      <td>43.1</td>\n",
       "      <td>7.153221</td>\n",
       "      <td>11.360341</td>\n",
       "      <td>5.198811</td>\n",
       "      <td>11.129635</td>\n",
       "      <td>1.129034</td>\n",
       "      <td>15.098272</td>\n",
       "      <td>125</td>\n",
       "    </tr>\n",
       "  </tbody>\n",
       "</table>\n",
       "</div>"
      ],
      "text/plain": [
       "        lon        lat       Code  deaths  X2018_people_per_sq_km  \\\n",
       "0 -1.209370  54.685728  E06000001      20                     997   \n",
       "1 -1.234405  54.576042  E06000002      60                    2608   \n",
       "2 -1.005496  54.567906  E06000003      26                     558   \n",
       "3 -1.312916  54.564094  E06000004      26                     962   \n",
       "4 -1.555581  54.524208  E06000005      14                     540   \n",
       "\n",
       "   Mean_ann_earnings  median_age_2018  pm25_val    no2_val    o3_val  \\\n",
       "0            25985.0             41.8  7.362821  13.105737  5.303858   \n",
       "1            22878.0             36.2  8.210540  20.178191  4.251802   \n",
       "2            23236.0             45.0  7.293137   7.749542  6.851500   \n",
       "3            26622.0             40.4  7.900856  15.562038  5.050632   \n",
       "4            26908.0             43.1  7.153221  11.360341  5.198811   \n",
       "\n",
       "    pm10_val   so2_val    nox_val  Cumulative lab-confirmed cases  \n",
       "0  11.506778  1.575561  17.730895                              79  \n",
       "1  12.561928  3.133286  29.296034                             272  \n",
       "2  12.855827  0.998864   9.983241                             158  \n",
       "3  12.251130  1.934329  21.440737                             199  \n",
       "4  11.129635  1.129034  15.098272                             125  "
      ]
     },
     "execution_count": 25,
     "metadata": {},
     "output_type": "execute_result"
    }
   ],
   "source": [
    "covid_air_dt = pd.read_csv(\"../data_out/covid_air_dt.csv\", na_values = \"x\")\n",
    "cases_deaths_dt = pd.merge(covid_air_dt, cases_LA_dt.agg, left_on = \"Code\", right_on = \"Area code\")\n",
    "cases_deaths_dt.head()"
   ]
  },
  {
   "cell_type": "markdown",
   "metadata": {},
   "source": [
    "<a id='vis_cases'></a>\n",
    "##### Quick visualization of the distribution of the number of cases"
   ]
  },
  {
   "cell_type": "code",
   "execution_count": 26,
   "metadata": {},
   "outputs": [
    {
     "data": {
      "text/plain": [
       "<AxesSubplot:xlabel='Cumulative lab-confirmed cases', ylabel='Count'>"
      ]
     },
     "execution_count": 26,
     "metadata": {},
     "output_type": "execute_result"
    },
    {
     "data": {
      "image/png": "[encoded data removed]",
      "text/plain": [
       "<Figure size 432x288 with 1 Axes>"
      ]
     },
     "metadata": {
      "needs_background": "light"
     },
     "output_type": "display_data"
    }
   ],
   "source": [
    "sns.histplot(cases_deaths_dt['Cumulative lab-confirmed cases'], bins=100)"
   ]
  },
  {
   "cell_type": "markdown",
   "metadata": {},
   "source": [
    "Most subregion has number of cases between 100 and 200. The higher number of cases is above 1750."
   ]
  },
  {
   "cell_type": "code",
   "execution_count": 27,
   "metadata": {},
   "outputs": [],
   "source": [
    "cases_deaths_dt.rename(columns={'Cumulative lab-confirmed cases':'Cumulative_lab_confirmed_cases'}, inplace=True)"
   ]
  },
  {
   "cell_type": "markdown",
   "metadata": {},
   "source": [
    "<a id='pm25_cases'></a>\n",
    "##### Investigate the impact of particular matter with an aerodynamic diameter < 2.5 μm (pm25) on the expected number of cases"
   ]
  },
  {
   "cell_type": "code",
   "execution_count": 28,
   "metadata": {},
   "outputs": [
    {
     "name": "stdout",
     "output_type": "stream",
     "text": [
      "                       Generalized Linear Model Regression Results                        \n",
      "==========================================================================================\n",
      "Dep. Variable:     Cumulative_lab_confirmed_cases   No. Observations:                  295\n",
      "Model:                                        GLM   Df Residuals:                      290\n",
      "Model Family:                    NegativeBinomial   Df Model:                            4\n",
      "Link Function:                                log   Scale:                          1.0000\n",
      "Method:                                      IRLS   Log-Likelihood:                -1785.4\n",
      "Date:                            Fri, 01 Oct 2021   Deviance:                       310.93\n",
      "Time:                                    22:31:47   Pearson chi2:                     360.\n",
      "No. Iterations:                                10                                         \n",
      "Covariance Type:                        nonrobust                                         \n",
      "==========================================================================================\n",
      "                             coef    std err          z      P>|z|      [0.025      0.975]\n",
      "------------------------------------------------------------------------------------------\n",
      "Intercept                  9.6080      0.553     17.388      0.000       8.525      10.691\n",
      "X2018_people_per_sq_km  9.858e-05   1.96e-05      5.033      0.000    6.02e-05       0.000\n",
      "Mean_ann_earnings       6.362e-06   5.73e-06      1.111      0.266   -4.86e-06    1.76e-05\n",
      "median_age_2018           -0.0911      0.010     -8.840      0.000      -0.111      -0.071\n",
      "pm25_val                  -0.0982      0.027     -3.618      0.000      -0.151      -0.045\n",
      "==========================================================================================\n",
      "          VIF                variable\n",
      "0  241.690080               Intercept\n",
      "1    2.093400  X2018_people_per_sq_km\n",
      "2    1.393888       Mean_ann_earnings\n",
      "3    2.099085         median_age_2018\n",
      "4    1.902409                pm25_val\n"
     ]
    }
   ],
   "source": [
    "cases_pm25 = smf.glm(formula = \"Cumulative_lab_confirmed_cases ~ X2018_people_per_sq_km + Mean_ann_earnings + median_age_2018 + pm25_val\", data=cases_deaths_dt, family=sm.families.NegativeBinomial(alpha = 0.3669725)).fit()\n",
    "print(cases_pm25.summary())\n",
    "y, X = dmatrices('Cumulative_lab_confirmed_cases ~ X2018_people_per_sq_km + Mean_ann_earnings + median_age_2018 + pm25_val', data=cases_deaths_dt, return_type='dataframe')\n",
    "vif_cases_pm25 = pd.DataFrame()\n",
    "vif_cases_pm25['VIF'] = [variance_inflation_factor(X.values, i) for i in range(X.shape[1])]\n",
    "vif_cases_pm25['variable'] = X.columns\n",
    "print(vif_cases_pm25)"
   ]
  },
  {
   "cell_type": "markdown",
   "metadata": {},
   "source": [
    "All pollutants are statistically significant. Only the mean annual earnings is not a significant predictor of the number of cases. There is no collinearity"
   ]
  },
  {
   "cell_type": "markdown",
   "metadata": {},
   "source": [
    "<a id='pm10_cases'></a>\n",
    "##### Investigate the impact of particular matter with an aerodynamic diameter < 10.0 μm (pm10) on the expected number of cases"
   ]
  },
  {
   "cell_type": "code",
   "execution_count": 29,
   "metadata": {},
   "outputs": [
    {
     "name": "stdout",
     "output_type": "stream",
     "text": [
      "                       Generalized Linear Model Regression Results                        \n",
      "==========================================================================================\n",
      "Dep. Variable:     Cumulative_lab_confirmed_cases   No. Observations:                  295\n",
      "Model:                                        GLM   Df Residuals:                      290\n",
      "Model Family:                    NegativeBinomial   Df Model:                            4\n",
      "Link Function:                                log   Scale:                          1.0000\n",
      "Method:                                      IRLS   Log-Likelihood:                -1783.9\n",
      "Date:                            Fri, 01 Oct 2021   Deviance:                       310.16\n",
      "Time:                                    22:31:52   Pearson chi2:                     357.\n",
      "No. Iterations:                                 9                                         \n",
      "Covariance Type:                        nonrobust                                         \n",
      "==========================================================================================\n",
      "                             coef    std err          z      P>|z|      [0.025      0.975]\n",
      "------------------------------------------------------------------------------------------\n",
      "Intercept                  9.5382      0.518     18.428      0.000       8.524      10.553\n",
      "X2018_people_per_sq_km     0.0001   1.96e-05      5.239      0.000    6.43e-05       0.000\n",
      "Mean_ann_earnings       5.807e-06    5.6e-06      1.036      0.300   -5.18e-06    1.68e-05\n",
      "median_age_2018           -0.0874      0.010     -8.893      0.000      -0.107      -0.068\n",
      "pm10_val                  -0.0698      0.017     -4.046      0.000      -0.104      -0.036\n",
      "==========================================================================================\n",
      "          VIF                variable\n",
      "0  213.549483               Intercept\n",
      "1    2.116587  X2018_people_per_sq_km\n",
      "2    1.344685       Mean_ann_earnings\n",
      "3    1.919939         median_age_2018\n",
      "4    1.622812                pm10_val\n"
     ]
    }
   ],
   "source": [
    "cases_pm10 = smf.glm(formula = \"Cumulative_lab_confirmed_cases ~ X2018_people_per_sq_km + Mean_ann_earnings + median_age_2018 + pm10_val\", data=cases_deaths_dt, family=sm.families.NegativeBinomial(alpha = 0.3641661)).fit()\n",
    "print(cases_pm10.summary())\n",
    "y, X = dmatrices('Cumulative_lab_confirmed_cases ~ X2018_people_per_sq_km + Mean_ann_earnings + median_age_2018 + pm10_val', data=cases_deaths_dt, return_type='dataframe')\n",
    "vif_cases_pm10 = pd.DataFrame()\n",
    "vif_cases_pm10['VIF'] = [variance_inflation_factor(X.values, i) for i in range(X.shape[1])]\n",
    "vif_cases_pm10['variable'] = X.columns\n",
    "print(vif_cases_pm10)"
   ]
  },
  {
   "cell_type": "markdown",
   "metadata": {},
   "source": [
    "All pollutants are statistically significant. Only the mean annual earnings is not a significant predictor of the number of cases. There is no collinearity"
   ]
  },
  {
   "cell_type": "markdown",
   "metadata": {},
   "source": [
    "<a id='no2_cases'></a>\n",
    "##### Investigate the impact of nitrogen dioxide (no2) on the expected number of cases"
   ]
  },
  {
   "cell_type": "code",
   "execution_count": 30,
   "metadata": {
    "scrolled": true
   },
   "outputs": [
    {
     "name": "stdout",
     "output_type": "stream",
     "text": [
      "                       Generalized Linear Model Regression Results                        \n",
      "==========================================================================================\n",
      "Dep. Variable:     Cumulative_lab_confirmed_cases   No. Observations:                  295\n",
      "Model:                                        GLM   Df Residuals:                      290\n",
      "Model Family:                    NegativeBinomial   Df Model:                            4\n",
      "Link Function:                                log   Scale:                          1.0000\n",
      "Method:                                      IRLS   Log-Likelihood:                -1786.1\n",
      "Date:                            Fri, 01 Oct 2021   Deviance:                       312.70\n",
      "Time:                                    22:31:55   Pearson chi2:                     424.\n",
      "No. Iterations:                                10                                         \n",
      "Covariance Type:                        nonrobust                                         \n",
      "==========================================================================================\n",
      "                             coef    std err          z      P>|z|      [0.025      0.975]\n",
      "------------------------------------------------------------------------------------------\n",
      "Intercept                  7.1785      0.538     13.339      0.000       6.124       8.233\n",
      "X2018_people_per_sq_km  5.483e-05   2.17e-05      2.529      0.011    1.23e-05    9.73e-05\n",
      "Mean_ann_earnings      -4.599e-06   5.36e-06     -0.858      0.391   -1.51e-05     5.9e-06\n",
      "median_age_2018           -0.0547      0.011     -4.957      0.000      -0.076      -0.033\n",
      "no2_val                    0.0301      0.009      3.211      0.001       0.012       0.048\n",
      "==========================================================================================\n",
      "          VIF                variable\n",
      "0  230.224992               Intercept\n",
      "1    2.569370  X2018_people_per_sq_km\n",
      "2    1.221778       Mean_ann_earnings\n",
      "3    2.411588         median_age_2018\n",
      "4    3.078094                 no2_val\n"
     ]
    }
   ],
   "source": [
    "cases_no2 = smf.glm(formula = \"Cumulative_lab_confirmed_cases ~ X2018_people_per_sq_km + Mean_ann_earnings + median_age_2018 + no2_val\", data=cases_deaths_dt, family=sm.families.NegativeBinomial(alpha = 0.3664346)).fit()\n",
    "print(cases_no2.summary())\n",
    "y, X = dmatrices('Cumulative_lab_confirmed_cases ~ X2018_people_per_sq_km + Mean_ann_earnings + median_age_2018 + no2_val', data=cases_deaths_dt, return_type='dataframe')\n",
    "vif_cases_no2 = pd.DataFrame()\n",
    "vif_cases_no2['VIF'] = [variance_inflation_factor(X.values, i) for i in range(X.shape[1])]\n",
    "vif_cases_no2['variable'] = X.columns\n",
    "print(vif_cases_no2)"
   ]
  },
  {
   "cell_type": "markdown",
   "metadata": {},
   "source": [
    "All pollutants are statistically significant. Only the mean annual earnings is not a significant predictor of the number of cases. There is no collinearity"
   ]
  },
  {
   "cell_type": "markdown",
   "metadata": {},
   "source": [
    "<a id='nox_cases'></a>\n",
    "##### Investigate the impact of nitrogen oxide (nox) on the expected number of cases"
   ]
  },
  {
   "cell_type": "code",
   "execution_count": 31,
   "metadata": {},
   "outputs": [
    {
     "name": "stdout",
     "output_type": "stream",
     "text": [
      "                       Generalized Linear Model Regression Results                        \n",
      "==========================================================================================\n",
      "Dep. Variable:     Cumulative_lab_confirmed_cases   No. Observations:                  295\n",
      "Model:                                        GLM   Df Residuals:                      290\n",
      "Model Family:                    NegativeBinomial   Df Model:                            4\n",
      "Link Function:                                log   Scale:                          1.0000\n",
      "Method:                                      IRLS   Log-Likelihood:                -1786.4\n",
      "Date:                            Fri, 01 Oct 2021   Deviance:                       312.61\n",
      "Time:                                    22:31:57   Pearson chi2:                     419.\n",
      "No. Iterations:                                 9                                         \n",
      "Covariance Type:                        nonrobust                                         \n",
      "==========================================================================================\n",
      "                             coef    std err          z      P>|z|      [0.025      0.975]\n",
      "------------------------------------------------------------------------------------------\n",
      "Intercept                  7.3902      0.501     14.741      0.000       6.408       8.373\n",
      "X2018_people_per_sq_km  5.009e-05   2.25e-05      2.223      0.026    5.93e-06    9.42e-05\n",
      "Mean_ann_earnings      -4.568e-06   5.37e-06     -0.850      0.395   -1.51e-05    5.96e-06\n",
      "median_age_2018           -0.0578      0.011     -5.462      0.000      -0.079      -0.037\n",
      "nox_val                    0.0175      0.005      3.197      0.001       0.007       0.028\n",
      "==========================================================================================\n",
      "          VIF                variable\n",
      "0  199.341674               Intercept\n",
      "1    2.767932  X2018_people_per_sq_km\n",
      "2    1.226351       Mean_ann_earnings\n",
      "3    2.214797         median_age_2018\n",
      "4    3.081301                 nox_val\n"
     ]
    }
   ],
   "source": [
    "cases_nox = smf.glm(formula = \"Cumulative_lab_confirmed_cases ~ X2018_people_per_sq_km + Mean_ann_earnings + median_age_2018 + nox_val\", data=cases_deaths_dt, family=sm.families.NegativeBinomial(alpha = 0.3673769)).fit()\n",
    "print(cases_nox.summary())\n",
    "y, X = dmatrices('Cumulative_lab_confirmed_cases ~ X2018_people_per_sq_km + Mean_ann_earnings + median_age_2018 + nox_val', data=cases_deaths_dt, return_type='dataframe')\n",
    "vif_cases_nox = pd.DataFrame()\n",
    "vif_cases_nox['VIF'] = [variance_inflation_factor(X.values, i) for i in range(X.shape[1])]\n",
    "vif_cases_nox['variable'] = X.columns\n",
    "print(vif_cases_nox)"
   ]
  },
  {
   "cell_type": "markdown",
   "metadata": {},
   "source": [
    "All pollutants are statistically significant. Only the mean annual earnings is not a significant predictor of the number of cases. There is no collinearity"
   ]
  },
  {
   "cell_type": "markdown",
   "metadata": {},
   "source": [
    "<a id='o3_cases'></a>\n",
    "##### Investigate the impact of ozone (o3) on the expected number of cases"
   ]
  },
  {
   "cell_type": "code",
   "execution_count": 32,
   "metadata": {},
   "outputs": [
    {
     "name": "stdout",
     "output_type": "stream",
     "text": [
      "                       Generalized Linear Model Regression Results                        \n",
      "==========================================================================================\n",
      "Dep. Variable:     Cumulative_lab_confirmed_cases   No. Observations:                  295\n",
      "Model:                                        GLM   Df Residuals:                      290\n",
      "Model Family:                    NegativeBinomial   Df Model:                            4\n",
      "Link Function:                                log   Scale:                          1.0000\n",
      "Method:                                      IRLS   Log-Likelihood:                -1780.8\n",
      "Date:                            Fri, 01 Oct 2021   Deviance:                       310.87\n",
      "Time:                                    22:31:59   Pearson chi2:                     372.\n",
      "No. Iterations:                                 9                                         \n",
      "Covariance Type:                        nonrobust                                         \n",
      "==========================================================================================\n",
      "                             coef    std err          z      P>|z|      [0.025      0.975]\n",
      "------------------------------------------------------------------------------------------\n",
      "Intercept                  8.1834      0.427     19.182      0.000       7.347       9.020\n",
      "X2018_people_per_sq_km  6.827e-05   1.93e-05      3.528      0.000    3.03e-05       0.000\n",
      "Mean_ann_earnings       7.816e-06   5.47e-06      1.429      0.153   -2.91e-06    1.85e-05\n",
      "median_age_2018           -0.0686      0.009     -7.246      0.000      -0.087      -0.050\n",
      "o3_val                    -0.0539      0.011     -4.799      0.000      -0.076      -0.032\n",
      "==========================================================================================\n",
      "          VIF                variable\n",
      "0  148.637325               Intercept\n",
      "1    2.102618  X2018_people_per_sq_km\n",
      "2    1.310977       Mean_ann_earnings\n",
      "3    1.826074         median_age_2018\n",
      "4    1.186056                  o3_val\n"
     ]
    }
   ],
   "source": [
    "cases_o3 = smf.glm(formula = \"Cumulative_lab_confirmed_cases ~ X2018_people_per_sq_km + Mean_ann_earnings + median_age_2018 + o3_val\", data=cases_deaths_dt, family=sm.families.NegativeBinomial(alpha = 0.3561254)).fit()\n",
    "print(cases_o3.summary())\n",
    "y, X = dmatrices('Cumulative_lab_confirmed_cases ~ X2018_people_per_sq_km + Mean_ann_earnings + median_age_2018 + o3_val', data=cases_deaths_dt, return_type='dataframe')\n",
    "vif_cases_o3 = pd.DataFrame()\n",
    "vif_cases_o3['VIF'] = [variance_inflation_factor(X.values, i) for i in range(X.shape[1])]\n",
    "vif_cases_o3['variable'] = X.columns\n",
    "print(vif_cases_o3)"
   ]
  },
  {
   "cell_type": "markdown",
   "metadata": {},
   "source": [
    "All pollutants are statistically significant. Only the mean annual earnings is not a significant predictor of the number of cases. There is no collinearity"
   ]
  },
  {
   "cell_type": "markdown",
   "metadata": {},
   "source": [
    "<a id='so2_cases'></a>\n",
    "##### Investigate the impact of solfure dioxide (so2) on the expected number of cases"
   ]
  },
  {
   "cell_type": "code",
   "execution_count": 33,
   "metadata": {
    "scrolled": true
   },
   "outputs": [
    {
     "name": "stdout",
     "output_type": "stream",
     "text": [
      "                       Generalized Linear Model Regression Results                        \n",
      "==========================================================================================\n",
      "Dep. Variable:     Cumulative_lab_confirmed_cases   No. Observations:                  295\n",
      "Model:                                        GLM   Df Residuals:                      290\n",
      "Model Family:                    NegativeBinomial   Df Model:                            4\n",
      "Link Function:                                log   Scale:                          1.0000\n",
      "Method:                                      IRLS   Log-Likelihood:                -1785.7\n",
      "Date:                            Fri, 01 Oct 2021   Deviance:                       310.60\n",
      "Time:                                    22:32:01   Pearson chi2:                     416.\n",
      "No. Iterations:                                 8                                         \n",
      "Covariance Type:                        nonrobust                                         \n",
      "==========================================================================================\n",
      "                             coef    std err          z      P>|z|      [0.025      0.975]\n",
      "------------------------------------------------------------------------------------------\n",
      "Intercept                  7.1227      0.540     13.202      0.000       6.065       8.180\n",
      "X2018_people_per_sq_km  7.513e-05   1.97e-05      3.815      0.000    3.65e-05       0.000\n",
      "Mean_ann_earnings       2.885e-06   5.47e-06      0.527      0.598   -7.83e-06    1.36e-05\n",
      "median_age_2018           -0.0585      0.010     -5.601      0.000      -0.079      -0.038\n",
      "so2_val                    0.2562      0.076      3.363      0.001       0.107       0.406\n",
      "==========================================================================================\n",
      "          VIF                variable\n",
      "0  230.429077               Intercept\n",
      "1    2.109019  X2018_people_per_sq_km\n",
      "2    1.268184       Mean_ann_earnings\n",
      "3    2.153284         median_age_2018\n",
      "4    1.596217                 so2_val\n"
     ]
    }
   ],
   "source": [
    "cases_so2 = smf.glm(formula = \"Cumulative_lab_confirmed_cases ~ X2018_people_per_sq_km + Mean_ann_earnings + median_age_2018 + so2_val\", data=cases_deaths_dt, family=sm.families.NegativeBinomial(alpha = 0.368053)).fit()\n",
    "print(cases_so2.summary())\n",
    "y, X = dmatrices('Cumulative_lab_confirmed_cases ~ X2018_people_per_sq_km + Mean_ann_earnings + median_age_2018 + so2_val', data=cases_deaths_dt, return_type='dataframe')\n",
    "vif_cases_o3 = pd.DataFrame()\n",
    "vif_cases_o3['VIF'] = [variance_inflation_factor(X.values, i) for i in range(X.shape[1])]\n",
    "vif_cases_o3['variable'] = X.columns\n",
    "print(vif_cases_o3)"
   ]
  },
  {
   "cell_type": "markdown",
   "metadata": {},
   "source": [
    "All pollutants are statistically significant. Only the mean annual earnings is not a significant predictor of the number of cases. There is no collinearity"
   ]
  },
  {
   "cell_type": "markdown",
   "metadata": {},
   "source": [
    "The computed models are saved in a html file:"
   ]
  },
  {
   "cell_type": "code",
   "execution_count": 34,
   "metadata": {
    "scrolled": true
   },
   "outputs": [],
   "source": [
    "nb2018_cases = Stargazer([cases_pm25, cases_pm10, cases_nox, cases_no2, cases_o3, cases_so2])\n",
    "nb2018_cases.custom_columns(['pm10', 'pm25', 'nox', 'no2', 'o3', 'so2'], [1,1,1,1,1,1])\n",
    "html = open(\"../data_out/negative_binomial_cases_2018.html\",\"w\")\n",
    "html.write(nb2018_cases.render_html())\n",
    "html.close()"
   ]
  },
  {
   "cell_type": "markdown",
   "metadata": {},
   "source": [
    "<a id='or_cases'></a>\n",
    "##### Infectivity rate: compute and visualize odds ratio"
   ]
  },
  {
   "cell_type": "code",
   "execution_count": 35,
   "metadata": {},
   "outputs": [
    {
     "data": {
      "text/html": [
       "<div>\n",
       "<style scoped>\n",
       "    .dataframe tbody tr th:only-of-type {\n",
       "        vertical-align: middle;\n",
       "    }\n",
       "\n",
       "    .dataframe tbody tr th {\n",
       "        vertical-align: top;\n",
       "    }\n",
       "\n",
       "    .dataframe thead th {\n",
       "        text-align: right;\n",
       "    }\n",
       "</style>\n",
       "<table border=\"1\" class=\"dataframe\">\n",
       "  <thead>\n",
       "    <tr style=\"text-align: right;\">\n",
       "      <th></th>\n",
       "      <th>or</th>\n",
       "      <th>0.025</th>\n",
       "      <th>0.975</th>\n",
       "      <th>pvalue</th>\n",
       "      <th>significance</th>\n",
       "      <th>names</th>\n",
       "    </tr>\n",
       "  </thead>\n",
       "  <tbody>\n",
       "    <tr>\n",
       "      <th>no2_val</th>\n",
       "      <td>1.030513</td>\n",
       "      <td>1.011777</td>\n",
       "      <td>1.049596</td>\n",
       "      <td>0.001325</td>\n",
       "      <td>p-value &lt; 0.05</td>\n",
       "      <td>no2_val</td>\n",
       "    </tr>\n",
       "    <tr>\n",
       "      <th>nox_val</th>\n",
       "      <td>1.017699</td>\n",
       "      <td>1.006812</td>\n",
       "      <td>1.028703</td>\n",
       "      <td>0.001388</td>\n",
       "      <td>p-value &lt; 0.05</td>\n",
       "      <td>nox_val</td>\n",
       "    </tr>\n",
       "    <tr>\n",
       "      <th>o3_val</th>\n",
       "      <td>0.947484</td>\n",
       "      <td>0.926838</td>\n",
       "      <td>0.968590</td>\n",
       "      <td>0.000002</td>\n",
       "      <td>p-value &lt; 0.05</td>\n",
       "      <td>o3_val</td>\n",
       "    </tr>\n",
       "    <tr>\n",
       "      <th>pm10_val</th>\n",
       "      <td>0.932624</td>\n",
       "      <td>0.901639</td>\n",
       "      <td>0.964673</td>\n",
       "      <td>0.000052</td>\n",
       "      <td>p-value &lt; 0.05</td>\n",
       "      <td>pm10_val</td>\n",
       "    </tr>\n",
       "    <tr>\n",
       "      <th>pm25_val</th>\n",
       "      <td>0.906438</td>\n",
       "      <td>0.859458</td>\n",
       "      <td>0.955986</td>\n",
       "      <td>0.000297</td>\n",
       "      <td>p-value &lt; 0.05</td>\n",
       "      <td>pm25_val</td>\n",
       "    </tr>\n",
       "  </tbody>\n",
       "</table>\n",
       "</div>"
      ],
      "text/plain": [
       "                or     0.025     0.975    pvalue    significance     names\n",
       "no2_val   1.030513  1.011777  1.049596  0.001325  p-value < 0.05   no2_val\n",
       "nox_val   1.017699  1.006812  1.028703  0.001388  p-value < 0.05   nox_val\n",
       "o3_val    0.947484  0.926838  0.968590  0.000002  p-value < 0.05    o3_val\n",
       "pm10_val  0.932624  0.901639  0.964673  0.000052  p-value < 0.05  pm10_val\n",
       "pm25_val  0.906438  0.859458  0.955986  0.000297  p-value < 0.05  pm25_val"
      ]
     },
     "execution_count": 35,
     "metadata": {},
     "output_type": "execute_result"
    }
   ],
   "source": [
    "cases_pm10_or = pd.concat([np.exp(cases_pm10.params),np.exp(cases_pm10.conf_int()[0]),np.exp(cases_pm10.conf_int()[1]),cases_pm10.pvalues], axis=1,\n",
    "                       keys=['or', '0.025', '0.975', 'pvalue'])\n",
    "cases_o3_or = pd.concat([np.exp(cases_o3.params),np.exp(cases_o3.conf_int()[0]),np.exp(cases_o3.conf_int()[1]),cases_o3.pvalues], axis=1,\n",
    "                       keys=['or', '0.025', '0.975', 'pvalue'])\n",
    "cases_no2_or = pd.concat([np.exp(cases_no2.params),np.exp(cases_no2.conf_int()[0]),np.exp(cases_no2.conf_int()[1]),cases_no2.pvalues], axis=1,\n",
    "                       keys=['or', '0.025', '0.975', 'pvalue'])\n",
    "cases_nox_or = pd.concat([np.exp(cases_nox.params),np.exp(cases_nox.conf_int()[0]),np.exp(cases_nox.conf_int()[1]),cases_nox.pvalues], axis=1,\n",
    "                       keys=['or', '0.025', '0.975', 'pvalue'])\n",
    "cases_pm25_or = pd.concat([np.exp(cases_pm25.params),np.exp(cases_pm25.conf_int()[0]),np.exp(cases_pm25.conf_int()[1]),cases_pm25.pvalues], axis=1,\n",
    "                       keys=['or', '0.025', '0.975', 'pvalue'])\n",
    "LA_covid_cases_onlyPoll = pd.concat([cases_pm10_or.iloc[cases_pm10_or.shape[0]-1],\n",
    "                               cases_o3_or.iloc[cases_o3_or.shape[0]-1],\n",
    "                               cases_no2_or.iloc[cases_no2_or.shape[0]-1],\n",
    "                               cases_nox_or.iloc[cases_nox_or.shape[0]-1],\n",
    "                               cases_pm25_or.iloc[cases_pm25_or.shape[0]-1]], axis=1)\n",
    "LA_covid_cases_onlyPoll = LA_covid_cases_onlyPoll.transpose()\n",
    "LA_covid_cases_onlyPoll['significance'] = np.where(LA_covid_cases_onlyPoll['pvalue'] < 0.05, 'p-value < 0.05', 'p-value > 0.05')\n",
    "LA_covid_cases_onlyPoll['names'] = LA_covid_cases_onlyPoll.index.values \n",
    "LA_covid_cases_onlyPoll = LA_covid_cases_onlyPoll.sort_values(by=['or'], ascending = False)\n",
    "LA_covid_cases_onlyPoll.to_csv(\"../data_out/LA_covid_CASES_onlyPoll_preL_AP2018.csv\")\n",
    "LA_covid_cases_onlyPoll"
   ]
  },
  {
   "cell_type": "code",
   "execution_count": 36,
   "metadata": {
    "scrolled": true
   },
   "outputs": [
    {
     "data": {
      "image/png": "[encoded data removed]",
      "text/plain": [
       "<Figure size 432x288 with 1 Axes>"
      ]
     },
     "metadata": {
      "needs_background": "light"
     },
     "output_type": "display_data"
    }
   ],
   "source": [
    "ax = sns.scatterplot(x=\"or\", y=\"names\", data=LA_covid_cases_onlyPoll, hue=\"significance\")\n",
    "plt.xlim(0.8, 1.6)\n",
    "plt.axvline(x=1,linestyle =\"--\", linewidth=0.6, color = 'gray')\n",
    "plt.xlabel(\"Infectivity rate ratios\")\n",
    "plt.ylabel(\"pollutants\")\n",
    "xerr = [abs(LA_covid_cases_onlyPoll['or'].values-LA_covid_cases_onlyPoll['0.025'].values),abs(LA_covid_cases_onlyPoll['or'].values-LA_covid_cases_onlyPoll['0.975'].values)]\n",
    "plt.errorbar(LA_covid_cases_onlyPoll['or'], LA_covid_cases_onlyPoll['names'], xerr = xerr, fmt = 'none', capsize=5, alpha=0.5)\n",
    "plt.savefig('../data_out/infectivity_rate_2018.png')\n",
    "plt.show()"
   ]
  },
  {
   "cell_type": "markdown",
   "metadata": {},
   "source": [
    "<a id='nbf_5y'></a>\n",
    "### Fit negative binomial with averaged air poullution data for the years 2014-2018 with number of deaths as dependent variable\n",
    "\n",
    "To determine the effect of spatial-temporal variations in air pollution exposure in England, the temporal scale of the analysis is increased to include temporally averaged air pollution date for the years 2014-2018."
   ]
  },
  {
   "cell_type": "markdown",
   "metadata": {},
   "source": [
    "##### Create the dataset with the average values for all the pollutants\n",
    "\n",
    "Starting from [single year datasets](../Data/datasets.ipynb#no2_5y) (one for each year from 2014 to 2018) the values of no2 are collected and merged in the new dataset no2_5y. The average value over the 5 years is then computed and added to the dataset. Eventually, only the subregion code, the no2 value in 2018 and mean value of no2 over 2014-2018 are kept"
   ]
  },
  {
   "cell_type": "code",
   "execution_count": 37,
   "metadata": {},
   "outputs": [
    {
     "data": {
      "text/html": [
       "<div>\n",
       "<style scoped>\n",
       "    .dataframe tbody tr th:only-of-type {\n",
       "        vertical-align: middle;\n",
       "    }\n",
       "\n",
       "    .dataframe tbody tr th {\n",
       "        vertical-align: top;\n",
       "    }\n",
       "\n",
       "    .dataframe thead th {\n",
       "        text-align: right;\n",
       "    }\n",
       "</style>\n",
       "<table border=\"1\" class=\"dataframe\">\n",
       "  <thead>\n",
       "    <tr style=\"text-align: right;\">\n",
       "      <th></th>\n",
       "      <th>ukgridcode</th>\n",
       "      <th>no22018</th>\n",
       "      <th>no2_5yAvg</th>\n",
       "    </tr>\n",
       "  </thead>\n",
       "  <tbody>\n",
       "    <tr>\n",
       "      <th>0</th>\n",
       "      <td>54291</td>\n",
       "      <td>NaN</td>\n",
       "      <td>NaN</td>\n",
       "    </tr>\n",
       "    <tr>\n",
       "      <th>1</th>\n",
       "      <td>54292</td>\n",
       "      <td>NaN</td>\n",
       "      <td>NaN</td>\n",
       "    </tr>\n",
       "    <tr>\n",
       "      <th>2</th>\n",
       "      <td>54294</td>\n",
       "      <td>NaN</td>\n",
       "      <td>NaN</td>\n",
       "    </tr>\n",
       "    <tr>\n",
       "      <th>3</th>\n",
       "      <td>54979</td>\n",
       "      <td>NaN</td>\n",
       "      <td>NaN</td>\n",
       "    </tr>\n",
       "    <tr>\n",
       "      <th>4</th>\n",
       "      <td>54980</td>\n",
       "      <td>NaN</td>\n",
       "      <td>NaN</td>\n",
       "    </tr>\n",
       "  </tbody>\n",
       "</table>\n",
       "</div>"
      ],
      "text/plain": [
       "   ukgridcode  no22018  no2_5yAvg\n",
       "0       54291      NaN        NaN\n",
       "1       54292      NaN        NaN\n",
       "2       54294      NaN        NaN\n",
       "3       54979      NaN        NaN\n",
       "4       54980      NaN        NaN"
      ]
     },
     "execution_count": 37,
     "metadata": {},
     "output_type": "execute_result"
    }
   ],
   "source": [
    "no2_2014 = pd.read_csv(\"%s/raw_mapno22014.csv\" %path, skiprows = 5, na_values=\"MISSING\", usecols=['ukgridcode', 'no22014'])\n",
    "no2_2015 = pd.read_csv(\"%s/raw_mapno22015.csv\" %path, skiprows = 5, na_values=\"MISSING\", usecols=['ukgridcode', 'no22015'])\n",
    "no2_2016 = pd.read_csv(\"%s/raw_mapno22016.csv\" %path, skiprows = 5, na_values=\"MISSING\", usecols=['ukgridcode', 'no22016'])\n",
    "no2_2017 = pd.read_csv(\"%s/raw_mapno22017.csv\" %path, skiprows = 5, na_values=\"MISSING\", usecols=['ukgridcode', 'no22017'])\n",
    "no2_2018 = pd.read_csv(\"%s/raw_mapno22018.csv\" %path, skiprows = 5, na_values=\"MISSING\", usecols=['ukgridcode', 'no22018'])\n",
    "all_data = [no2_2014, no2_2015, no2_2016, no2_2017, no2_2018]\n",
    "no2_5y = reduce(lambda left,right: pd.merge(left,right,on='ukgridcode'), all_data)\n",
    "no2_5y['no2_5yAvg'] = ((no2_2014.no22014+no2_2015.no22015+no2_2016.no22016+no2_2017.no22017+no2_2018.no22018)/5)\n",
    "no2_5y = no2_5y[['ukgridcode', 'no22018', 'no2_5yAvg']]\n",
    "no2_5y.head()"
   ]
  },
  {
   "cell_type": "markdown",
   "metadata": {},
   "source": [
    "Starting from [single year datasets](../Data/datasets.ipynb#no2_5y) (one for each year from 2014 to 2018) the values of nox are collected and merged in the new dataset nox_5y. The average value over the 5 years is then computed and added to the dataset. Eventually, only the subregion code, the nox value in 2018 and mean value of nox over 2014-2018 are kept"
   ]
  },
  {
   "cell_type": "code",
   "execution_count": 40,
   "metadata": {},
   "outputs": [
    {
     "data": {
      "text/html": [
       "<div>\n",
       "<style scoped>\n",
       "    .dataframe tbody tr th:only-of-type {\n",
       "        vertical-align: middle;\n",
       "    }\n",
       "\n",
       "    .dataframe tbody tr th {\n",
       "        vertical-align: top;\n",
       "    }\n",
       "\n",
       "    .dataframe thead th {\n",
       "        text-align: right;\n",
       "    }\n",
       "</style>\n",
       "<table border=\"1\" class=\"dataframe\">\n",
       "  <thead>\n",
       "    <tr style=\"text-align: right;\">\n",
       "      <th></th>\n",
       "      <th>ukgridcode</th>\n",
       "      <th>nox2018</th>\n",
       "      <th>nox_5yAvg</th>\n",
       "    </tr>\n",
       "  </thead>\n",
       "  <tbody>\n",
       "    <tr>\n",
       "      <th>0</th>\n",
       "      <td>54291</td>\n",
       "      <td>NaN</td>\n",
       "      <td>NaN</td>\n",
       "    </tr>\n",
       "    <tr>\n",
       "      <th>1</th>\n",
       "      <td>54292</td>\n",
       "      <td>NaN</td>\n",
       "      <td>NaN</td>\n",
       "    </tr>\n",
       "    <tr>\n",
       "      <th>2</th>\n",
       "      <td>54294</td>\n",
       "      <td>NaN</td>\n",
       "      <td>NaN</td>\n",
       "    </tr>\n",
       "    <tr>\n",
       "      <th>3</th>\n",
       "      <td>54979</td>\n",
       "      <td>NaN</td>\n",
       "      <td>NaN</td>\n",
       "    </tr>\n",
       "    <tr>\n",
       "      <th>4</th>\n",
       "      <td>54980</td>\n",
       "      <td>NaN</td>\n",
       "      <td>NaN</td>\n",
       "    </tr>\n",
       "  </tbody>\n",
       "</table>\n",
       "</div>"
      ],
      "text/plain": [
       "   ukgridcode  nox2018  nox_5yAvg\n",
       "0       54291      NaN        NaN\n",
       "1       54292      NaN        NaN\n",
       "2       54294      NaN        NaN\n",
       "3       54979      NaN        NaN\n",
       "4       54980      NaN        NaN"
      ]
     },
     "execution_count": 40,
     "metadata": {},
     "output_type": "execute_result"
    }
   ],
   "source": [
    "nox_2014 = pd.read_csv(\"%s/raw_mapnox2014.csv\" %path, skiprows = 5, na_values=\"MISSING\", usecols=['ukgridcode', 'nox2014'])\n",
    "nox_2015 = pd.read_csv(\"%s/raw_mapnox2015.csv\" %path, skiprows = 5, na_values=\"MISSING\", usecols=['ukgridcode', 'nox2015'])\n",
    "nox_2016 = pd.read_csv(\"%s/raw_mapnox2016.csv\" %path, skiprows = 5, na_values=\"MISSING\", usecols=['ukgridcode', 'nox2016'])\n",
    "nox_2017 = pd.read_csv(\"%s/raw_mapnox2017.csv\" %path, skiprows = 5, na_values=\"MISSING\", usecols=['ukgridcode', 'nox2017'])\n",
    "nox_2018 = pd.read_csv(\"%s/raw_mapnox2018.csv\" %path, skiprows = 5, na_values=\"MISSING\", usecols=['ukgridcode', 'nox2018'])\n",
    "all_data = [nox_2014, nox_2015, nox_2016, nox_2017, nox_2018]\n",
    "nox_5y = reduce(lambda left,right: pd.merge(left,right,on='ukgridcode'), all_data)\n",
    "nox_5y['nox_5yAvg'] = ((nox_2014.nox2014+nox_2015.nox2015+nox_2016.nox2016+nox_2017.nox2017+nox_2018.nox2018)/5)\n",
    "nox_5y = nox_5y[['ukgridcode', 'nox2018', 'nox_5yAvg']]\n",
    "nox_5y.head()"
   ]
  },
  {
   "cell_type": "markdown",
   "metadata": {},
   "source": [
    "Starting from [single year datasets](../Data/datasets.ipynb#no2_5y) (one for each year from 2014 to 2018) the values of pm25 are collected and merged in the new dataset pm25_5y. The average value over the 5 years is then computed and added to the dataset. Eventually, only the subregion code, the pm25 value in 2018 and mean value of pm25 over 2014-2018 are kept"
   ]
  },
  {
   "cell_type": "code",
   "execution_count": 42,
   "metadata": {},
   "outputs": [
    {
     "data": {
      "text/html": [
       "<div>\n",
       "<style scoped>\n",
       "    .dataframe tbody tr th:only-of-type {\n",
       "        vertical-align: middle;\n",
       "    }\n",
       "\n",
       "    .dataframe tbody tr th {\n",
       "        vertical-align: top;\n",
       "    }\n",
       "\n",
       "    .dataframe thead th {\n",
       "        text-align: right;\n",
       "    }\n",
       "</style>\n",
       "<table border=\"1\" class=\"dataframe\">\n",
       "  <thead>\n",
       "    <tr style=\"text-align: right;\">\n",
       "      <th></th>\n",
       "      <th>ukgridcode</th>\n",
       "      <th>pm252018g</th>\n",
       "      <th>pm25_5yAvg</th>\n",
       "    </tr>\n",
       "  </thead>\n",
       "  <tbody>\n",
       "    <tr>\n",
       "      <th>0</th>\n",
       "      <td>54291</td>\n",
       "      <td>NaN</td>\n",
       "      <td>NaN</td>\n",
       "    </tr>\n",
       "    <tr>\n",
       "      <th>1</th>\n",
       "      <td>54292</td>\n",
       "      <td>NaN</td>\n",
       "      <td>NaN</td>\n",
       "    </tr>\n",
       "    <tr>\n",
       "      <th>2</th>\n",
       "      <td>54294</td>\n",
       "      <td>NaN</td>\n",
       "      <td>NaN</td>\n",
       "    </tr>\n",
       "    <tr>\n",
       "      <th>3</th>\n",
       "      <td>54979</td>\n",
       "      <td>NaN</td>\n",
       "      <td>NaN</td>\n",
       "    </tr>\n",
       "    <tr>\n",
       "      <th>4</th>\n",
       "      <td>54980</td>\n",
       "      <td>NaN</td>\n",
       "      <td>NaN</td>\n",
       "    </tr>\n",
       "  </tbody>\n",
       "</table>\n",
       "</div>"
      ],
      "text/plain": [
       "   ukgridcode  pm252018g  pm25_5yAvg\n",
       "0       54291        NaN         NaN\n",
       "1       54292        NaN         NaN\n",
       "2       54294        NaN         NaN\n",
       "3       54979        NaN         NaN\n",
       "4       54980        NaN         NaN"
      ]
     },
     "execution_count": 42,
     "metadata": {},
     "output_type": "execute_result"
    }
   ],
   "source": [
    "pm25_2014 = pd.read_csv(\"%s/raw_mappm252014.csv\" %path, skiprows = 5, na_values=\"MISSING\", usecols=['ukgridcode', 'pm252014g'])\n",
    "pm25_2015 = pd.read_csv(\"%s/raw_mappm252015.csv\" %path, skiprows = 5, na_values=\"MISSING\", usecols=['ukgridcode', 'pm252015g'])\n",
    "pm25_2016 = pd.read_csv(\"%s/raw_mappm252016.csv\" %path, skiprows = 5, na_values=\"MISSING\", usecols=['ukgridcode', 'pm252016g'])\n",
    "pm25_2017 = pd.read_csv(\"%s/raw_mappm252017.csv\" %path, skiprows = 5, na_values=\"MISSING\", usecols=['ukgridcode', 'pm252017g'])\n",
    "pm25_2018 = pd.read_csv(\"%s/raw_mappm252018.csv\" %path, skiprows = 5, na_values=\"MISSING\", usecols=['ukgridcode', 'pm252018g'])\n",
    "all_data = [pm25_2014, pm25_2015, pm25_2016, pm25_2017, pm25_2018]\n",
    "pm25_5y = reduce(lambda left,right: pd.merge(left,right,on='ukgridcode'), all_data)\n",
    "pm25_5y['pm25_5yAvg'] = ((pm25_2014.pm252014g+pm25_2015.pm252015g+pm25_2016.pm252016g+pm25_2017.pm252017g+pm25_2018.pm252018g)/5)\n",
    "pm25_5y = pm25_5y[['ukgridcode', 'pm252018g', 'pm25_5yAvg']]\n",
    "pm25_5y.head()"
   ]
  },
  {
   "cell_type": "markdown",
   "metadata": {},
   "source": [
    "Starting from [single year datasets](../Data/datasets.ipynb#no2_5y) (one for each year from 2014 to 2018) the values of pm10 are collected and merged in the new dataset pm10_5y. The average value over the 5 years is then computed and added to the dataset. Eventually, only the subregion code, the pm10 value in 2018 and mean value of pm10 over 2014-2018 are kept"
   ]
  },
  {
   "cell_type": "code",
   "execution_count": 44,
   "metadata": {},
   "outputs": [
    {
     "data": {
      "text/html": [
       "<div>\n",
       "<style scoped>\n",
       "    .dataframe tbody tr th:only-of-type {\n",
       "        vertical-align: middle;\n",
       "    }\n",
       "\n",
       "    .dataframe tbody tr th {\n",
       "        vertical-align: top;\n",
       "    }\n",
       "\n",
       "    .dataframe thead th {\n",
       "        text-align: right;\n",
       "    }\n",
       "</style>\n",
       "<table border=\"1\" class=\"dataframe\">\n",
       "  <thead>\n",
       "    <tr style=\"text-align: right;\">\n",
       "      <th></th>\n",
       "      <th>ukgridcode</th>\n",
       "      <th>pm102018g</th>\n",
       "      <th>pm10_5yAvg</th>\n",
       "    </tr>\n",
       "  </thead>\n",
       "  <tbody>\n",
       "    <tr>\n",
       "      <th>0</th>\n",
       "      <td>54291</td>\n",
       "      <td>NaN</td>\n",
       "      <td>NaN</td>\n",
       "    </tr>\n",
       "    <tr>\n",
       "      <th>1</th>\n",
       "      <td>54292</td>\n",
       "      <td>NaN</td>\n",
       "      <td>NaN</td>\n",
       "    </tr>\n",
       "    <tr>\n",
       "      <th>2</th>\n",
       "      <td>54294</td>\n",
       "      <td>NaN</td>\n",
       "      <td>NaN</td>\n",
       "    </tr>\n",
       "    <tr>\n",
       "      <th>3</th>\n",
       "      <td>54979</td>\n",
       "      <td>NaN</td>\n",
       "      <td>NaN</td>\n",
       "    </tr>\n",
       "    <tr>\n",
       "      <th>4</th>\n",
       "      <td>54980</td>\n",
       "      <td>NaN</td>\n",
       "      <td>NaN</td>\n",
       "    </tr>\n",
       "  </tbody>\n",
       "</table>\n",
       "</div>"
      ],
      "text/plain": [
       "   ukgridcode  pm102018g  pm10_5yAvg\n",
       "0       54291        NaN         NaN\n",
       "1       54292        NaN         NaN\n",
       "2       54294        NaN         NaN\n",
       "3       54979        NaN         NaN\n",
       "4       54980        NaN         NaN"
      ]
     },
     "execution_count": 44,
     "metadata": {},
     "output_type": "execute_result"
    }
   ],
   "source": [
    "pm10_2014 = pd.read_csv(\"%s/raw_mappm102014.csv\" %path, skiprows = 5, na_values=\"MISSING\", usecols=['ukgridcode', 'pm102014g'])\n",
    "pm10_2015 = pd.read_csv(\"%s/raw_mappm102015.csv\" %path, skiprows = 5, na_values=\"MISSING\", usecols=['ukgridcode', 'pm102015g'])\n",
    "pm10_2016 = pd.read_csv(\"%s/raw_mappm102016.csv\" %path, skiprows = 5, na_values=\"MISSING\", usecols=['ukgridcode', 'pm102016g'])\n",
    "pm10_2017 = pd.read_csv(\"%s/raw_mappm102017.csv\" %path, skiprows = 5, na_values=\"MISSING\", usecols=['ukgridcode', 'pm102017g'])\n",
    "pm10_2018 = pd.read_csv(\"%s/raw_mappm102018.csv\" %path, skiprows = 5, na_values=\"MISSING\", usecols=['ukgridcode', 'pm102018g'])\n",
    "all_data = [pm10_2014, pm10_2015, pm10_2016, pm10_2017, pm10_2018]\n",
    "pm10_5y = reduce(lambda left,right: pd.merge(left,right,on='ukgridcode'), all_data)\n",
    "pm10_5y['pm10_5yAvg'] = ((pm10_2014.pm102014g+pm10_2015.pm102015g+pm10_2016.pm102016g+pm10_2017.pm102017g+pm10_2018.pm102018g)/5)\n",
    "pm10_5y = pm10_5y[['ukgridcode', 'pm102018g', 'pm10_5yAvg']]\n",
    "pm10_5y.head()"
   ]
  },
  {
   "cell_type": "markdown",
   "metadata": {},
   "source": [
    "Starting from [single year datasets](../Data/datasets.ipynb#no2_5y) (one for each year from 2014 to 2018) the values of o3 are collected and merged in the new dataset o3_5y. The average value over the 5 years is then computed and added to the dataset. Eventually, only the subregion code, the o3 value in 2018 and mean value of o3 over 2014-2018 are kept"
   ]
  },
  {
   "cell_type": "code",
   "execution_count": 45,
   "metadata": {},
   "outputs": [
    {
     "data": {
      "text/html": [
       "<div>\n",
       "<style scoped>\n",
       "    .dataframe tbody tr th:only-of-type {\n",
       "        vertical-align: middle;\n",
       "    }\n",
       "\n",
       "    .dataframe tbody tr th {\n",
       "        vertical-align: top;\n",
       "    }\n",
       "\n",
       "    .dataframe thead th {\n",
       "        text-align: right;\n",
       "    }\n",
       "</style>\n",
       "<table border=\"1\" class=\"dataframe\">\n",
       "  <thead>\n",
       "    <tr style=\"text-align: right;\">\n",
       "      <th></th>\n",
       "      <th>ukgridcode</th>\n",
       "      <th>dgt12018</th>\n",
       "      <th>o3_5yAvg</th>\n",
       "    </tr>\n",
       "  </thead>\n",
       "  <tbody>\n",
       "    <tr>\n",
       "      <th>0</th>\n",
       "      <td>54291</td>\n",
       "      <td>NaN</td>\n",
       "      <td>NaN</td>\n",
       "    </tr>\n",
       "    <tr>\n",
       "      <th>1</th>\n",
       "      <td>54292</td>\n",
       "      <td>NaN</td>\n",
       "      <td>NaN</td>\n",
       "    </tr>\n",
       "    <tr>\n",
       "      <th>2</th>\n",
       "      <td>54294</td>\n",
       "      <td>NaN</td>\n",
       "      <td>NaN</td>\n",
       "    </tr>\n",
       "    <tr>\n",
       "      <th>3</th>\n",
       "      <td>54979</td>\n",
       "      <td>NaN</td>\n",
       "      <td>NaN</td>\n",
       "    </tr>\n",
       "    <tr>\n",
       "      <th>4</th>\n",
       "      <td>54980</td>\n",
       "      <td>NaN</td>\n",
       "      <td>NaN</td>\n",
       "    </tr>\n",
       "  </tbody>\n",
       "</table>\n",
       "</div>"
      ],
      "text/plain": [
       "   ukgridcode  dgt12018  o3_5yAvg\n",
       "0       54291       NaN       NaN\n",
       "1       54292       NaN       NaN\n",
       "2       54294       NaN       NaN\n",
       "3       54979       NaN       NaN\n",
       "4       54980       NaN       NaN"
      ]
     },
     "execution_count": 45,
     "metadata": {},
     "output_type": "execute_result"
    }
   ],
   "source": [
    "o3_2014 = pd.read_csv(\"%s/raw_mapo312014.csv\" %path, skiprows = 5, na_values=\"MISSING\", usecols=['ukgridcode', 'dgt12014'])\n",
    "o3_2015 = pd.read_csv(\"%s/raw_mapo312015.csv\" %path, skiprows = 5, na_values=\"MISSING\", usecols=['ukgridcode', 'dgt12015'])\n",
    "o3_2016 = pd.read_csv(\"%s/raw_mapo312016.csv\" %path, skiprows = 5, na_values=\"MISSING\", usecols=['ukgridcode', 'dgt12016'])\n",
    "o3_2017 = pd.read_csv(\"%s/raw_mapo32017.csv\" %path, skiprows = 5, na_values=\"MISSING\", usecols=['ukgridcode', 'dgt12017'])\n",
    "o3_2018 = pd.read_csv(\"%s/raw_mapo312018.csv\" %path, skiprows = 5, na_values=\"MISSING\", usecols=['ukgridcode', 'dgt12018'])\n",
    "o3_5y = reduce(lambda left,right: pd.merge(left,right,on='ukgridcode'), [o3_2014, o3_2015, o3_2016, o3_2017, o3_2018])\n",
    "o3_5y['o3_5yAvg'] = ((o3_2014.dgt12014+o3_2015.dgt12015+o3_2016.dgt12016+o3_2017.dgt12017+o3_2018.dgt12018)/5)\n",
    "o3_5y = o3_5y[['ukgridcode', 'dgt12018', 'o3_5yAvg']]\n",
    "o3_5y.head()"
   ]
  },
  {
   "cell_type": "markdown",
   "metadata": {},
   "source": [
    "All the pollutant_5y are merged in the final dataset ap_dt that contains information about all pollutants.\n",
    "The ap_dt dataset is then saved as csv"
   ]
  },
  {
   "cell_type": "code",
   "execution_count": 28,
   "metadata": {},
   "outputs": [
    {
     "data": {
      "text/html": [
       "<div>\n",
       "<style scoped>\n",
       "    .dataframe tbody tr th:only-of-type {\n",
       "        vertical-align: middle;\n",
       "    }\n",
       "\n",
       "    .dataframe tbody tr th {\n",
       "        vertical-align: top;\n",
       "    }\n",
       "\n",
       "    .dataframe thead th {\n",
       "        text-align: right;\n",
       "    }\n",
       "</style>\n",
       "<table border=\"1\" class=\"dataframe\">\n",
       "  <thead>\n",
       "    <tr style=\"text-align: right;\">\n",
       "      <th></th>\n",
       "      <th>ukgridcode</th>\n",
       "      <th>no22018</th>\n",
       "      <th>no2_5yAvg</th>\n",
       "      <th>nox2018</th>\n",
       "      <th>nox_5yAvg</th>\n",
       "      <th>dgt12018</th>\n",
       "      <th>o3_5yAvg</th>\n",
       "      <th>pm102018g</th>\n",
       "      <th>pm10_5yAvg</th>\n",
       "      <th>pm252018g</th>\n",
       "      <th>pm25_5yAvg</th>\n",
       "    </tr>\n",
       "  </thead>\n",
       "  <tbody>\n",
       "    <tr>\n",
       "      <th>14</th>\n",
       "      <td>55671</td>\n",
       "      <td>1.734648</td>\n",
       "      <td>2.954160</td>\n",
       "      <td>2.110115</td>\n",
       "      <td>3.785750</td>\n",
       "      <td>4.699172</td>\n",
       "      <td>1.328225</td>\n",
       "      <td>4.874836</td>\n",
       "      <td>7.458620</td>\n",
       "      <td>2.994053</td>\n",
       "      <td>4.116575</td>\n",
       "    </tr>\n",
       "    <tr>\n",
       "      <th>24</th>\n",
       "      <td>56360</td>\n",
       "      <td>1.748184</td>\n",
       "      <td>2.955865</td>\n",
       "      <td>2.126862</td>\n",
       "      <td>3.787582</td>\n",
       "      <td>4.701599</td>\n",
       "      <td>1.328234</td>\n",
       "      <td>4.868680</td>\n",
       "      <td>7.445010</td>\n",
       "      <td>2.988176</td>\n",
       "      <td>4.105491</td>\n",
       "    </tr>\n",
       "    <tr>\n",
       "      <th>25</th>\n",
       "      <td>56361</td>\n",
       "      <td>1.756501</td>\n",
       "      <td>2.966006</td>\n",
       "      <td>2.137155</td>\n",
       "      <td>3.800848</td>\n",
       "      <td>4.697112</td>\n",
       "      <td>1.327758</td>\n",
       "      <td>4.877372</td>\n",
       "      <td>7.461088</td>\n",
       "      <td>2.995678</td>\n",
       "      <td>4.118182</td>\n",
       "    </tr>\n",
       "    <tr>\n",
       "      <th>26</th>\n",
       "      <td>56362</td>\n",
       "      <td>1.764046</td>\n",
       "      <td>2.969145</td>\n",
       "      <td>2.146492</td>\n",
       "      <td>3.804794</td>\n",
       "      <td>4.696401</td>\n",
       "      <td>1.327611</td>\n",
       "      <td>4.878715</td>\n",
       "      <td>7.462759</td>\n",
       "      <td>2.996176</td>\n",
       "      <td>4.118773</td>\n",
       "    </tr>\n",
       "    <tr>\n",
       "      <th>27</th>\n",
       "      <td>56363</td>\n",
       "      <td>1.807779</td>\n",
       "      <td>2.988916</td>\n",
       "      <td>2.200650</td>\n",
       "      <td>3.829626</td>\n",
       "      <td>4.692276</td>\n",
       "      <td>1.326764</td>\n",
       "      <td>4.880319</td>\n",
       "      <td>7.464448</td>\n",
       "      <td>2.997217</td>\n",
       "      <td>4.119644</td>\n",
       "    </tr>\n",
       "  </tbody>\n",
       "</table>\n",
       "</div>"
      ],
      "text/plain": [
       "    ukgridcode   no22018  no2_5yAvg   nox2018  nox_5yAvg  dgt12018  o3_5yAvg  \\\n",
       "14       55671  1.734648   2.954160  2.110115   3.785750  4.699172  1.328225   \n",
       "24       56360  1.748184   2.955865  2.126862   3.787582  4.701599  1.328234   \n",
       "25       56361  1.756501   2.966006  2.137155   3.800848  4.697112  1.327758   \n",
       "26       56362  1.764046   2.969145  2.146492   3.804794  4.696401  1.327611   \n",
       "27       56363  1.807779   2.988916  2.200650   3.829626  4.692276  1.326764   \n",
       "\n",
       "    pm102018g  pm10_5yAvg  pm252018g  pm25_5yAvg  \n",
       "14   4.874836    7.458620   2.994053    4.116575  \n",
       "24   4.868680    7.445010   2.988176    4.105491  \n",
       "25   4.877372    7.461088   2.995678    4.118182  \n",
       "26   4.878715    7.462759   2.996176    4.118773  \n",
       "27   4.880319    7.464448   2.997217    4.119644  "
      ]
     },
     "execution_count": 28,
     "metadata": {},
     "output_type": "execute_result"
    }
   ],
   "source": [
    "ap_dt = reduce(lambda left,right: pd.merge(left,right,on='ukgridcode'), [no2_5y, nox_5y, o3_5y, pm10_5y, pm25_5y])\n",
    "ap_dt.dropna(inplace=True)\n",
    "ap_dt.to_csv(\"../data_out/5Yaverage_AP_PCMdata.csv\")\n",
    "ap_dt.head()"
   ]
  },
  {
   "cell_type": "markdown",
   "metadata": {},
   "source": [
    "##### Create the dataset with average earnings, average age and average population density overe the years2014-2018"
   ]
  },
  {
   "cell_type": "markdown",
   "metadata": {},
   "source": [
    "Import the dataset [covid_air_dt_5YA](../data_out/Output_data_des.ipynb)"
   ]
  },
  {
   "cell_type": "code",
   "execution_count": 51,
   "metadata": {
    "scrolled": true
   },
   "outputs": [],
   "source": [
    "covid_air_dt_5YA = pd.read_csv(\"../data_out/covid_air_dt_5YA.csv\" )"
   ]
  },
  {
   "cell_type": "markdown",
   "metadata": {},
   "source": [
    "The dataset avgEarnings_5ya is created by merging the [avgEarnings_2014, avgEarnings_2015, avgEarnings_2016, avgEarnings_2017, avgEarnings_2018](../Data/datasets.ipynb#avgEarnings). Na are dropped."
   ]
  },
  {
   "cell_type": "code",
   "execution_count": 52,
   "metadata": {},
   "outputs": [
    {
     "data": {
      "text/html": [
       "<div>\n",
       "<style scoped>\n",
       "    .dataframe tbody tr th:only-of-type {\n",
       "        vertical-align: middle;\n",
       "    }\n",
       "\n",
       "    .dataframe tbody tr th {\n",
       "        vertical-align: top;\n",
       "    }\n",
       "\n",
       "    .dataframe thead th {\n",
       "        text-align: right;\n",
       "    }\n",
       "</style>\n",
       "<table border=\"1\" class=\"dataframe\">\n",
       "  <thead>\n",
       "    <tr style=\"text-align: right;\">\n",
       "      <th></th>\n",
       "      <th>Code</th>\n",
       "      <th>avgEarn_2014</th>\n",
       "      <th>avgEarn_2015</th>\n",
       "      <th>avgEarn_2016</th>\n",
       "      <th>avgEarn_2017</th>\n",
       "      <th>avgEarn_2018</th>\n",
       "    </tr>\n",
       "  </thead>\n",
       "  <tbody>\n",
       "    <tr>\n",
       "      <th>0</th>\n",
       "      <td>NaN</td>\n",
       "      <td>27,316</td>\n",
       "      <td>27,542</td>\n",
       "      <td>25,802</td>\n",
       "      <td>27,489</td>\n",
       "      <td>29,341</td>\n",
       "    </tr>\n",
       "    <tr>\n",
       "      <th>1</th>\n",
       "      <td>NaN</td>\n",
       "      <td>27,316</td>\n",
       "      <td>27,692</td>\n",
       "      <td>25,802</td>\n",
       "      <td>27,489</td>\n",
       "      <td>29,341</td>\n",
       "    </tr>\n",
       "    <tr>\n",
       "      <th>2</th>\n",
       "      <td>NaN</td>\n",
       "      <td>27,316</td>\n",
       "      <td>27,806</td>\n",
       "      <td>25,802</td>\n",
       "      <td>27,489</td>\n",
       "      <td>29,341</td>\n",
       "    </tr>\n",
       "    <tr>\n",
       "      <th>3</th>\n",
       "      <td>NaN</td>\n",
       "      <td>27,316</td>\n",
       "      <td>28,028</td>\n",
       "      <td>25,802</td>\n",
       "      <td>27,489</td>\n",
       "      <td>29,341</td>\n",
       "    </tr>\n",
       "    <tr>\n",
       "      <th>4</th>\n",
       "      <td>NaN</td>\n",
       "      <td>27,316</td>\n",
       "      <td>24,499</td>\n",
       "      <td>25,802</td>\n",
       "      <td>27,489</td>\n",
       "      <td>29,341</td>\n",
       "    </tr>\n",
       "  </tbody>\n",
       "</table>\n",
       "</div>"
      ],
      "text/plain": [
       "  Code avgEarn_2014 avgEarn_2015 avgEarn_2016 avgEarn_2017 avgEarn_2018\n",
       "0  NaN       27,316       27,542       25,802       27,489       29,341\n",
       "1  NaN       27,316       27,692       25,802       27,489       29,341\n",
       "2  NaN       27,316       27,806       25,802       27,489       29,341\n",
       "3  NaN       27,316       28,028       25,802       27,489       29,341\n",
       "4  NaN       27,316       24,499       25,802       27,489       29,341"
      ]
     },
     "execution_count": 52,
     "metadata": {},
     "output_type": "execute_result"
    }
   ],
   "source": [
    "avgEarnings_2014 = pd.read_csv(\"%s/avgEarnings_2014.csv\" %path_output, na_values = \"x\", usecols = [\"Code\",\"avgEarn_2014\"])\n",
    "avgEarnings_2014.dropna(subset = [\"avgEarn_2014\"], inplace=True)\n",
    "avgEarnings_2015 = pd.read_csv(\"%s/avgEarnings_2015.csv\" %path_output, na_values = \"x\", usecols = [\"Code\",\"avgEarn_2015\"])\n",
    "avgEarnings_2015.dropna(subset = [\"avgEarn_2015\"], inplace=True)\n",
    "avgEarnings_2016 = pd.read_csv(\"%s/avgEarnings_2016.csv\" %path_output, na_values = \"x\", usecols = [\"Code\",\"avgEarn_2016\"])\n",
    "avgEarnings_2016.dropna(subset = [\"avgEarn_2016\"], inplace=True)\n",
    "avgEarnings_2017 = pd.read_csv(\"%s/avgEarnings_2017.csv\" %path_output, na_values = \"x\", usecols = [\"Code\",\"avgEarn_2017\"])\n",
    "avgEarnings_2017.dropna(subset = [\"avgEarn_2017\"], inplace=True)\n",
    "avgEarnings_2018 = pd.read_csv(\"%s/avgEarnings_2018.csv\" %path_output, na_values = \"x\", usecols = [\"Code\",\"avgEarn_2018\"])\n",
    "avgEarnings_2018.dropna(subset = [\"avgEarn_2018\"], inplace=True)\n",
    "all_data = [avgEarnings_2014, avgEarnings_2015, avgEarnings_2016, avgEarnings_2017, avgEarnings_2018]\n",
    "avgEarnings_5ya = reduce(lambda left,right: pd.merge(left,right), all_data)\n",
    "avgEarnings_5ya.head()"
   ]
  },
  {
   "cell_type": "markdown",
   "metadata": {},
   "source": [
    "Commas are dropped and column are converted into integerd. \n",
    "\n",
    "A new column with the mean value of earning for all the 5 years is added to the dataframe"
   ]
  },
  {
   "cell_type": "code",
   "execution_count": 53,
   "metadata": {},
   "outputs": [
    {
     "data": {
      "text/html": [
       "<div>\n",
       "<style scoped>\n",
       "    .dataframe tbody tr th:only-of-type {\n",
       "        vertical-align: middle;\n",
       "    }\n",
       "\n",
       "    .dataframe tbody tr th {\n",
       "        vertical-align: top;\n",
       "    }\n",
       "\n",
       "    .dataframe thead th {\n",
       "        text-align: right;\n",
       "    }\n",
       "</style>\n",
       "<table border=\"1\" class=\"dataframe\">\n",
       "  <thead>\n",
       "    <tr style=\"text-align: right;\">\n",
       "      <th></th>\n",
       "      <th>Code</th>\n",
       "      <th>avgEarn_2014</th>\n",
       "      <th>avgEarn_2015</th>\n",
       "      <th>avgEarn_2016</th>\n",
       "      <th>avgEarn_2017</th>\n",
       "      <th>avgEarn_2018</th>\n",
       "      <th>earnings_5ya</th>\n",
       "    </tr>\n",
       "  </thead>\n",
       "  <tbody>\n",
       "    <tr>\n",
       "      <th>0</th>\n",
       "      <td>NaN</td>\n",
       "      <td>27316</td>\n",
       "      <td>27542</td>\n",
       "      <td>25802</td>\n",
       "      <td>27489</td>\n",
       "      <td>29341</td>\n",
       "      <td>27498.0</td>\n",
       "    </tr>\n",
       "    <tr>\n",
       "      <th>1</th>\n",
       "      <td>NaN</td>\n",
       "      <td>27316</td>\n",
       "      <td>27692</td>\n",
       "      <td>25802</td>\n",
       "      <td>27489</td>\n",
       "      <td>29341</td>\n",
       "      <td>27528.0</td>\n",
       "    </tr>\n",
       "    <tr>\n",
       "      <th>2</th>\n",
       "      <td>NaN</td>\n",
       "      <td>27316</td>\n",
       "      <td>27806</td>\n",
       "      <td>25802</td>\n",
       "      <td>27489</td>\n",
       "      <td>29341</td>\n",
       "      <td>27550.8</td>\n",
       "    </tr>\n",
       "    <tr>\n",
       "      <th>3</th>\n",
       "      <td>NaN</td>\n",
       "      <td>27316</td>\n",
       "      <td>28028</td>\n",
       "      <td>25802</td>\n",
       "      <td>27489</td>\n",
       "      <td>29341</td>\n",
       "      <td>27595.2</td>\n",
       "    </tr>\n",
       "    <tr>\n",
       "      <th>4</th>\n",
       "      <td>NaN</td>\n",
       "      <td>27316</td>\n",
       "      <td>24499</td>\n",
       "      <td>25802</td>\n",
       "      <td>27489</td>\n",
       "      <td>29341</td>\n",
       "      <td>26889.4</td>\n",
       "    </tr>\n",
       "  </tbody>\n",
       "</table>\n",
       "</div>"
      ],
      "text/plain": [
       "  Code  avgEarn_2014  avgEarn_2015  avgEarn_2016  avgEarn_2017  avgEarn_2018  \\\n",
       "0  NaN         27316         27542         25802         27489         29341   \n",
       "1  NaN         27316         27692         25802         27489         29341   \n",
       "2  NaN         27316         27806         25802         27489         29341   \n",
       "3  NaN         27316         28028         25802         27489         29341   \n",
       "4  NaN         27316         24499         25802         27489         29341   \n",
       "\n",
       "   earnings_5ya  \n",
       "0       27498.0  \n",
       "1       27528.0  \n",
       "2       27550.8  \n",
       "3       27595.2  \n",
       "4       26889.4  "
      ]
     },
     "execution_count": 53,
     "metadata": {},
     "output_type": "execute_result"
    }
   ],
   "source": [
    "avgEarnings_5ya['avgEarn_2014'] = [x.replace(',','') for x in avgEarnings_5ya['avgEarn_2014']]\n",
    "avgEarnings_5ya['avgEarn_2014'] = pd.to_numeric(avgEarnings_5ya['avgEarn_2014'],errors='coerce')\n",
    "avgEarnings_5ya['avgEarn_2015'] = [x.replace(',','') for x in avgEarnings_5ya['avgEarn_2015']]\n",
    "avgEarnings_5ya['avgEarn_2015'] = pd.to_numeric(avgEarnings_5ya['avgEarn_2015'],errors='coerce')\n",
    "avgEarnings_5ya['avgEarn_2016'] = [x.replace(',','') for x in avgEarnings_5ya['avgEarn_2016']]\n",
    "avgEarnings_5ya['avgEarn_2016'] = pd.to_numeric(avgEarnings_5ya['avgEarn_2016'],errors='coerce')\n",
    "avgEarnings_5ya['avgEarn_2017'] = [x.replace(',','') for x in avgEarnings_5ya['avgEarn_2017']]\n",
    "avgEarnings_5ya['avgEarn_2017'] = pd.to_numeric(avgEarnings_5ya['avgEarn_2017'],errors='coerce')\n",
    "avgEarnings_5ya['avgEarn_2018'] = [x.replace(',','') for x in avgEarnings_5ya['avgEarn_2018']]\n",
    "avgEarnings_5ya['avgEarn_2018'] = pd.to_numeric(avgEarnings_5ya['avgEarn_2018'],errors='coerce')\n",
    "avgEarnings_5ya['earnings_5ya'] = ((avgEarnings_5ya['avgEarn_2014'] + avgEarnings_5ya['avgEarn_2015'] + \n",
    "                                avgEarnings_5ya['avgEarn_2016']+ avgEarnings_5ya['avgEarn_2017'] + avgEarnings_5ya['avgEarn_2018'])/5)\n",
    "avgEarnings_5ya.head()"
   ]
  },
  {
   "cell_type": "markdown",
   "metadata": {},
   "source": [
    "Only the subregion Code and the 5 years mean earing columns are kept"
   ]
  },
  {
   "cell_type": "code",
   "execution_count": 54,
   "metadata": {},
   "outputs": [
    {
     "data": {
      "text/html": [
       "<div>\n",
       "<style scoped>\n",
       "    .dataframe tbody tr th:only-of-type {\n",
       "        vertical-align: middle;\n",
       "    }\n",
       "\n",
       "    .dataframe tbody tr th {\n",
       "        vertical-align: top;\n",
       "    }\n",
       "\n",
       "    .dataframe thead th {\n",
       "        text-align: right;\n",
       "    }\n",
       "</style>\n",
       "<table border=\"1\" class=\"dataframe\">\n",
       "  <thead>\n",
       "    <tr style=\"text-align: right;\">\n",
       "      <th></th>\n",
       "      <th>Code</th>\n",
       "      <th>earnings_5ya</th>\n",
       "    </tr>\n",
       "  </thead>\n",
       "  <tbody>\n",
       "    <tr>\n",
       "      <th>0</th>\n",
       "      <td>NaN</td>\n",
       "      <td>27498.0</td>\n",
       "    </tr>\n",
       "    <tr>\n",
       "      <th>1</th>\n",
       "      <td>NaN</td>\n",
       "      <td>27528.0</td>\n",
       "    </tr>\n",
       "    <tr>\n",
       "      <th>2</th>\n",
       "      <td>NaN</td>\n",
       "      <td>27550.8</td>\n",
       "    </tr>\n",
       "    <tr>\n",
       "      <th>3</th>\n",
       "      <td>NaN</td>\n",
       "      <td>27595.2</td>\n",
       "    </tr>\n",
       "    <tr>\n",
       "      <th>4</th>\n",
       "      <td>NaN</td>\n",
       "      <td>26889.4</td>\n",
       "    </tr>\n",
       "  </tbody>\n",
       "</table>\n",
       "</div>"
      ],
      "text/plain": [
       "  Code  earnings_5ya\n",
       "0  NaN       27498.0\n",
       "1  NaN       27528.0\n",
       "2  NaN       27550.8\n",
       "3  NaN       27595.2\n",
       "4  NaN       26889.4"
      ]
     },
     "execution_count": 54,
     "metadata": {},
     "output_type": "execute_result"
    }
   ],
   "source": [
    "avgEarnings_5ya = avgEarnings_5ya[[\"Code\", \"earnings_5ya\"]]\n",
    "avgEarnings_5ya.head()"
   ]
  },
  {
   "cell_type": "markdown",
   "metadata": {},
   "source": [
    "The same information for population density and age are now requested. They are contained in [Pop_density_5ya](../Data/datasets.ipynb#Pop_density_5ya) and [age_5ya](../Data/datasets.ipynb#age_5ya).\n",
    "\n",
    "The covariates_5ya dataset is created by merging all the informations gained about age, population density and earning for the years 2014-2018"
   ]
  },
  {
   "cell_type": "code",
   "execution_count": 55,
   "metadata": {},
   "outputs": [
    {
     "data": {
      "text/html": [
       "<div>\n",
       "<style scoped>\n",
       "    .dataframe tbody tr th:only-of-type {\n",
       "        vertical-align: middle;\n",
       "    }\n",
       "\n",
       "    .dataframe tbody tr th {\n",
       "        vertical-align: top;\n",
       "    }\n",
       "\n",
       "    .dataframe thead th {\n",
       "        text-align: right;\n",
       "    }\n",
       "</style>\n",
       "<table border=\"1\" class=\"dataframe\">\n",
       "  <thead>\n",
       "    <tr style=\"text-align: right;\">\n",
       "      <th></th>\n",
       "      <th>Code</th>\n",
       "      <th>earnings_5ya</th>\n",
       "      <th>pop_dens_5ya</th>\n",
       "      <th>age_5ya</th>\n",
       "    </tr>\n",
       "  </thead>\n",
       "  <tbody>\n",
       "    <tr>\n",
       "      <th>1</th>\n",
       "      <td>E06000001</td>\n",
       "      <td>24887.4</td>\n",
       "      <td>992</td>\n",
       "      <td>41.8</td>\n",
       "    </tr>\n",
       "    <tr>\n",
       "      <th>2</th>\n",
       "      <td>E06000002</td>\n",
       "      <td>21543.4</td>\n",
       "      <td>2601</td>\n",
       "      <td>36.4</td>\n",
       "    </tr>\n",
       "    <tr>\n",
       "      <th>3</th>\n",
       "      <td>E06000003</td>\n",
       "      <td>22960.2</td>\n",
       "      <td>555</td>\n",
       "      <td>44.7</td>\n",
       "    </tr>\n",
       "    <tr>\n",
       "      <th>4</th>\n",
       "      <td>E06000004</td>\n",
       "      <td>24847.8</td>\n",
       "      <td>957</td>\n",
       "      <td>40.3</td>\n",
       "    </tr>\n",
       "    <tr>\n",
       "      <th>0</th>\n",
       "      <td>E06000005</td>\n",
       "      <td>25761.8</td>\n",
       "      <td>539</td>\n",
       "      <td>42.6</td>\n",
       "    </tr>\n",
       "  </tbody>\n",
       "</table>\n",
       "</div>"
      ],
      "text/plain": [
       "        Code  earnings_5ya  pop_dens_5ya  age_5ya\n",
       "1  E06000001       24887.4           992     41.8\n",
       "2  E06000002       21543.4          2601     36.4\n",
       "3  E06000003       22960.2           555     44.7\n",
       "4  E06000004       24847.8           957     40.3\n",
       "0  E06000005       25761.8           539     42.6"
      ]
     },
     "execution_count": 55,
     "metadata": {},
     "output_type": "execute_result"
    }
   ],
   "source": [
    "Pop_density_5ya = pd.read_csv(\"%s/Pop_density_full_dt.csv\" %path, usecols = [\"Code\",\"pop_dens_5ya\"])\n",
    "age_5ya = pd.read_csv(\"%s/age_5ya.csv\" %path_output, usecols = [\"Code\",\"age_5ya\"])\n",
    "all_data = [avgEarnings_5ya, Pop_density_5ya, age_5ya]\n",
    "covariates_5ya = reduce(lambda left,right: pd.merge(left,right), all_data)\n",
    "covariates_5ya.sort_values(by=\"Code\", inplace=True)\n",
    "covariates_5ya['pop_dens_5ya'] = [x.replace(',','') for x in covariates_5ya['pop_dens_5ya']]\n",
    "covariates_5ya['pop_dens_5ya'] = pd.to_numeric(covariates_5ya['pop_dens_5ya'],errors='coerce')\n",
    "covariates_5ya.head()"
   ]
  },
  {
   "cell_type": "markdown",
   "metadata": {},
   "source": [
    "Eventually, the final dataset avg_AP_dt is created by merging the 5-years mean value of the covariates and the 5-years mean value of the pollutants. "
   ]
  },
  {
   "cell_type": "code",
   "execution_count": 56,
   "metadata": {},
   "outputs": [],
   "source": [
    "merged_covid_air_dt_5YA = pd.merge(covid_air_dt_5YA, covariates_5ya, on='Code')\n",
    "merged_covid_air_dt_5YA.head()\n",
    "merged_covid_air_dt_5YA.to_csv('../data_out/merged_covid_air_dt_cov_5YA.csv.csv')"
   ]
  },
  {
   "cell_type": "markdown",
   "metadata": {},
   "source": [
    "##### Investigate the imapact of 5-years-mean particulate matter with aerodynamic diamter <2.5 μm (pm25) on the expected number of deaths"
   ]
  },
  {
   "cell_type": "code",
   "execution_count": 57,
   "metadata": {
    "scrolled": true
   },
   "outputs": [
    {
     "name": "stdout",
     "output_type": "stream",
     "text": [
      "                 Generalized Linear Model Regression Results                  \n",
      "==============================================================================\n",
      "Dep. Variable:                 deaths   No. Observations:                  312\n",
      "Model:                            GLM   Df Residuals:                      307\n",
      "Model Family:        NegativeBinomial   Df Model:                            4\n",
      "Link Function:                    log   Scale:                          1.0000\n",
      "Method:                          IRLS   Log-Likelihood:                -1419.5\n",
      "Date:                Fri, 01 Oct 2021   Deviance:                       340.50\n",
      "Time:                        22:43:04   Pearson chi2:                     391.\n",
      "No. Iterations:                    10                                         \n",
      "Covariance Type:            nonrobust                                         \n",
      "================================================================================\n",
      "                   coef    std err          z      P>|z|      [0.025      0.975]\n",
      "--------------------------------------------------------------------------------\n",
      "Intercept        7.2459      0.647     11.197      0.000       5.978       8.514\n",
      "pop_dens_5ya  9.933e-05   2.28e-05      4.361      0.000    5.47e-05       0.000\n",
      "earnings_5ya  8.159e-06   7.09e-06      1.151      0.250   -5.73e-06    2.21e-05\n",
      "age_5ya         -0.0850      0.012     -7.116      0.000      -0.108      -0.062\n",
      "pm25_5yAvg      -0.0469      0.032     -1.459      0.145      -0.110       0.016\n",
      "================================================================================\n",
      "          VIF      variable\n",
      "0  274.778829     Intercept\n",
      "1    2.191791  pop_dens_5ya\n",
      "2    1.338671  earnings_5ya\n",
      "3    2.096655       age_5ya\n",
      "4    1.779544    pm25_5yAvg\n"
     ]
    }
   ],
   "source": [
    "pm25_deaths_5YA_nb  = smf.glm(formula = \"deaths ~ pop_dens_5ya + earnings_5ya + age_5ya + pm25_5yAvg\", data=merged_covid_air_dt_5YA, family=sm.families.NegativeBinomial(alpha = 0.448833)).fit()\n",
    "print(pm25_deaths_5YA_nb .summary())\n",
    "y, X = dmatrices(\"deaths ~ pop_dens_5ya + earnings_5ya + age_5ya + pm25_5yAvg\", data=merged_covid_air_dt_5YA, return_type='dataframe')\n",
    "vif_deaths_5y_pm25 = pd.DataFrame()\n",
    "vif_deaths_5y_pm25['VIF'] = [variance_inflation_factor(X.values, i) for i in range(X.shape[1])]\n",
    "vif_deaths_5y_pm25['variable'] = X.columns\n",
    "print(vif_deaths_5y_pm25)"
   ]
  },
  {
   "cell_type": "markdown",
   "metadata": {},
   "source": [
    "pm25_5yAvg is not statistically significant and neither earnings_5ya. There is no collinearity."
   ]
  },
  {
   "cell_type": "markdown",
   "metadata": {},
   "source": [
    "##### Investigate the imapact of 5-years-mean particulate matter with aerodynamic diamter <10.0 μm (pm10) on the expected number of deaths"
   ]
  },
  {
   "cell_type": "code",
   "execution_count": 58,
   "metadata": {},
   "outputs": [
    {
     "name": "stdout",
     "output_type": "stream",
     "text": [
      "                 Generalized Linear Model Regression Results                  \n",
      "==============================================================================\n",
      "Dep. Variable:                 deaths   No. Observations:                  312\n",
      "Model:                            GLM   Df Residuals:                      307\n",
      "Model Family:        NegativeBinomial   Df Model:                            4\n",
      "Link Function:                    log   Scale:                          1.0000\n",
      "Method:                          IRLS   Log-Likelihood:                -1419.0\n",
      "Date:                Fri, 01 Oct 2021   Deviance:                       339.30\n",
      "Time:                        22:43:06   Pearson chi2:                     388.\n",
      "No. Iterations:                    10                                         \n",
      "Covariance Type:            nonrobust                                         \n",
      "================================================================================\n",
      "                   coef    std err          z      P>|z|      [0.025      0.975]\n",
      "--------------------------------------------------------------------------------\n",
      "Intercept        7.3023      0.618     11.818      0.000       6.091       8.513\n",
      "pop_dens_5ya     0.0001   2.29e-05      4.446      0.000    5.69e-05       0.000\n",
      "earnings_5ya  8.399e-06      7e-06      1.200      0.230   -5.32e-06    2.21e-05\n",
      "age_5ya         -0.0844      0.012     -7.267      0.000      -0.107      -0.062\n",
      "pm10_5yAvg      -0.0378      0.021     -1.798      0.072      -0.079       0.003\n",
      "================================================================================\n",
      "          VIF      variable\n",
      "0  250.092416     Intercept\n",
      "1    2.210365  pop_dens_5ya\n",
      "2    1.304255  earnings_5ya\n",
      "3    1.978225       age_5ya\n",
      "4    1.568935    pm10_5yAvg\n"
     ]
    }
   ],
   "source": [
    "pm10_deaths_5YA_nb  = smf.glm(formula = \"deaths ~ pop_dens_5ya + earnings_5ya + age_5ya + pm10_5yAvg\", data=merged_covid_air_dt_5YA, family=sm.families.NegativeBinomial(alpha = 0.4490346)).fit()\n",
    "print(pm10_deaths_5YA_nb .summary())\n",
    "y, X = dmatrices(\"deaths ~ pop_dens_5ya + earnings_5ya + age_5ya + pm10_5yAvg\", data=merged_covid_air_dt_5YA, return_type='dataframe')\n",
    "vif_deaths_5y_pm10 = pd.DataFrame()\n",
    "vif_deaths_5y_pm10['VIF'] = [variance_inflation_factor(X.values, i) for i in range(X.shape[1])]\n",
    "vif_deaths_5y_pm10['variable'] = X.columns\n",
    "print(vif_deaths_5y_pm10)"
   ]
  },
  {
   "cell_type": "markdown",
   "metadata": {},
   "source": [
    "pm10_5yAvg is not statistically significant and neither earnings_5ya. There is no collinearity."
   ]
  },
  {
   "cell_type": "markdown",
   "metadata": {},
   "source": [
    "##### Investigate the imapact of 5-years-mean nitrogen oxide (nox) on the expected number of deaths"
   ]
  },
  {
   "cell_type": "code",
   "execution_count": 59,
   "metadata": {},
   "outputs": [
    {
     "name": "stdout",
     "output_type": "stream",
     "text": [
      "                 Generalized Linear Model Regression Results                  \n",
      "==============================================================================\n",
      "Dep. Variable:                 deaths   No. Observations:                  312\n",
      "Model:                            GLM   Df Residuals:                      307\n",
      "Model Family:        NegativeBinomial   Df Model:                            4\n",
      "Link Function:                    log   Scale:                          1.0000\n",
      "Method:                          IRLS   Log-Likelihood:                -1416.4\n",
      "Date:                Fri, 01 Oct 2021   Deviance:                       348.15\n",
      "Time:                        22:43:08   Pearson chi2:                     429.\n",
      "No. Iterations:                     8                                         \n",
      "Covariance Type:            nonrobust                                         \n",
      "================================================================================\n",
      "                   coef    std err          z      P>|z|      [0.025      0.975]\n",
      "--------------------------------------------------------------------------------\n",
      "Intercept        5.7041      0.563     10.127      0.000       4.600       6.808\n",
      "pop_dens_5ya  6.377e-05   2.48e-05      2.574      0.010    1.52e-05       0.000\n",
      "earnings_5ya  3.154e-06   6.58e-06      0.479      0.632   -9.75e-06    1.61e-05\n",
      "age_5ya         -0.0614      0.012     -5.125      0.000      -0.085      -0.038\n",
      "nox_5yAvg        0.0139      0.005      2.874      0.004       0.004       0.023\n",
      "================================================================================\n",
      "          VIF      variable\n",
      "0  219.178734     Intercept\n",
      "1    2.706941  pop_dens_5ya\n",
      "2    1.204523  earnings_5ya\n",
      "3    2.211007       age_5ya\n",
      "4    2.654836     nox_5yAvg\n"
     ]
    }
   ],
   "source": [
    "nox_deaths_5YA_nb  = smf.glm(formula = \"deaths ~ pop_dens_5ya + earnings_5ya + age_5ya + nox_5yAvg\", data=merged_covid_air_dt_5YA, family=sm.families.NegativeBinomial(alpha = 0.4290004)).fit()\n",
    "print(nox_deaths_5YA_nb .summary())\n",
    "y, X = dmatrices(\"deaths ~ pop_dens_5ya + earnings_5ya + age_5ya + nox_5yAvg\", data=merged_covid_air_dt_5YA, return_type='dataframe')\n",
    "vif_deaths_5y_nox = pd.DataFrame()\n",
    "vif_deaths_5y_nox['VIF'] = [variance_inflation_factor(X.values, i) for i in range(X.shape[1])]\n",
    "vif_deaths_5y_nox['variable'] = X.columns\n",
    "print(vif_deaths_5y_nox)"
   ]
  },
  {
   "cell_type": "markdown",
   "metadata": {},
   "source": [
    "nox_5yAvg is a significant predictor for the expected number of deaths and it is a risk factor. There is no collinearity"
   ]
  },
  {
   "cell_type": "markdown",
   "metadata": {},
   "source": [
    "##### Investigate the imapact of 5-years-mean nitrogen dioxide (no2) on the expected number of deaths"
   ]
  },
  {
   "cell_type": "code",
   "execution_count": 60,
   "metadata": {},
   "outputs": [
    {
     "name": "stdout",
     "output_type": "stream",
     "text": [
      "                 Generalized Linear Model Regression Results                  \n",
      "==============================================================================\n",
      "Dep. Variable:                 deaths   No. Observations:                  312\n",
      "Model:                            GLM   Df Residuals:                      307\n",
      "Model Family:        NegativeBinomial   Df Model:                            4\n",
      "Link Function:                    log   Scale:                          1.0000\n",
      "Method:                          IRLS   Log-Likelihood:                -1416.2\n",
      "Date:                Fri, 01 Oct 2021   Deviance:                       347.30\n",
      "Time:                        22:43:11   Pearson chi2:                     433.\n",
      "No. Iterations:                     9                                         \n",
      "Covariance Type:            nonrobust                                         \n",
      "================================================================================\n",
      "                   coef    std err          z      P>|z|      [0.025      0.975]\n",
      "--------------------------------------------------------------------------------\n",
      "Intercept        5.5630      0.593      9.374      0.000       4.400       6.726\n",
      "pop_dens_5ya  6.765e-05    2.4e-05      2.822      0.005    2.07e-05       0.000\n",
      "earnings_5ya  2.992e-06   6.58e-06      0.455      0.649   -9.91e-06    1.59e-05\n",
      "age_5ya         -0.0594      0.012     -4.818      0.000      -0.084      -0.035\n",
      "no2_5yAvg        0.0244      0.009      2.861      0.004       0.008       0.041\n",
      "================================================================================\n",
      "          VIF      variable\n",
      "0  242.701370     Intercept\n",
      "1    2.531270  pop_dens_5ya\n",
      "2    1.202693  earnings_5ya\n",
      "3    2.342790       age_5ya\n",
      "4    2.591125     no2_5yAvg\n"
     ]
    }
   ],
   "source": [
    "no2_deaths_5YA_nb  = smf.glm(formula = \"deaths ~ pop_dens_5ya + earnings_5ya + age_5ya + no2_5yAvg\", data=merged_covid_air_dt_5YA, family=sm.families.NegativeBinomial(alpha = 0.4295533)).fit()\n",
    "print(no2_deaths_5YA_nb .summary())\n",
    "y, X = dmatrices(\"deaths ~ pop_dens_5ya + earnings_5ya + age_5ya + no2_5yAvg\", data=merged_covid_air_dt_5YA, return_type='dataframe')\n",
    "vif_deaths_5y_no2 = pd.DataFrame()\n",
    "vif_deaths_5y_no2['VIF'] = [variance_inflation_factor(X.values, i) for i in range(X.shape[1])]\n",
    "vif_deaths_5y_no2['variable'] = X.columns\n",
    "print(vif_deaths_5y_no2)"
   ]
  },
  {
   "cell_type": "markdown",
   "metadata": {},
   "source": [
    "no2_5yAvg is a significant predictor for the expected number of deaths and it is a risk factor. There is no collinearity"
   ]
  },
  {
   "cell_type": "markdown",
   "metadata": {},
   "source": [
    "##### Investigate the imapact of 5-years-mean ozone (o3) on the expected number of deaths"
   ]
  },
  {
   "cell_type": "code",
   "execution_count": 61,
   "metadata": {},
   "outputs": [
    {
     "name": "stdout",
     "output_type": "stream",
     "text": [
      "                 Generalized Linear Model Regression Results                  \n",
      "==============================================================================\n",
      "Dep. Variable:                 deaths   No. Observations:                  312\n",
      "Model:                            GLM   Df Residuals:                      307\n",
      "Model Family:        NegativeBinomial   Df Model:                            4\n",
      "Link Function:                    log   Scale:                          1.0000\n",
      "Method:                          IRLS   Log-Likelihood:                -1411.9\n",
      "Date:                Fri, 01 Oct 2021   Deviance:                       341.92\n",
      "Time:                        22:43:13   Pearson chi2:                     394.\n",
      "No. Iterations:                    10                                         \n",
      "Covariance Type:            nonrobust                                         \n",
      "================================================================================\n",
      "                   coef    std err          z      P>|z|      [0.025      0.975]\n",
      "--------------------------------------------------------------------------------\n",
      "Intercept        6.4723      0.501     12.922      0.000       5.491       7.454\n",
      "pop_dens_5ya  6.482e-05   2.31e-05      2.808      0.005    1.96e-05       0.000\n",
      "earnings_5ya  1.526e-05   6.81e-06      2.240      0.025    1.91e-06    2.86e-05\n",
      "age_5ya         -0.0672      0.011     -6.030      0.000      -0.089      -0.045\n",
      "o3_5yAvg        -0.1894      0.045     -4.248      0.000      -0.277      -0.102\n",
      "================================================================================\n",
      "          VIF      variable\n",
      "0  173.977664     Intercept\n",
      "1    2.361632  pop_dens_5ya\n",
      "2    1.302790  earnings_5ya\n",
      "3    1.922697       age_5ya\n",
      "4    1.382310      o3_5yAvg\n"
     ]
    }
   ],
   "source": [
    "o3_deaths_5YA_nb  = smf.glm(formula = \"deaths ~ pop_dens_5ya + earnings_5ya + age_5ya + o3_5yAvg\", data=merged_covid_air_dt_5YA, family=sm.families.NegativeBinomial(alpha = 0.4249894)).fit()\n",
    "print(o3_deaths_5YA_nb .summary())\n",
    "y, X = dmatrices(\"deaths ~ pop_dens_5ya + earnings_5ya + age_5ya + o3_5yAvg\", data=merged_covid_air_dt_5YA, return_type='dataframe')\n",
    "vif_deaths_5y_o3 = pd.DataFrame()\n",
    "vif_deaths_5y_o3['VIF'] = [variance_inflation_factor(X.values, i) for i in range(X.shape[1])]\n",
    "vif_deaths_5y_o3['variable'] = X.columns\n",
    "print(vif_deaths_5y_o3)"
   ]
  },
  {
   "cell_type": "markdown",
   "metadata": {},
   "source": [
    "o3_5yAvg is a significant predictor for the expected number of deaths and it is a proective factor. There is no collinearity"
   ]
  },
  {
   "cell_type": "markdown",
   "metadata": {},
   "source": [
    "##### Mortality rate: compute and visualize odds ratio"
   ]
  },
  {
   "cell_type": "code",
   "execution_count": 62,
   "metadata": {},
   "outputs": [],
   "source": [
    "deaths_pm10_5Y_or = pd.concat([np.exp(pm10_deaths_5YA_nb.params),np.exp(pm10_deaths_5YA_nb.conf_int()[0]),\n",
    "                               np.exp(pm10_deaths_5YA_nb.conf_int()[1]),pm10_deaths_5YA_nb.pvalues], axis=1,\n",
    "                       keys=['or', '0.025', '0.975', 'pvalue'])\n",
    "deaths_o3_5Y_or = pd.concat([np.exp(o3_deaths_5YA_nb.params),np.exp(o3_deaths_5YA_nb.conf_int()[0]),\n",
    "                             np.exp(o3_deaths_5YA_nb.conf_int()[1]),o3_deaths_5YA_nb.pvalues], axis=1,\n",
    "                       keys=['or', '0.025', '0.975', 'pvalue'])\n",
    "deaths_no2_5Y_or = pd.concat([np.exp(no2_deaths_5YA_nb.params),np.exp(no2_deaths_5YA_nb.conf_int()[0]),\n",
    "                              np.exp(no2_deaths_5YA_nb.conf_int()[1]),no2_deaths_5YA_nb.pvalues], axis=1,\n",
    "                       keys=['or', '0.025', '0.975', 'pvalue'])\n",
    "deaths_nox_5Y_or = pd.concat([np.exp(nox_deaths_5YA_nb.params),np.exp(nox_deaths_5YA_nb.conf_int()[0]),\n",
    "                              np.exp(nox_deaths_5YA_nb.conf_int()[1]),nox_deaths_5YA_nb.pvalues], axis=1,\n",
    "                       keys=['or', '0.025', '0.975', 'pvalue'])\n",
    "deaths_pm25_5Y_or = pd.concat([np.exp(pm25_deaths_5YA_nb.params),np.exp(pm25_deaths_5YA_nb.conf_int()[0]),\n",
    "                               np.exp(pm25_deaths_5YA_nb.conf_int()[1]),pm25_deaths_5YA_nb.pvalues], axis=1,\n",
    "                       keys=['or', '0.025', '0.975', 'pvalue'])\n"
   ]
  },
  {
   "cell_type": "code",
   "execution_count": 63,
   "metadata": {},
   "outputs": [
    {
     "data": {
      "text/html": [
       "<div>\n",
       "<style scoped>\n",
       "    .dataframe tbody tr th:only-of-type {\n",
       "        vertical-align: middle;\n",
       "    }\n",
       "\n",
       "    .dataframe tbody tr th {\n",
       "        vertical-align: top;\n",
       "    }\n",
       "\n",
       "    .dataframe thead th {\n",
       "        text-align: right;\n",
       "    }\n",
       "</style>\n",
       "<table border=\"1\" class=\"dataframe\">\n",
       "  <thead>\n",
       "    <tr style=\"text-align: right;\">\n",
       "      <th></th>\n",
       "      <th>or</th>\n",
       "      <th>0.025</th>\n",
       "      <th>0.975</th>\n",
       "      <th>pvalue</th>\n",
       "      <th>names</th>\n",
       "      <th>significance</th>\n",
       "    </tr>\n",
       "  </thead>\n",
       "  <tbody>\n",
       "    <tr>\n",
       "      <th>no2_5yAvg</th>\n",
       "      <td>1.024696</td>\n",
       "      <td>1.007714</td>\n",
       "      <td>1.041966</td>\n",
       "      <td>0.004221</td>\n",
       "      <td>no2_5yAvg</td>\n",
       "      <td>p-value &lt; 0.05</td>\n",
       "    </tr>\n",
       "    <tr>\n",
       "      <th>nox_5yAvg</th>\n",
       "      <td>1.014038</td>\n",
       "      <td>1.004445</td>\n",
       "      <td>1.023723</td>\n",
       "      <td>0.004048</td>\n",
       "      <td>nox_5yAvg</td>\n",
       "      <td>p-value &lt; 0.05</td>\n",
       "    </tr>\n",
       "    <tr>\n",
       "      <th>pm10_5yAvg</th>\n",
       "      <td>0.962899</td>\n",
       "      <td>0.924020</td>\n",
       "      <td>1.003415</td>\n",
       "      <td>0.072199</td>\n",
       "      <td>pm10_5yAvg</td>\n",
       "      <td>p-value &gt; 0.05</td>\n",
       "    </tr>\n",
       "    <tr>\n",
       "      <th>pm25_5yAvg</th>\n",
       "      <td>0.954196</td>\n",
       "      <td>0.895956</td>\n",
       "      <td>1.016222</td>\n",
       "      <td>0.144517</td>\n",
       "      <td>pm25_5yAvg</td>\n",
       "      <td>p-value &gt; 0.05</td>\n",
       "    </tr>\n",
       "    <tr>\n",
       "      <th>o3_5yAvg</th>\n",
       "      <td>0.827422</td>\n",
       "      <td>0.758175</td>\n",
       "      <td>0.902993</td>\n",
       "      <td>0.000022</td>\n",
       "      <td>o3_5yAvg</td>\n",
       "      <td>p-value &lt; 0.05</td>\n",
       "    </tr>\n",
       "  </tbody>\n",
       "</table>\n",
       "</div>"
      ],
      "text/plain": [
       "                  or     0.025     0.975    pvalue       names    significance\n",
       "no2_5yAvg   1.024696  1.007714  1.041966  0.004221   no2_5yAvg  p-value < 0.05\n",
       "nox_5yAvg   1.014038  1.004445  1.023723  0.004048   nox_5yAvg  p-value < 0.05\n",
       "pm10_5yAvg  0.962899  0.924020  1.003415  0.072199  pm10_5yAvg  p-value > 0.05\n",
       "pm25_5yAvg  0.954196  0.895956  1.016222  0.144517  pm25_5yAvg  p-value > 0.05\n",
       "o3_5yAvg    0.827422  0.758175  0.902993  0.000022    o3_5yAvg  p-value < 0.05"
      ]
     },
     "execution_count": 63,
     "metadata": {},
     "output_type": "execute_result"
    }
   ],
   "source": [
    "LA_covid_DEATHS_onlyPoll_5YA = pd.concat([deaths_pm10_5Y_or.iloc[deaths_pm10_5Y_or.shape[0]-1],\n",
    "                               deaths_o3_5Y_or.iloc[deaths_o3_5Y_or.shape[0]-1],\n",
    "                               deaths_no2_5Y_or.iloc[deaths_no2_5Y_or.shape[0]-1],\n",
    "                               deaths_nox_5Y_or.iloc[deaths_nox_5Y_or.shape[0]-1],\n",
    "                               deaths_pm25_5Y_or.iloc[deaths_pm25_5Y_or.shape[0]-1]], axis=1)\n",
    "LA_covid_DEATHS_onlyPoll_5YA = LA_covid_DEATHS_onlyPoll_5YA.transpose()\n",
    "LA_covid_DEATHS_onlyPoll_5YA['names'] = LA_covid_DEATHS_onlyPoll_5YA.index.values \n",
    "LA_covid_DEATHS_onlyPoll_5YA['significance'] = np.where(LA_covid_DEATHS_onlyPoll_5YA['pvalue'] < 0.05, 'p-value < 0.05', 'p-value > 0.05')\n",
    "LA_covid_DEATHS_onlyPoll_5YA = LA_covid_DEATHS_onlyPoll_5YA.sort_values(by=['or'], ascending = False)\n",
    "LA_covid_DEATHS_onlyPoll_5YA.to_csv(\"../data_out/LA_covid_DEATHS_onlyPoll_5YA.csv\")\n",
    "LA_covid_DEATHS_onlyPoll_5YA"
   ]
  },
  {
   "cell_type": "markdown",
   "metadata": {},
   "source": [
    "From the table we can conclude that pm_25 and pm_10 are not significant predictors for the number of deaths, while no2, nox and o3 have a significant impact.\n",
    "\n",
    "For a unit increase of nitrogen oxide, the expected number of deaths increases by 1.4%.\n",
    "For a unit incraese od nitrogen dioxide, the expected number of deaths increases by 2.4%.\n",
    "For a unit increase of ozone, the expected number of deaths decreases by 16.5%"
   ]
  },
  {
   "cell_type": "code",
   "execution_count": 64,
   "metadata": {},
   "outputs": [
    {
     "data": {
      "image/png": "[encoded data removed]",
      "text/plain": [
       "<Figure size 432x288 with 1 Axes>"
      ]
     },
     "metadata": {
      "needs_background": "light"
     },
     "output_type": "display_data"
    }
   ],
   "source": [
    "ax = sns.scatterplot(x=\"or\", y=\"names\", data=LA_covid_DEATHS_onlyPoll_5YA, hue=\"significance\")\n",
    "plt.xlim(0.7, 1.6)\n",
    "plt.axvline(x=1,linestyle =\"--\", linewidth=0.6, color = 'gray')\n",
    "plt.xlabel(\"Mortality rate ratios, pre-lockdown\")\n",
    "plt.ylabel(\"pollutants, 5 years average (2014-2018)\")\n",
    "xerr = [abs(LA_covid_DEATHS_onlyPoll_5YA['or'].values-LA_covid_DEATHS_onlyPoll_5YA['0.025'].values),\n",
    "        abs(LA_covid_DEATHS_onlyPoll_5YA['or'].values-LA_covid_DEATHS_onlyPoll_5YA['0.975'].values)]\n",
    "plt.errorbar(LA_covid_DEATHS_onlyPoll_5YA['or'], LA_covid_DEATHS_onlyPoll_5YA['names'], xerr = xerr, fmt = 'none', capsize=5, alpha=0.5)\n",
    "plt.savefig('../data_out/mortality_rate_avg.png')"
   ]
  },
  {
   "cell_type": "markdown",
   "metadata": {},
   "source": [
    "<a id='nbf_cases_5y'></a>\n",
    "### Fit negative binomial with averaged air poullution data for the years 2014-2018 with number of cases as dependent variable"
   ]
  },
  {
   "cell_type": "markdown",
   "metadata": {},
   "source": [
    "Import the dataset with data related to cases [cases_LA_raw]('..Data/datasets.ipynb#cases_LA_raw'). From this dataset we're interested only in date with speciment date in April 10. The variable of interest is 'cumulative la-vonfirmed cases'.\n",
    "\n",
    "We want to have the mean cases per area code."
   ]
  },
  {
   "cell_type": "code",
   "execution_count": 65,
   "metadata": {},
   "outputs": [
    {
     "data": {
      "text/html": [
       "<div>\n",
       "<style scoped>\n",
       "    .dataframe tbody tr th:only-of-type {\n",
       "        vertical-align: middle;\n",
       "    }\n",
       "\n",
       "    .dataframe tbody tr th {\n",
       "        vertical-align: top;\n",
       "    }\n",
       "\n",
       "    .dataframe thead th {\n",
       "        text-align: right;\n",
       "    }\n",
       "</style>\n",
       "<table border=\"1\" class=\"dataframe\">\n",
       "  <thead>\n",
       "    <tr style=\"text-align: right;\">\n",
       "      <th></th>\n",
       "      <th>Cumulative lab-confirmed cases</th>\n",
       "    </tr>\n",
       "    <tr>\n",
       "      <th>Area code</th>\n",
       "      <th></th>\n",
       "    </tr>\n",
       "  </thead>\n",
       "  <tbody>\n",
       "    <tr>\n",
       "      <th>E06000001</th>\n",
       "      <td>79</td>\n",
       "    </tr>\n",
       "    <tr>\n",
       "      <th>E06000002</th>\n",
       "      <td>272</td>\n",
       "    </tr>\n",
       "    <tr>\n",
       "      <th>E06000003</th>\n",
       "      <td>158</td>\n",
       "    </tr>\n",
       "    <tr>\n",
       "      <th>E06000004</th>\n",
       "      <td>199</td>\n",
       "    </tr>\n",
       "    <tr>\n",
       "      <th>E06000005</th>\n",
       "      <td>125</td>\n",
       "    </tr>\n",
       "  </tbody>\n",
       "</table>\n",
       "</div>"
      ],
      "text/plain": [
       "           Cumulative lab-confirmed cases\n",
       "Area code                                \n",
       "E06000001                              79\n",
       "E06000002                             272\n",
       "E06000003                             158\n",
       "E06000004                             199\n",
       "E06000005                             125"
      ]
     },
     "execution_count": 65,
     "metadata": {},
     "output_type": "execute_result"
    }
   ],
   "source": [
    "cases_LA_raw = pd.read_csv(\"%s/coronavirus-cases_latest-18_5_2020.csv\" %path)\n",
    "cases_LA_dt = cases_LA_raw.loc[cases_LA_raw[\"Specimen date\"]== \"2020-04-10\",[\"Area code\", \"Cumulative lab-confirmed cases\"]]\n",
    "cases_LA_dt = cases_LA_dt.groupby(['Area code']).mean()\n",
    "cases_LA_dt.head()"
   ]
  },
  {
   "cell_type": "markdown",
   "metadata": {},
   "source": [
    "Now a new dataset is created by merging the cases_LA_dt (with cases) and the covid_air_dt_5YA (with deaths) and then saved as csv"
   ]
  },
  {
   "cell_type": "code",
   "execution_count": 66,
   "metadata": {
    "scrolled": true
   },
   "outputs": [
    {
     "data": {
      "text/html": [
       "<div>\n",
       "<style scoped>\n",
       "    .dataframe tbody tr th:only-of-type {\n",
       "        vertical-align: middle;\n",
       "    }\n",
       "\n",
       "    .dataframe tbody tr th {\n",
       "        vertical-align: top;\n",
       "    }\n",
       "\n",
       "    .dataframe thead th {\n",
       "        text-align: right;\n",
       "    }\n",
       "</style>\n",
       "<table border=\"1\" class=\"dataframe\">\n",
       "  <thead>\n",
       "    <tr style=\"text-align: right;\">\n",
       "      <th></th>\n",
       "      <th>Code</th>\n",
       "      <th>deaths</th>\n",
       "      <th>2018 people per sq. km</th>\n",
       "      <th>Mean_ann_earnings</th>\n",
       "      <th>median_age_2018</th>\n",
       "      <th>pm25_5yAvg</th>\n",
       "      <th>no2_5yAvg</th>\n",
       "      <th>o3_5yAvg</th>\n",
       "      <th>pm10_5yAvg</th>\n",
       "      <th>nox_5yAvg</th>\n",
       "      <th>earnings_5ya</th>\n",
       "      <th>pop_dens_5ya</th>\n",
       "      <th>age_5ya</th>\n",
       "      <th>cases</th>\n",
       "    </tr>\n",
       "  </thead>\n",
       "  <tbody>\n",
       "    <tr>\n",
       "      <th>0</th>\n",
       "      <td>E06000001</td>\n",
       "      <td>20</td>\n",
       "      <td>997</td>\n",
       "      <td>25985.0</td>\n",
       "      <td>41.8</td>\n",
       "      <td>7.617911</td>\n",
       "      <td>14.359226</td>\n",
       "      <td>2.811139</td>\n",
       "      <td>11.625293</td>\n",
       "      <td>20.206839</td>\n",
       "      <td>24887.4</td>\n",
       "      <td>992</td>\n",
       "      <td>41.8</td>\n",
       "      <td>79</td>\n",
       "    </tr>\n",
       "    <tr>\n",
       "      <th>1</th>\n",
       "      <td>E06000002</td>\n",
       "      <td>60</td>\n",
       "      <td>2608</td>\n",
       "      <td>22878.0</td>\n",
       "      <td>36.2</td>\n",
       "      <td>8.342286</td>\n",
       "      <td>20.537654</td>\n",
       "      <td>2.240947</td>\n",
       "      <td>12.522083</td>\n",
       "      <td>30.628743</td>\n",
       "      <td>21543.4</td>\n",
       "      <td>2601</td>\n",
       "      <td>36.4</td>\n",
       "      <td>272</td>\n",
       "    </tr>\n",
       "    <tr>\n",
       "      <th>2</th>\n",
       "      <td>E06000003</td>\n",
       "      <td>26</td>\n",
       "      <td>558</td>\n",
       "      <td>23236.0</td>\n",
       "      <td>45.0</td>\n",
       "      <td>7.748073</td>\n",
       "      <td>8.440613</td>\n",
       "      <td>3.795747</td>\n",
       "      <td>12.845976</td>\n",
       "      <td>11.273612</td>\n",
       "      <td>22960.2</td>\n",
       "      <td>555</td>\n",
       "      <td>44.7</td>\n",
       "      <td>158</td>\n",
       "    </tr>\n",
       "    <tr>\n",
       "      <th>3</th>\n",
       "      <td>E06000004</td>\n",
       "      <td>26</td>\n",
       "      <td>962</td>\n",
       "      <td>26622.0</td>\n",
       "      <td>40.4</td>\n",
       "      <td>8.038180</td>\n",
       "      <td>16.408541</td>\n",
       "      <td>2.670293</td>\n",
       "      <td>12.169144</td>\n",
       "      <td>23.435383</td>\n",
       "      <td>24847.8</td>\n",
       "      <td>957</td>\n",
       "      <td>40.3</td>\n",
       "      <td>199</td>\n",
       "    </tr>\n",
       "    <tr>\n",
       "      <th>4</th>\n",
       "      <td>E06000005</td>\n",
       "      <td>14</td>\n",
       "      <td>540</td>\n",
       "      <td>26908.0</td>\n",
       "      <td>43.1</td>\n",
       "      <td>7.368713</td>\n",
       "      <td>12.552451</td>\n",
       "      <td>2.763806</td>\n",
       "      <td>11.199639</td>\n",
       "      <td>17.361185</td>\n",
       "      <td>25761.8</td>\n",
       "      <td>539</td>\n",
       "      <td>42.6</td>\n",
       "      <td>125</td>\n",
       "    </tr>\n",
       "  </tbody>\n",
       "</table>\n",
       "</div>"
      ],
      "text/plain": [
       "        Code  deaths  2018 people per sq. km  Mean_ann_earnings  \\\n",
       "0  E06000001      20                     997            25985.0   \n",
       "1  E06000002      60                    2608            22878.0   \n",
       "2  E06000003      26                     558            23236.0   \n",
       "3  E06000004      26                     962            26622.0   \n",
       "4  E06000005      14                     540            26908.0   \n",
       "\n",
       "   median_age_2018  pm25_5yAvg  no2_5yAvg  o3_5yAvg  pm10_5yAvg  nox_5yAvg  \\\n",
       "0             41.8    7.617911  14.359226  2.811139   11.625293  20.206839   \n",
       "1             36.2    8.342286  20.537654  2.240947   12.522083  30.628743   \n",
       "2             45.0    7.748073   8.440613  3.795747   12.845976  11.273612   \n",
       "3             40.4    8.038180  16.408541  2.670293   12.169144  23.435383   \n",
       "4             43.1    7.368713  12.552451  2.763806   11.199639  17.361185   \n",
       "\n",
       "   earnings_5ya  pop_dens_5ya  age_5ya  cases  \n",
       "0       24887.4           992     41.8     79  \n",
       "1       21543.4          2601     36.4    272  \n",
       "2       22960.2           555     44.7    158  \n",
       "3       24847.8           957     40.3    199  \n",
       "4       25761.8           539     42.6    125  "
      ]
     },
     "execution_count": 66,
     "metadata": {},
     "output_type": "execute_result"
    }
   ],
   "source": [
    "cases_deaths_5YA = pd.merge(merged_covid_air_dt_5YA,cases_LA_dt, left_on='Code', right_on='Area code').drop_duplicates()\n",
    "cases_deaths_5YA.to_csv(\"../data_out/cases_deaths_5YA.csv\")\n",
    "cases_deaths_5YA.rename(columns={'Cumulative lab-confirmed cases':'cases'}, inplace=True)\n",
    "cases_deaths_5YA.head()"
   ]
  },
  {
   "cell_type": "markdown",
   "metadata": {},
   "source": [
    "##### Investigate the imapact of 5-years-mean particulate matter with aerodynamic diamter <2.5 μm (pm25) on the expected number of cases"
   ]
  },
  {
   "cell_type": "code",
   "execution_count": 67,
   "metadata": {},
   "outputs": [
    {
     "name": "stdout",
     "output_type": "stream",
     "text": [
      "                 Generalized Linear Model Regression Results                  \n",
      "==============================================================================\n",
      "Dep. Variable:                  cases   No. Observations:                  283\n",
      "Model:                            GLM   Df Residuals:                      278\n",
      "Model Family:        NegativeBinomial   Df Model:                            4\n",
      "Link Function:                    log   Scale:                          1.0000\n",
      "Method:                          IRLS   Log-Likelihood:                -1721.7\n",
      "Date:                Fri, 01 Oct 2021   Deviance:                       278.22\n",
      "Time:                        22:43:28   Pearson chi2:                     324.\n",
      "No. Iterations:                     9                                         \n",
      "Covariance Type:            nonrobust                                         \n",
      "================================================================================\n",
      "                   coef    std err          z      P>|z|      [0.025      0.975]\n",
      "--------------------------------------------------------------------------------\n",
      "Intercept       10.0547      0.636     15.813      0.000       8.808      11.301\n",
      "pop_dens_5ya  9.918e-05   2.15e-05      4.622      0.000    5.71e-05       0.000\n",
      "earnings_5ya  6.008e-06   6.69e-06      0.899      0.369    -7.1e-06    1.91e-05\n",
      "age_5ya         -0.0949      0.012     -8.240      0.000      -0.117      -0.072\n",
      "pm25_5yAvg      -0.1225      0.032     -3.793      0.000      -0.186      -0.059\n",
      "================================================================================\n",
      "          VIF      variable\n",
      "0  284.821913     Intercept\n",
      "1    2.200933  pop_dens_5ya\n",
      "2    1.324283  earnings_5ya\n",
      "3    2.140548       age_5ya\n",
      "4    1.838498    pm25_5yAvg\n"
     ]
    }
   ],
   "source": [
    "pm25_cases_5YA_nb = smf.glm(formula = \"cases ~ pop_dens_5ya + earnings_5ya + age_5ya + pm25_5yAvg\", data = cases_deaths_5YA, family=sm.families.NegativeBinomial(alpha = 0.3963535)).fit()\n",
    "print(pm25_cases_5YA_nb.summary())\n",
    "y, X = dmatrices(\"cases ~ pop_dens_5ya + earnings_5ya + age_5ya + pm25_5yAvg\", data=cases_deaths_5YA, return_type='dataframe')\n",
    "vif_deaths_5y_pm25 = pd.DataFrame()\n",
    "vif_deaths_5y_pm25['VIF'] = [variance_inflation_factor(X.values, i) for i in range(X.shape[1])]\n",
    "vif_deaths_5y_pm25['variable'] = X.columns\n",
    "print(vif_deaths_5y_pm25)"
   ]
  },
  {
   "cell_type": "markdown",
   "metadata": {},
   "source": [
    "pm25 is significant with a protective effect. There is no collinearity"
   ]
  },
  {
   "cell_type": "code",
   "execution_count": 68,
   "metadata": {
    "scrolled": true
   },
   "outputs": [
    {
     "name": "stdout",
     "output_type": "stream",
     "text": [
      "                 Generalized Linear Model Regression Results                  \n",
      "==============================================================================\n",
      "Dep. Variable:                  cases   No. Observations:                  283\n",
      "Model:                            GLM   Df Residuals:                      278\n",
      "Model Family:        NegativeBinomial   Df Model:                            4\n",
      "Link Function:                    log   Scale:                          1.0000\n",
      "Method:                          IRLS   Log-Likelihood:                -1720.5\n",
      "Date:                Fri, 01 Oct 2021   Deviance:                       280.47\n",
      "Time:                        22:43:29   Pearson chi2:                     324.\n",
      "No. Iterations:                     9                                         \n",
      "Covariance Type:            nonrobust                                         \n",
      "================================================================================\n",
      "                   coef    std err          z      P>|z|      [0.025      0.975]\n",
      "--------------------------------------------------------------------------------\n",
      "Intercept        9.9502      0.596     16.699      0.000       8.782      11.118\n",
      "pop_dens_5ya     0.0001   2.14e-05      4.810      0.000     6.1e-05       0.000\n",
      "earnings_5ya  5.301e-06   6.54e-06      0.811      0.418   -7.52e-06    1.81e-05\n",
      "age_5ya         -0.0908      0.011     -8.221      0.000      -0.112      -0.069\n",
      "pm10_5yAvg      -0.0856      0.021     -4.117      0.000      -0.126      -0.045\n",
      "================================================================================\n",
      "          VIF      variable\n",
      "0  253.974807     Intercept\n",
      "1    2.225899  pop_dens_5ya\n",
      "2    1.287302  earnings_5ya\n",
      "3    1.996885       age_5ya\n",
      "4    1.597066    pm10_5yAvg\n"
     ]
    }
   ],
   "source": [
    "pm10_cases_5YA_nb = smf.glm(formula = \"cases ~ pop_dens_5ya + earnings_5ya + age_5ya + pm10_5yAvg\", data = cases_deaths_5YA, family=sm.families.NegativeBinomial(alpha=0.39)).fit()\n",
    "print(pm10_cases_5YA_nb.summary())\n",
    "y, X = dmatrices(\"cases ~ pop_dens_5ya + earnings_5ya + age_5ya + pm10_5yAvg\", data=cases_deaths_5YA, return_type='dataframe')\n",
    "vif_deaths_5y_pm10 = pd.DataFrame()\n",
    "vif_deaths_5y_pm10['VIF'] = [variance_inflation_factor(X.values, i) for i in range(X.shape[1])]\n",
    "vif_deaths_5y_pm10['variable'] = X.columns\n",
    "print(vif_deaths_5y_pm10)"
   ]
  },
  {
   "cell_type": "markdown",
   "metadata": {},
   "source": [
    "pm10 is significant with a protective effect. There is no collinearity"
   ]
  },
  {
   "cell_type": "code",
   "execution_count": 69,
   "metadata": {},
   "outputs": [
    {
     "name": "stdout",
     "output_type": "stream",
     "text": [
      "                 Generalized Linear Model Regression Results                  \n",
      "==============================================================================\n",
      "Dep. Variable:                  cases   No. Observations:                  283\n",
      "Model:                            GLM   Df Residuals:                      278\n",
      "Model Family:        NegativeBinomial   Df Model:                            4\n",
      "Link Function:                    log   Scale:                          1.0000\n",
      "Method:                          IRLS   Log-Likelihood:                -1724.3\n",
      "Date:                Fri, 01 Oct 2021   Deviance:                       288.23\n",
      "Time:                        22:43:31   Pearson chi2:                     384.\n",
      "No. Iterations:                    10                                         \n",
      "Covariance Type:            nonrobust                                         \n",
      "================================================================================\n",
      "                   coef    std err          z      P>|z|      [0.025      0.975]\n",
      "--------------------------------------------------------------------------------\n",
      "Intercept        7.4130      0.564     13.139      0.000       6.307       8.519\n",
      "pop_dens_5ya  4.973e-05   2.39e-05      2.078      0.038    2.83e-06    9.66e-05\n",
      "earnings_5ya -4.148e-06   6.27e-06     -0.661      0.509   -1.64e-05    8.15e-06\n",
      "age_5ya         -0.0586      0.012     -4.935      0.000      -0.082      -0.035\n",
      "nox_5yAvg        0.0148      0.005      2.979      0.003       0.005       0.025\n",
      "================================================================================\n",
      "          VIF      variable\n",
      "0  228.469262     Intercept\n",
      "1    2.782403  pop_dens_5ya\n",
      "2    1.185113  earnings_5ya\n",
      "3    2.318437       age_5ya\n",
      "4    2.919283     nox_5yAvg\n"
     ]
    }
   ],
   "source": [
    "nox_cases_5YA_nb = smf.glm(formula = \"cases ~ pop_dens_5ya + earnings_5ya + age_5ya + nox_5yAvg\", data = cases_deaths_5YA, family=sm.families.NegativeBinomial(alpha=0.39)).fit()\n",
    "print(nox_cases_5YA_nb.summary())\n",
    "y, X = dmatrices(\"cases ~ pop_dens_5ya + earnings_5ya + age_5ya + nox_5yAvg\", data=cases_deaths_5YA, return_type='dataframe')\n",
    "vif_deaths_5y_nox = pd.DataFrame()\n",
    "vif_deaths_5y_nox['VIF'] = [variance_inflation_factor(X.values, i) for i in range(X.shape[1])]\n",
    "vif_deaths_5y_nox['variable'] = X.columns\n",
    "print(vif_deaths_5y_nox)"
   ]
  },
  {
   "cell_type": "markdown",
   "metadata": {},
   "source": [
    "nox is a significative risk factor. There is no collinearity"
   ]
  },
  {
   "cell_type": "code",
   "execution_count": 70,
   "metadata": {},
   "outputs": [
    {
     "name": "stdout",
     "output_type": "stream",
     "text": [
      "                 Generalized Linear Model Regression Results                  \n",
      "==============================================================================\n",
      "Dep. Variable:                  cases   No. Observations:                  283\n",
      "Model:                            GLM   Df Residuals:                      278\n",
      "Model Family:        NegativeBinomial   Df Model:                            4\n",
      "Link Function:                    log   Scale:                          1.0000\n",
      "Method:                          IRLS   Log-Likelihood:                -1724.3\n",
      "Date:                Fri, 01 Oct 2021   Deviance:                       288.23\n",
      "Time:                        22:43:34   Pearson chi2:                     387.\n",
      "No. Iterations:                    11                                         \n",
      "Covariance Type:            nonrobust                                         \n",
      "================================================================================\n",
      "                   coef    std err          z      P>|z|      [0.025      0.975]\n",
      "--------------------------------------------------------------------------------\n",
      "Intercept        7.2488      0.603     12.031      0.000       6.068       8.430\n",
      "pop_dens_5ya  5.499e-05   2.31e-05      2.379      0.017    9.68e-06       0.000\n",
      "earnings_5ya -4.144e-06   6.27e-06     -0.661      0.509   -1.64e-05    8.14e-06\n",
      "age_5ya         -0.0563      0.012     -4.566      0.000      -0.081      -0.032\n",
      "no2_5yAvg        0.0258      0.009      2.902      0.004       0.008       0.043\n",
      "================================================================================\n",
      "          VIF      variable\n",
      "0  260.508312     Intercept\n",
      "1    2.595346  pop_dens_5ya\n",
      "2    1.182653  earnings_5ya\n",
      "3    2.500494       age_5ya\n",
      "4    2.906125     no2_5yAvg\n"
     ]
    }
   ],
   "source": [
    "no2_cases_5YA_nb = smf.glm(formula = \"cases ~ pop_dens_5ya + earnings_5ya + age_5ya + no2_5yAvg\", data = cases_deaths_5YA, family=sm.families.NegativeBinomial(alpha=0.39)).fit()\n",
    "print(no2_cases_5YA_nb.summary())\n",
    "y, X = dmatrices(\"cases ~ pop_dens_5ya + earnings_5ya + age_5ya + no2_5yAvg\", data=cases_deaths_5YA, return_type='dataframe')\n",
    "vif_deaths_5y_no2 = pd.DataFrame()\n",
    "vif_deaths_5y_no2['VIF'] = [variance_inflation_factor(X.values, i) for i in range(X.shape[1])]\n",
    "vif_deaths_5y_no2['variable'] = X.columns\n",
    "print(vif_deaths_5y_no2)"
   ]
  },
  {
   "cell_type": "code",
   "execution_count": 71,
   "metadata": {},
   "outputs": [
    {
     "name": "stdout",
     "output_type": "stream",
     "text": [
      "                 Generalized Linear Model Regression Results                  \n",
      "==============================================================================\n",
      "Dep. Variable:                  cases   No. Observations:                  283\n",
      "Model:                            GLM   Df Residuals:                      278\n",
      "Model Family:        NegativeBinomial   Df Model:                            4\n",
      "Link Function:                    log   Scale:                          1.0000\n",
      "Method:                          IRLS   Log-Likelihood:                -1710.3\n",
      "Date:                Fri, 01 Oct 2021   Deviance:                       260.22\n",
      "Time:                        22:43:35   Pearson chi2:                     313.\n",
      "No. Iterations:                     8                                         \n",
      "Covariance Type:            nonrobust                                         \n",
      "================================================================================\n",
      "                   coef    std err          z      P>|z|      [0.025      0.975]\n",
      "--------------------------------------------------------------------------------\n",
      "Intercept        8.1759      0.487     16.775      0.000       7.221       9.131\n",
      "pop_dens_5ya  4.214e-05   2.21e-05      1.910      0.056   -1.11e-06    8.54e-05\n",
      "earnings_5ya  1.206e-05   6.56e-06      1.839      0.066   -7.94e-07    2.49e-05\n",
      "age_5ya         -0.0615      0.011     -5.625      0.000      -0.083      -0.040\n",
      "o3_5yAvg        -0.2585      0.043     -5.955      0.000      -0.344      -0.173\n",
      "================================================================================\n",
      "          VIF      variable\n",
      "0  170.183101     Intercept\n",
      "1    2.361722  pop_dens_5ya\n",
      "2    1.293784  earnings_5ya\n",
      "3    1.958878       age_5ya\n",
      "4    1.438896      o3_5yAvg\n"
     ]
    }
   ],
   "source": [
    "o3_cases_5YA_nb = smf.glm(formula = \"cases ~ pop_dens_5ya + earnings_5ya + age_5ya + o3_5yAvg\", data = cases_deaths_5YA, family=sm.families.NegativeBinomial(alpha=0.39)).fit()\n",
    "print(o3_cases_5YA_nb.summary())\n",
    "y, X = dmatrices(\"cases ~ pop_dens_5ya + earnings_5ya + age_5ya + o3_5yAvg\", data=cases_deaths_5YA, return_type='dataframe')\n",
    "vif_deaths_5y_o3 = pd.DataFrame()\n",
    "vif_deaths_5y_o3['VIF'] = [variance_inflation_factor(X.values, i) for i in range(X.shape[1])]\n",
    "vif_deaths_5y_o3['variable'] = X.columns\n",
    "print(vif_deaths_5y_o3)"
   ]
  },
  {
   "cell_type": "code",
   "execution_count": 72,
   "metadata": {},
   "outputs": [],
   "source": [
    "cases_pm10_5Y_or = pd.concat([np.exp(pm10_cases_5YA_nb.params),np.exp(pm10_cases_5YA_nb.conf_int()[0]),\n",
    "                               np.exp(pm10_cases_5YA_nb.conf_int()[1]),pm10_cases_5YA_nb.pvalues], axis=1,\n",
    "                       keys=['or', '0.025', '0.975', 'pvalue'])\n",
    "cases_o3_5Y_or = pd.concat([np.exp(o3_cases_5YA_nb.params),np.exp(o3_cases_5YA_nb.conf_int()[0]),\n",
    "                             np.exp(o3_cases_5YA_nb.conf_int()[1]),o3_cases_5YA_nb.pvalues], axis=1,\n",
    "                       keys=['or', '0.025', '0.975', 'pvalue'])\n",
    "cases_no2_5Y_or = pd.concat([np.exp(no2_cases_5YA_nb.params),np.exp(no2_cases_5YA_nb.conf_int()[0]),\n",
    "                              np.exp(no2_cases_5YA_nb.conf_int()[1]),no2_cases_5YA_nb.pvalues], axis=1,\n",
    "                       keys=['or', '0.025', '0.975', 'pvalue'])\n",
    "cases_nox_5Y_or = pd.concat([np.exp(nox_cases_5YA_nb.params),np.exp(nox_cases_5YA_nb.conf_int()[0]),\n",
    "                              np.exp(nox_cases_5YA_nb.conf_int()[1]),nox_cases_5YA_nb.pvalues], axis=1,\n",
    "                       keys=['or', '0.025', '0.975', 'pvalue'])\n",
    "cases_pm25_5Y_or = pd.concat([np.exp(pm25_cases_5YA_nb.params),np.exp(pm25_cases_5YA_nb.conf_int()[0]),\n",
    "                               np.exp(pm25_cases_5YA_nb.conf_int()[1]),pm25_cases_5YA_nb.pvalues], axis=1,\n",
    "                       keys=['or', '0.025', '0.975', 'pvalue'])"
   ]
  },
  {
   "cell_type": "code",
   "execution_count": 102,
   "metadata": {},
   "outputs": [
    {
     "data": {
      "text/html": [
       "<div>\n",
       "<style scoped>\n",
       "    .dataframe tbody tr th:only-of-type {\n",
       "        vertical-align: middle;\n",
       "    }\n",
       "\n",
       "    .dataframe tbody tr th {\n",
       "        vertical-align: top;\n",
       "    }\n",
       "\n",
       "    .dataframe thead th {\n",
       "        text-align: right;\n",
       "    }\n",
       "</style>\n",
       "<table border=\"1\" class=\"dataframe\">\n",
       "  <thead>\n",
       "    <tr style=\"text-align: right;\">\n",
       "      <th></th>\n",
       "      <th>or</th>\n",
       "      <th>0.025</th>\n",
       "      <th>0.975</th>\n",
       "      <th>pvalue</th>\n",
       "      <th>names</th>\n",
       "      <th>significance</th>\n",
       "    </tr>\n",
       "  </thead>\n",
       "  <tbody>\n",
       "    <tr>\n",
       "      <th>no2_5yAvg</th>\n",
       "      <td>1.026130</td>\n",
       "      <td>1.008407</td>\n",
       "      <td>1.044166</td>\n",
       "      <td>3.711532e-03</td>\n",
       "      <td>no2_5yAvg</td>\n",
       "      <td>p-value &lt; 0.05</td>\n",
       "    </tr>\n",
       "    <tr>\n",
       "      <th>nox_5yAvg</th>\n",
       "      <td>1.014934</td>\n",
       "      <td>1.005084</td>\n",
       "      <td>1.024881</td>\n",
       "      <td>2.890467e-03</td>\n",
       "      <td>nox_5yAvg</td>\n",
       "      <td>p-value &lt; 0.05</td>\n",
       "    </tr>\n",
       "    <tr>\n",
       "      <th>pm10_5yAvg</th>\n",
       "      <td>0.917919</td>\n",
       "      <td>0.881246</td>\n",
       "      <td>0.956117</td>\n",
       "      <td>3.835612e-05</td>\n",
       "      <td>pm10_5yAvg</td>\n",
       "      <td>p-value &lt; 0.05</td>\n",
       "    </tr>\n",
       "    <tr>\n",
       "      <th>pm25_5yAvg</th>\n",
       "      <td>0.884735</td>\n",
       "      <td>0.830475</td>\n",
       "      <td>0.942541</td>\n",
       "      <td>1.491242e-04</td>\n",
       "      <td>pm25_5yAvg</td>\n",
       "      <td>p-value &lt; 0.05</td>\n",
       "    </tr>\n",
       "    <tr>\n",
       "      <th>o3_5yAvg</th>\n",
       "      <td>0.772175</td>\n",
       "      <td>0.709183</td>\n",
       "      <td>0.840763</td>\n",
       "      <td>2.604744e-09</td>\n",
       "      <td>o3_5yAvg</td>\n",
       "      <td>p-value &lt; 0.05</td>\n",
       "    </tr>\n",
       "  </tbody>\n",
       "</table>\n",
       "</div>"
      ],
      "text/plain": [
       "                  or     0.025     0.975        pvalue       names  \\\n",
       "no2_5yAvg   1.026130  1.008407  1.044166  3.711532e-03   no2_5yAvg   \n",
       "nox_5yAvg   1.014934  1.005084  1.024881  2.890467e-03   nox_5yAvg   \n",
       "pm10_5yAvg  0.917919  0.881246  0.956117  3.835612e-05  pm10_5yAvg   \n",
       "pm25_5yAvg  0.884735  0.830475  0.942541  1.491242e-04  pm25_5yAvg   \n",
       "o3_5yAvg    0.772175  0.709183  0.840763  2.604744e-09    o3_5yAvg   \n",
       "\n",
       "              significance  \n",
       "no2_5yAvg   p-value < 0.05  \n",
       "nox_5yAvg   p-value < 0.05  \n",
       "pm10_5yAvg  p-value < 0.05  \n",
       "pm25_5yAvg  p-value < 0.05  \n",
       "o3_5yAvg    p-value < 0.05  "
      ]
     },
     "execution_count": 102,
     "metadata": {},
     "output_type": "execute_result"
    }
   ],
   "source": [
    "LA_covid_cases_onlyPoll_5YA = pd.concat([cases_pm10_5Y_or.iloc[cases_pm10_5Y_or.shape[0]-1],\n",
    "                               cases_o3_5Y_or.iloc[cases_o3_5Y_or.shape[0]-1],\n",
    "                               cases_no2_5Y_or.iloc[cases_no2_5Y_or.shape[0]-1],\n",
    "                               cases_nox_5Y_or.iloc[cases_nox_5Y_or.shape[0]-1],\n",
    "                               cases_pm25_5Y_or.iloc[cases_pm25_5Y_or.shape[0]-1]], axis=1)\n",
    "LA_covid_cases_onlyPoll_5YA = LA_covid_cases_onlyPoll_5YA.transpose()\n",
    "LA_covid_cases_onlyPoll_5YA['names'] = LA_covid_cases_onlyPoll_5YA.index.values \n",
    "LA_covid_cases_onlyPoll_5YA['significance'] = np.where(LA_covid_cases_onlyPoll_5YA['pvalue'] < 0.05, 'p-value < 0.05', 'p-value > 0.05')\n",
    "LA_covid_cases_onlyPoll_5YA = LA_covid_cases_onlyPoll_5YA.sort_values(by=['or'], ascending = False)\n",
    "#LA_covid_cases_onlyPoll_5YA.to_csv(\"../data_out/LA_covid_cases_onlyPoll_5YA.csv.csv\")\n",
    "LA_covid_cases_onlyPoll_5YA"
   ]
  },
  {
   "cell_type": "code",
   "execution_count": 75,
   "metadata": {},
   "outputs": [
    {
     "data": {
      "image/png": "[encoded data removed]",
      "text/plain": [
       "<Figure size 432x288 with 1 Axes>"
      ]
     },
     "metadata": {
      "needs_background": "light"
     },
     "output_type": "display_data"
    }
   ],
   "source": [
    "ax = sns.scatterplot(x=\"or\", y=\"names\", data=LA_covid_cases_onlyPoll_5YA, hue=\"significance\")\n",
    "plt.axvline(x=1,linestyle =\"--\", linewidth=0.6, color = 'gray')\n",
    "plt.xlabel(\"Infectivity rate ratios, pre-lockdown\")\n",
    "plt.ylabel(\"pollutants, 5 years average (2014-2018)\")\n",
    "xerr = [abs(LA_covid_cases_onlyPoll_5YA['or'].values-LA_covid_cases_onlyPoll_5YA['0.025'].values),\n",
    "        abs(LA_covid_cases_onlyPoll_5YA['or'].values-LA_covid_cases_onlyPoll_5YA['0.975'].values)]\n",
    "plt.errorbar(LA_covid_cases_onlyPoll_5YA['or'], LA_covid_cases_onlyPoll_5YA['names'], xerr = xerr, fmt = 'none', capsize=5, alpha=0.5)\n",
    "plt.savefig('../data_out/infectivity_rate_avg.png')"
   ]
  }
 ],
 "metadata": {
  "kernelspec": {
   "display_name": "Python 3",
   "language": "python",
   "name": "python3"
  },
  "language_info": {
   "codemirror_mode": {
    "name": "ipython",
    "version": 3
   },
   "file_extension": ".py",
   "mimetype": "text/x-python",
   "name": "python",
   "nbconvert_exporter": "python",
   "pygments_lexer": "ipython3",
   "version": "3.8.5"
  }
 },
 "nbformat": 4,
 "nbformat_minor": 4
}
